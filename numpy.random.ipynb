{
 "cells": [
  {
   "cell_type": "markdown",
   "id": "65341e4e-d15c-4339-b79d-54a38b2edf98",
   "metadata": {},
   "source": [
    "# The numpy.random package"
   ]
  },
  {
   "cell_type": "markdown",
   "id": "a3968f53-7ee3-4c3e-992a-63f336ac6caf",
   "metadata": {},
   "source": [
    "## Overall purpose of the numpy.random package \n",
    "\n",
    "NumPy is the fundamental package for scientific computing in Python. It is a Python library that provides a multidimensional array object, various derived objects (such as masked arrays and matrices), and an assortment of routines for fast operations on arrays, including mathematical, logical, shape manipulation, sorting, selecting, I/O, discrete Fourier transforms, basic linear algebra, basic statistical operations, random simulation and much more.\n",
    "\n",
    "NumPy (Numerical Python) is an open source Python library that’s used in almost every field of science and engineering. It’s the universal standard for working with numerical data in Python, and it’s at the core of the scientific Python and PyData ecosystems. NumPy users include everyone from beginning coders to experienced researchers doing state-of-the-art scientific and industrial research and development. The NumPy API is used extensively in Pandas, SciPy, Matplotlib, scikit-learn, scikit-image and most other data science and scientific Python packages.\n",
    "\n",
    "The NumPy library contains multidimensional array and matrix data structures. It provides ndarray, a homogeneous n-dimensional array object, with methods to efficiently operate on it. NumPy can be used to perform a wide variety of mathematical operations on arrays. It adds powerful data structures to Python that guarantee efficient calculations with arrays and matrices and it supplies an enormous library of high-level mathematical functions that operate on these arrays and matrices.[1]\n",
    "\n",
    "Numpy random function is a module inside the numpy library. Random number does NOT mean a different number every time. Random means something that can not be predicted logically.Computers work on programs, and programs are definitive set of instructions. So it means there must be some algorithm to generate a random number as well.\n",
    "\n",
    "If there is a program to generate random number it can be predicted, thus it is not truly random.\n",
    "\n",
    "Random numbers generated through a generation algorithm are called pseudo random.\n",
    "\n"
   ]
  },
  {
   "cell_type": "markdown",
   "id": "37e07d03-c604-4023-96cb-cb5582c421a6",
   "metadata": {},
   "source": [
    "## Simple Random Data using the numPY package:"
   ]
  },
  {
   "cell_type": "markdown",
   "id": "33976a17-746e-4ab9-8b56-dd2078c2babf",
   "metadata": {},
   "source": [
    "Numpy’s random number routines produce pseudo random numbers using combinations of a BitGenerator to create sequences and a Generator to use those sequences to sample from different statistical distributions.\n",
    "\n",
    "Generators are defined on the Numpy random package API as Objects that transform sequences of random bits from a BitGenerator into sequences of numbers that follow a specific probability distribution (such as uniform, Normal or Binomial) within a specified interval.(6)\n",
    "\n",
    "In recent months the numpy random package has made a change to their package in regards the random number genertor (RNG) and the way that seeds are generated. Previously the pseudorandom number generator used in the numpy random package was the Mersenne Twister(MT19937) algorithm.  This algorithm has been updated to use bits provided by the PCG64 (Permuted Congruential Generator) Algorithm.\n",
    "\n",
    "\n",
    "By default, Generator uses bits provided by PCG64 which has better statistical properties than the legacy Mersenne Twister MT19937 used in RandomState."
   ]
  },
  {
   "cell_type": "code",
   "execution_count": 106,
   "id": "a51cd944-844e-4b32-87e6-619bd4fd9b10",
   "metadata": {},
   "outputs": [],
   "source": [
    "from numpy.random import default_rng\n",
    "rng = default_rng()\n",
    "vals = rng.standard_normal(10)\n",
    "more_vals = rng.standard_normal(10)"
   ]
  },
  {
   "cell_type": "code",
   "execution_count": 109,
   "id": "0696c619-dbaa-490c-8478-e1d2358c651a",
   "metadata": {},
   "outputs": [
    {
     "data": {
      "text/plain": [
       "array([ 0.42249179, -0.70980551, -1.57654797,  1.24277087,  0.59001889,\n",
       "       -0.80223082, -0.01011866,  1.11124682,  0.05691044, -0.29876138])"
      ]
     },
     "execution_count": 109,
     "metadata": {},
     "output_type": "execute_result"
    }
   ],
   "source": [
    "more_vals"
   ]
  },
  {
   "cell_type": "code",
   "execution_count": 110,
   "id": "3b875f21-17a7-4736-a2ba-268fd4523f89",
   "metadata": {},
   "outputs": [
    {
     "data": {
      "text/plain": [
       "array([ 0.4683789 ,  1.57004751,  0.70475688,  2.43134302, -1.01758774,\n",
       "       -1.18223012,  0.2153418 , -2.31694415,  0.07960234, -0.76906249])"
      ]
     },
     "execution_count": 110,
     "metadata": {},
     "output_type": "execute_result"
    }
   ],
   "source": [
    "vals"
   ]
  },
  {
   "cell_type": "code",
   "execution_count": null,
   "id": "c901f68d-0e6d-43fe-8923-a112d3c21715",
   "metadata": {},
   "outputs": [],
   "source": []
  },
  {
   "cell_type": "markdown",
   "id": "e2e8bf6f-ad07-4365-a7b7-f76930182bb3",
   "metadata": {},
   "source": [
    "### Simple random data function on numPY\n",
    "\n",
    "#### Random Generator NumPy v1.21:\n",
    "\n",
    "The Generator provides access to a wide range of distributions, and served as a replacement for RandomState. The main difference between the two is that Generator relies on an additional BitGenerator to manage state and generate the random bits, which are then transformed into random values from useful distributions. The default BitGenerator used by Generator is PCG64. The BitGenerator can be changed by passing an instantized BitGenerator to Generator.\n",
    "\n",
    "\n",
    "numpy.random.default_rng()\n",
    "\n",
    "\n"
   ]
  },
  {
   "cell_type": "code",
   "execution_count": 2,
   "id": "b23c52fe-c6f8-48cc-8d99-3eefee414859",
   "metadata": {},
   "outputs": [],
   "source": [
    "# Efficient numerical arrays.\n",
    "import numpy as np\n",
    "from numpy import random\n",
    "\n",
    "\n",
    "# Plotting.\n",
    "import matplotlib.pyplot as plt\n"
   ]
  },
  {
   "cell_type": "code",
   "execution_count": 3,
   "id": "a8406ae5-edfb-4c08-a94f-0dce54395642",
   "metadata": {},
   "outputs": [
    {
     "data": {
      "text/plain": [
       "0.04349653497503858"
      ]
     },
     "execution_count": 3,
     "metadata": {},
     "output_type": "execute_result"
    }
   ],
   "source": [
    "np.random.random(size=None)"
   ]
  },
  {
   "cell_type": "markdown",
   "id": "e4480a23-81da-48b7-a2c7-a7a6933d3b54",
   "metadata": {},
   "source": [
    "### Practice from the new Numpy Documentation[2]\n",
    "\n",
    "https://numpy.org/doc/1.21/"
   ]
  },
  {
   "cell_type": "code",
   "execution_count": 4,
   "id": "3779ac99-e68f-4d0d-8d98-7a1170187031",
   "metadata": {},
   "outputs": [],
   "source": [
    "rng = np.random.default_rng()\n",
    "# This initiates a 'Generator' object"
   ]
  },
  {
   "cell_type": "code",
   "execution_count": 5,
   "id": "53156673-1363-4146-95ba-673a739e6e3b",
   "metadata": {},
   "outputs": [
    {
     "data": {
      "text/plain": [
       "numpy.random._generator.Generator"
      ]
     },
     "execution_count": 5,
     "metadata": {},
     "output_type": "execute_result"
    }
   ],
   "source": [
    "type(rng)"
   ]
  },
  {
   "cell_type": "code",
   "execution_count": 6,
   "id": "0c599e98-f19b-4a59-a874-f066493a7cbf",
   "metadata": {},
   "outputs": [
    {
     "data": {
      "text/plain": [
       "Generator(PCG64) at 0x26BA679E4A0"
      ]
     },
     "execution_count": 6,
     "metadata": {},
     "output_type": "execute_result"
    }
   ],
   "source": [
    "rng"
   ]
  },
  {
   "cell_type": "markdown",
   "id": "7c8e7790-3100-4853-9f2b-83606e0b237c",
   "metadata": {},
   "source": [
    "[1](https://numpy.org/doc/stable/user/absolute_beginners.html)"
   ]
  },
  {
   "cell_type": "code",
   "execution_count": 7,
   "id": "a65317d5-c8ca-4ae1-b8cd-c3fa256ef8e3",
   "metadata": {},
   "outputs": [
    {
     "data": {
      "text/plain": [
       "array([0, 0, 0, 0, 1, 0, 0, 0, 1, 1, 1, 0, 1, 1, 0, 1, 0, 0, 0, 0],\n",
       "      dtype=int64)"
      ]
     },
     "execution_count": 7,
     "metadata": {},
     "output_type": "execute_result"
    }
   ],
   "source": [
    "#\n",
    "rng.choice(2, size=20)"
   ]
  },
  {
   "cell_type": "code",
   "execution_count": 8,
   "id": "00e05001-b641-46ee-8adb-4d4eabca9470",
   "metadata": {},
   "outputs": [
    {
     "data": {
      "text/plain": [
       "0.021733967557711398"
      ]
     },
     "execution_count": 8,
     "metadata": {},
     "output_type": "execute_result"
    }
   ],
   "source": [
    "rng.random()"
   ]
  },
  {
   "cell_type": "code",
   "execution_count": 9,
   "id": "9dd90586-44b5-46c6-95f0-bf5ec0a9f8d1",
   "metadata": {},
   "outputs": [
    {
     "data": {
      "text/plain": [
       "float"
      ]
     },
     "execution_count": 9,
     "metadata": {},
     "output_type": "execute_result"
    }
   ],
   "source": [
    "type(rng.random())"
   ]
  },
  {
   "cell_type": "code",
   "execution_count": 10,
   "id": "202217cb-8072-4a46-ad0b-91659305c057",
   "metadata": {},
   "outputs": [
    {
     "data": {
      "text/plain": [
       "array([0.86361572, 0.62168023, 0.0944921 , 0.66989053, 0.77001018])"
      ]
     },
     "execution_count": 10,
     "metadata": {},
     "output_type": "execute_result"
    }
   ],
   "source": [
    "rng.random((5,))"
   ]
  },
  {
   "cell_type": "code",
   "execution_count": 11,
   "id": "d2c7ce19-1c6b-4595-9363-fd77ce40f44d",
   "metadata": {},
   "outputs": [
    {
     "data": {
      "text/plain": [
       "array([[-2.32970758, -1.66857258],\n",
       "       [-4.21517167, -0.44047435],\n",
       "       [-2.3908498 , -4.30540313]])"
      ]
     },
     "execution_count": 11,
     "metadata": {},
     "output_type": "execute_result"
    }
   ],
   "source": [
    "5 * rng.random((3, 2)) - 5\n",
    "#Three-by-two array of random numbers from [-5, 0):"
   ]
  },
  {
   "cell_type": "code",
   "execution_count": 12,
   "id": "b6513b0e-3793-41a7-8261-00ba2fb291c9",
   "metadata": {},
   "outputs": [
    {
     "data": {
      "text/plain": [
       "array([1, 4, 1], dtype=int64)"
      ]
     },
     "execution_count": 12,
     "metadata": {},
     "output_type": "execute_result"
    }
   ],
   "source": [
    "rng.choice(5, 3)\n",
    "##This is equivalent to rng.integers(0,5,3)\n",
    "#Generate a uniform random sample from np.arange(5) of size 3:"
   ]
  },
  {
   "cell_type": "code",
   "execution_count": 13,
   "id": "a9d09ca1-9bba-43a7-afa0-d68b2e1d2677",
   "metadata": {},
   "outputs": [
    {
     "data": {
      "text/plain": [
       "array([3, 3, 2], dtype=int64)"
      ]
     },
     "execution_count": 13,
     "metadata": {},
     "output_type": "execute_result"
    }
   ],
   "source": [
    "#Generate a non-uniform random sample from np.arange(5) of size 3:\n",
    "rng.choice(5, 3, p=[0.1, 0, 0.3, 0.6, 0])\n"
   ]
  },
  {
   "cell_type": "code",
   "execution_count": 14,
   "id": "addbe995-3b89-4994-9297-2baa62778566",
   "metadata": {},
   "outputs": [
    {
     "data": {
      "text/plain": [
       "array([2, 3, 4], dtype=int64)"
      ]
     },
     "execution_count": 14,
     "metadata": {},
     "output_type": "execute_result"
    }
   ],
   "source": [
    "#Generate a uniform random sample from np.arange(5) of size 3 without replacement:\n",
    "rng.choice(5, 3, replace=False)\n",
    "#This is equivalent to rng.permutation(np.arange(5))[:3]"
   ]
  },
  {
   "cell_type": "code",
   "execution_count": 15,
   "id": "2a3222d2-2b0b-421e-84b0-8bf7a658b2f3",
   "metadata": {},
   "outputs": [
    {
     "data": {
      "text/plain": [
       "array([[3, 4, 5],\n",
       "       [0, 1, 2]])"
      ]
     },
     "execution_count": 15,
     "metadata": {},
     "output_type": "execute_result"
    }
   ],
   "source": [
    "#Generate a uniform random sample from a 2-D array along the first axis (the default), without replacement:\n",
    "rng.choice([[0, 1, 2], [3, 4, 5], [6, 7, 8]], 2, replace=False)"
   ]
  },
  {
   "cell_type": "code",
   "execution_count": 16,
   "id": "c09beedd-a97f-4f1d-a0bc-ad29d8eab513",
   "metadata": {},
   "outputs": [
    {
     "data": {
      "text/plain": [
       "array(['piglet', 'pooh', 'pooh', 'pooh', 'pooh'], dtype='<U6')"
      ]
     },
     "execution_count": 16,
     "metadata": {},
     "output_type": "execute_result"
    }
   ],
   "source": [
    "names= ['pooh', 'rabbit', 'piglet', 'Peppa']\n",
    "rng.choice(names, 5, p=[0.5, 0.1, 0.1, 0.3])\n"
   ]
  },
  {
   "cell_type": "code",
   "execution_count": 17,
   "id": "2589b849-16ec-4767-92e5-a10248ef15ae",
   "metadata": {},
   "outputs": [
    {
     "data": {
      "text/plain": [
       "array([[0.24612165, 0.53832686],\n",
       "       [0.6160684 , 0.10335535],\n",
       "       [0.93354154, 0.07019093]])"
      ]
     },
     "execution_count": 17,
     "metadata": {},
     "output_type": "execute_result"
    }
   ],
   "source": [
    "np.random.rand(3,2)\n"
   ]
  },
  {
   "cell_type": "code",
   "execution_count": 18,
   "id": "216274ed-a111-4dc8-8755-06c33371b5f5",
   "metadata": {},
   "outputs": [
    {
     "data": {
      "text/plain": [
       "0.9207047786788716"
      ]
     },
     "execution_count": 18,
     "metadata": {},
     "output_type": "execute_result"
    }
   ],
   "source": [
    "np.random.randn()"
   ]
  },
  {
   "cell_type": "code",
   "execution_count": 19,
   "id": "e43cb8b0-ce96-4701-9fc0-fef1215607fa",
   "metadata": {},
   "outputs": [
    {
     "data": {
      "text/plain": [
       "array([[1.41622618, 0.8068468 , 1.33625423, 3.82627048],\n",
       "       [4.78614984, 5.07400558, 2.58709084, 2.89463332]])"
      ]
     },
     "execution_count": 19,
     "metadata": {},
     "output_type": "execute_result"
    }
   ],
   "source": [
    "#Two-by-four array of samples from N(3, 6.25):\n",
    "3 + 2.5 * np.random.randn(2, 4)"
   ]
  },
  {
   "cell_type": "code",
   "execution_count": 20,
   "id": "9af9ad37-27c4-4942-b4e8-b8e198ec5e17",
   "metadata": {},
   "outputs": [
    {
     "data": {
      "text/plain": [
       "1"
      ]
     },
     "execution_count": 20,
     "metadata": {},
     "output_type": "execute_result"
    }
   ],
   "source": [
    "np.random.randint(5)\n",
    "#https://numpy.org/doc/1.21/reference/random/generated/numpy.random.RandomState.random_integers.html"
   ]
  },
  {
   "cell_type": "code",
   "execution_count": 21,
   "id": "eb815109-f821-427e-8d1f-c5082a4c6266",
   "metadata": {},
   "outputs": [
    {
     "data": {
      "text/plain": [
       "array([[1, 0],\n",
       "       [2, 1],\n",
       "       [3, 3]])"
      ]
     },
     "execution_count": 21,
     "metadata": {},
     "output_type": "execute_result"
    }
   ],
   "source": [
    "np.random.randint(5, size=(3,2))"
   ]
  },
  {
   "cell_type": "markdown",
   "id": "636f6426-3479-424f-af55-97b7586f442a",
   "metadata": {},
   "source": [
    "# Random in NumPy used to generate coin flips\n",
    "\n",
    "Simulate 4 coins flips using the random function on Numpy [3]\n"
   ]
  },
  {
   "cell_type": "code",
   "execution_count": 22,
   "id": "aee57d68-28f4-4b7d-9c7a-e76d36ea6049",
   "metadata": {},
   "outputs": [
    {
     "data": {
      "text/plain": [
       "0.6827029276991625"
      ]
     },
     "execution_count": 22,
     "metadata": {},
     "output_type": "execute_result"
    }
   ],
   "source": [
    "np.random.random()\n",
    "#draw a number between 0 and 1 \n",
    "# A Bernouli Trial :In the theory of probability and statistics, a Bernoulli trial (or binomial trial) is a random experiment with \n",
    "#exactly two possible outcomes, \"success\" and \"failure\", in which the probability of success is the same every time the experiment is conducted."
   ]
  },
  {
   "cell_type": "code",
   "execution_count": 23,
   "id": "ac3b9699-6f38-40b7-b5d5-70b7508374a6",
   "metadata": {},
   "outputs": [
    {
     "data": {
      "text/plain": [
       "array([0.37454012, 0.95071431, 0.73199394, 0.59865848])"
      ]
     },
     "execution_count": 23,
     "metadata": {},
     "output_type": "execute_result"
    }
   ],
   "source": [
    "np.random.seed(42)\n",
    "random_numbers = np.random.random(size=4)\n",
    "random_numbers\n"
   ]
  },
  {
   "cell_type": "code",
   "execution_count": 24,
   "id": "0ee670d3-a73f-45a4-b834-5e1f34484974",
   "metadata": {},
   "outputs": [
    {
     "data": {
      "text/plain": [
       "array([ True, False, False, False])"
      ]
     },
     "execution_count": 24,
     "metadata": {},
     "output_type": "execute_result"
    }
   ],
   "source": [
    "heads = random_numbers < 0.5\n",
    "heads\n"
   ]
  },
  {
   "cell_type": "code",
   "execution_count": 25,
   "id": "6367d777-a9c7-46e1-9882-9467dde8a715",
   "metadata": {},
   "outputs": [
    {
     "data": {
      "text/plain": [
       "1"
      ]
     },
     "execution_count": 25,
     "metadata": {},
     "output_type": "execute_result"
    }
   ],
   "source": [
    "np.sum (heads)"
   ]
  },
  {
   "cell_type": "markdown",
   "id": "aaa19574-cfba-4da6-9127-e05208a58407",
   "metadata": {},
   "source": [
    "#### Using a for loop to repeat the four flips over and over again\n",
    "\n",
    "We need to initialize the number to zero and then do 10,000 repeats of the 4 flip trials "
   ]
  },
  {
   "cell_type": "code",
   "execution_count": 26,
   "id": "32cedc67-5fd8-482d-ba10-cd45fa2e41e3",
   "metadata": {},
   "outputs": [
    {
     "data": {
      "text/plain": [
       "0.0619"
      ]
     },
     "execution_count": 26,
     "metadata": {},
     "output_type": "execute_result"
    }
   ],
   "source": [
    "n_all_heads = 0\n",
    "for _ in range (10000):\n",
    "    heads =np.random.random(size=4) < 0.5\n",
    "    n_heads = np.sum(heads)\n",
    "    if n_heads == 4:\n",
    "        n_all_heads += 1\n",
    "        \n",
    "n_all_heads / 10000\n",
    "\n",
    "# probability of getting all four heads in all flips"
   ]
  },
  {
   "cell_type": "code",
   "execution_count": 27,
   "id": "94bee71d-4ccb-4bb7-9735-926de184fc40",
   "metadata": {},
   "outputs": [
    {
     "data": {
      "text/plain": [
       "array([0.20365333, 0.24226181, 0.25546003, 0.45571635, 0.50957319])"
      ]
     },
     "execution_count": 27,
     "metadata": {},
     "output_type": "execute_result"
    }
   ],
   "source": [
    "np.random.ranf(5)"
   ]
  },
  {
   "cell_type": "code",
   "execution_count": 28,
   "id": "14b837d4-0e0a-4ca9-bc66-a96ed0c2dad8",
   "metadata": {},
   "outputs": [
    {
     "data": {
      "text/plain": [
       "array([1, 6, 5, 5, 3, 9, 8, 5, 7, 7, 3, 4, 1, 3, 5, 1, 1, 9, 6, 9])"
      ]
     },
     "execution_count": 28,
     "metadata": {},
     "output_type": "execute_result"
    }
   ],
   "source": [
    "np.random.randint(10, size = 20)"
   ]
  },
  {
   "cell_type": "code",
   "execution_count": 29,
   "id": "aa8ef72d-0c6e-46cc-88d4-9dfd8b6ef2bc",
   "metadata": {},
   "outputs": [
    {
     "data": {
      "text/plain": [
       "array([4, 4])"
      ]
     },
     "execution_count": 29,
     "metadata": {},
     "output_type": "execute_result"
    }
   ],
   "source": [
    "np.random.randint(5, size =  2)"
   ]
  },
  {
   "cell_type": "markdown",
   "id": "a5e8ea06-aae1-474b-9b50-afae50931873",
   "metadata": {},
   "source": [
    "#### Permutation Functions in NumPy:\n",
    "\n",
    "A permutation refers to an arrangement of elements. e.g. [3, 2, 1] is a permutation of [1, 2, 3] and vice-versa.\n",
    "\n",
    "The NumPy Random module provides two methods for this: shuffle() and permutation().[4]\n"
   ]
  },
  {
   "cell_type": "code",
   "execution_count": 30,
   "id": "97590ce3-6283-4f87-900b-36e41422bf90",
   "metadata": {},
   "outputs": [
    {
     "data": {
      "text/plain": [
       "array([7, 4, 5, 0, 1, 3, 8, 6, 9, 2])"
      ]
     },
     "execution_count": 30,
     "metadata": {},
     "output_type": "execute_result"
    }
   ],
   "source": [
    "np.random.permutation(10)"
   ]
  },
  {
   "cell_type": "code",
   "execution_count": 31,
   "id": "78d1b6ff-bd6a-4780-b541-9138cb4db01a",
   "metadata": {},
   "outputs": [
    {
     "data": {
      "text/plain": [
       "array([ 1, 12, 15,  4,  9])"
      ]
     },
     "execution_count": 31,
     "metadata": {},
     "output_type": "execute_result"
    }
   ],
   "source": [
    "np.random.permutation([1, 4, 9, 12, 15])"
   ]
  },
  {
   "cell_type": "code",
   "execution_count": 32,
   "id": "62f68122-5c45-4c34-80f9-aa17d6b51805",
   "metadata": {},
   "outputs": [
    {
     "data": {
      "text/plain": [
       "array([[3, 4, 5],\n",
       "       [6, 7, 8],\n",
       "       [0, 1, 2]])"
      ]
     },
     "execution_count": 32,
     "metadata": {},
     "output_type": "execute_result"
    }
   ],
   "source": [
    "arr = np.arange(9).reshape((3, 3))\n",
    "np.random.permutation(arr)"
   ]
  },
  {
   "cell_type": "markdown",
   "id": "6b2dfc9e-b490-457d-a953-f1b077db5ab8",
   "metadata": {},
   "source": [
    "## Backround Information on NumPy (5)\n",
    "\n",
    "https://www.youtube.com/watch?v=ZB7BZMhfPgk Introduction to Numerical Computing with NumPy | SciPy 2019 Tutorial 1.13.00\n"
   ]
  },
  {
   "cell_type": "code",
   "execution_count": 33,
   "id": "6c026265-42e6-4ef0-a73d-02ac1cf3cb39",
   "metadata": {},
   "outputs": [],
   "source": [
    "a = np.array([1,2,3,4,5])"
   ]
  },
  {
   "cell_type": "code",
   "execution_count": 34,
   "id": "37597e1e-f305-42c9-980c-99ca2078cea1",
   "metadata": {},
   "outputs": [
    {
     "data": {
      "text/plain": [
       "numpy.ndarray"
      ]
     },
     "execution_count": 34,
     "metadata": {},
     "output_type": "execute_result"
    }
   ],
   "source": [
    "# what kind of array is this?. This is a numpy nd array which means n-dimentional or one dimentional \n",
    "type(a)"
   ]
  },
  {
   "cell_type": "code",
   "execution_count": 35,
   "id": "e443e273-08a1-4059-aa9c-8a9e15d17492",
   "metadata": {},
   "outputs": [
    {
     "data": {
      "text/plain": [
       "dtype('int32')"
      ]
     },
     "execution_count": 35,
     "metadata": {},
     "output_type": "execute_result"
    }
   ],
   "source": [
    "# what kind of data type is this. Int stands for intergers so 1,2,3,4 etc and 32 bit intergers \n",
    "a.dtype"
   ]
  },
  {
   "cell_type": "code",
   "execution_count": 36,
   "id": "2a5c07b9-b2c0-436c-bcf7-85f30a68fcdf",
   "metadata": {},
   "outputs": [],
   "source": [
    "a = a.astype('int64')\n",
    "# I want to change the array dtype because my f array is a 64 bit array. "
   ]
  },
  {
   "cell_type": "code",
   "execution_count": 37,
   "id": "e5ea2e46-a1c9-494c-9608-bcf9dc4a90a7",
   "metadata": {},
   "outputs": [],
   "source": [
    "f = np.array([1.2,3.2,2.2,3.6,6.3])"
   ]
  },
  {
   "cell_type": "code",
   "execution_count": 38,
   "id": "44307ff7-bcd1-4d2f-9c90-9dcc7b168197",
   "metadata": {},
   "outputs": [
    {
     "data": {
      "text/plain": [
       "dtype('float64')"
      ]
     },
     "execution_count": 38,
     "metadata": {},
     "output_type": "execute_result"
    }
   ],
   "source": [
    "# data type here is a floating point because its a decimal point/fractional numbers and the 64 is a 64 bit object\n",
    "f.dtype"
   ]
  },
  {
   "cell_type": "code",
   "execution_count": 39,
   "id": "4145c911-bb52-4538-9aaf-b617a56d136c",
   "metadata": {},
   "outputs": [
    {
     "data": {
      "text/plain": [
       "array([1, 2, 3, 4, 5], dtype=int64)"
      ]
     },
     "execution_count": 39,
     "metadata": {},
     "output_type": "execute_result"
    }
   ],
   "source": [
    "a\n",
    "# this array is a sequence "
   ]
  },
  {
   "cell_type": "code",
   "execution_count": 40,
   "id": "86184045-bb45-4c10-81df-dbc68bae4b1e",
   "metadata": {},
   "outputs": [
    {
     "data": {
      "text/plain": [
       "1"
      ]
     },
     "execution_count": 40,
     "metadata": {},
     "output_type": "execute_result"
    }
   ],
   "source": [
    "a[0]\n",
    "# we can access a number at any given position in the sequence "
   ]
  },
  {
   "cell_type": "code",
   "execution_count": 41,
   "id": "dc85d0d2-4f66-4b84-9b6e-23344e5bbf2c",
   "metadata": {},
   "outputs": [],
   "source": [
    "a[0]=10\n",
    "# we can change any number in the sequence"
   ]
  },
  {
   "cell_type": "code",
   "execution_count": 42,
   "id": "ede761b4-5f07-4564-8f93-a2a809d8565f",
   "metadata": {},
   "outputs": [
    {
     "data": {
      "text/plain": [
       "array([10,  2,  3,  4,  5], dtype=int64)"
      ]
     },
     "execution_count": 42,
     "metadata": {},
     "output_type": "execute_result"
    }
   ],
   "source": [
    "a"
   ]
  },
  {
   "cell_type": "code",
   "execution_count": 43,
   "id": "04a6371f-d002-4275-95c8-e75e04450684",
   "metadata": {},
   "outputs": [],
   "source": [
    "a[0]=11.5\n",
    "# try to assign 11.5 but the data has to be of the same type in the array so we will get 11 as a result instead of a floating point number which would be 11.5"
   ]
  },
  {
   "cell_type": "code",
   "execution_count": 44,
   "id": "02c83b5f-7474-4f37-a864-15aa1b183e61",
   "metadata": {},
   "outputs": [
    {
     "data": {
      "text/plain": [
       "array([11,  2,  3,  4,  5], dtype=int64)"
      ]
     },
     "execution_count": 44,
     "metadata": {},
     "output_type": "execute_result"
    }
   ],
   "source": [
    "a"
   ]
  },
  {
   "cell_type": "code",
   "execution_count": 45,
   "id": "b3509cad-a46f-438f-8099-1703b2522f29",
   "metadata": {},
   "outputs": [
    {
     "data": {
      "text/plain": [
       "1"
      ]
     },
     "execution_count": 45,
     "metadata": {},
     "output_type": "execute_result"
    }
   ],
   "source": [
    "a.ndim\n",
    "# number of dimensions. this array is a one-dimension array"
   ]
  },
  {
   "cell_type": "code",
   "execution_count": 46,
   "id": "7dfde291-0b9b-4ec4-99af-4d14ac75be03",
   "metadata": {},
   "outputs": [
    {
     "data": {
      "text/plain": [
       "(5,)"
      ]
     },
     "execution_count": 46,
     "metadata": {},
     "output_type": "execute_result"
    }
   ],
   "source": [
    "a.shape\n",
    "# the shape is a very imp attribute one as it drives the behaviour of the array. the shape is always a tuple that showsthe number of elements along the dimensions. As can be seen\n",
    "# below the a array has 1 tuple with 4 elements"
   ]
  },
  {
   "cell_type": "code",
   "execution_count": 47,
   "id": "f703a526-0e9c-43ce-9c3b-35d810957c10",
   "metadata": {},
   "outputs": [
    {
     "data": {
      "text/plain": [
       "5"
      ]
     },
     "execution_count": 47,
     "metadata": {},
     "output_type": "execute_result"
    }
   ],
   "source": [
    "a.size\n",
    "# size is always an integer  and shows only the total number of elements. Does not show the shape"
   ]
  },
  {
   "cell_type": "code",
   "execution_count": 48,
   "id": "dc511ef3-40b2-4e90-a917-a8859abf0678",
   "metadata": {},
   "outputs": [],
   "source": [
    " c = np.array ([2,4,7,8,9])"
   ]
  },
  {
   "cell_type": "code",
   "execution_count": 49,
   "id": "f8c6056b-3b1a-463e-a29d-68ed067bb4de",
   "metadata": {},
   "outputs": [
    {
     "data": {
      "text/plain": [
       "dtype('int32')"
      ]
     },
     "execution_count": 49,
     "metadata": {},
     "output_type": "execute_result"
    }
   ],
   "source": [
    "c.dtype"
   ]
  },
  {
   "cell_type": "code",
   "execution_count": 50,
   "id": "b5860503-718b-48b6-a0cf-38f6acb5ff12",
   "metadata": {},
   "outputs": [
    {
     "data": {
      "text/plain": [
       "array([12.2,  5.2,  5.2,  7.6, 11.3])"
      ]
     },
     "execution_count": 50,
     "metadata": {},
     "output_type": "execute_result"
    }
   ],
   "source": [
    "a+f\n",
    "\n",
    "#---------------------------------------------------------------------------\n",
    "#ValueError                                Traceback (most recent call last)\n",
    "#<ipython-input-50-d86107eb4b16> in <module>\n",
    "#----> 1 a+f\n",
    "\n",
    "#ValueError: operands could not be broadcast together with shapes (5,) (4,) \n",
    "# my two arrays won't add because they have two different shapes. One has a tuple with 5 elements and the other has a tuple with 4 elements. \n",
    "# Element number must need to be equal to add the arrays together\n"
   ]
  },
  {
   "cell_type": "code",
   "execution_count": 51,
   "id": "80dffde3-6d2e-46aa-8b22-55d4b0d35303",
   "metadata": {},
   "outputs": [
    {
     "data": {
      "text/plain": [
       "array([12.2,  5.2,  5.2,  7.6, 11.3])"
      ]
     },
     "execution_count": 51,
     "metadata": {},
     "output_type": "execute_result"
    }
   ],
   "source": [
    "a+f\n",
    "# after fixing the element number on the f array we can add the arrays together "
   ]
  },
  {
   "cell_type": "code",
   "execution_count": 52,
   "id": "b6546f58-601a-4774-9dd8-2781588fc8dc",
   "metadata": {},
   "outputs": [
    {
     "data": {
      "text/plain": [
       "array([9.16666667, 0.625     , 1.36363636, 1.11111111, 0.79365079])"
      ]
     },
     "execution_count": 52,
     "metadata": {},
     "output_type": "execute_result"
    }
   ],
   "source": [
    "a/f"
   ]
  },
  {
   "cell_type": "code",
   "execution_count": 53,
   "id": "ddbc162e-78fd-4055-a865-5ac5cf14532b",
   "metadata": {},
   "outputs": [
    {
     "data": {
      "text/plain": [
       "array([1.77693369e+01, 9.18958684e+00, 1.12115785e+01, 1.47033389e+02,\n",
       "       2.53227593e+04])"
      ]
     },
     "execution_count": 53,
     "metadata": {},
     "output_type": "execute_result"
    }
   ],
   "source": [
    "a**f"
   ]
  },
  {
   "cell_type": "code",
   "execution_count": 54,
   "id": "92e5ac90-9e0b-41f2-915d-6da48d33e4cc",
   "metadata": {},
   "outputs": [
    {
     "data": {
      "text/plain": [
       "array([7.43008371e+00, 1.02400000e+01, 1.06480000e+01, 1.67961600e+02,\n",
       "       9.92436543e+03])"
      ]
     },
     "execution_count": 54,
     "metadata": {},
     "output_type": "execute_result"
    }
   ],
   "source": [
    "f ** a\n",
    "#vectorized operation"
   ]
  },
  {
   "cell_type": "code",
   "execution_count": 55,
   "id": "8e24d7cc-2be0-46dc-a71f-e4e61f7e310b",
   "metadata": {},
   "outputs": [
    {
     "data": {
      "text/plain": [
       "array([110,  20,  30,  40,  50], dtype=int64)"
      ]
     },
     "execution_count": 55,
     "metadata": {},
     "output_type": "execute_result"
    }
   ],
   "source": [
    "a*10"
   ]
  },
  {
   "cell_type": "code",
   "execution_count": 56,
   "id": "426dc9f3-bfeb-4fab-b0aa-1609fea768dc",
   "metadata": {},
   "outputs": [
    {
     "data": {
      "text/plain": [
       "array([-0.99999021,  0.90929743,  0.14112001, -0.7568025 , -0.95892427])"
      ]
     },
     "execution_count": 56,
     "metadata": {},
     "output_type": "execute_result"
    }
   ],
   "source": [
    "# universal functions(ufunc)\n",
    "np.sin(a)"
   ]
  },
  {
   "cell_type": "code",
   "execution_count": 57,
   "id": "a7b98e9a-e4a9-4348-afd3-006c0c77f3a4",
   "metadata": {},
   "outputs": [],
   "source": [
    "# lets go into 2 dimentional arrays\n",
    "c = np.array([[1,3,5,7,9],[2,4,6,8,10]])"
   ]
  },
  {
   "cell_type": "code",
   "execution_count": 58,
   "id": "a11c6a31-940e-4cf7-bf64-1077c65ab03f",
   "metadata": {},
   "outputs": [
    {
     "data": {
      "text/plain": [
       "array([[ 1,  3,  5,  7,  9],\n",
       "       [ 2,  4,  6,  8, 10]])"
      ]
     },
     "execution_count": 58,
     "metadata": {},
     "output_type": "execute_result"
    }
   ],
   "source": [
    "c"
   ]
  },
  {
   "cell_type": "code",
   "execution_count": 59,
   "id": "ded094e2-bbeb-42b4-a96e-4a74b0c43031",
   "metadata": {},
   "outputs": [
    {
     "data": {
      "text/plain": [
       "(2, 5)"
      ]
     },
     "execution_count": 59,
     "metadata": {},
     "output_type": "execute_result"
    }
   ],
   "source": [
    "c.shape"
   ]
  },
  {
   "cell_type": "code",
   "execution_count": 60,
   "id": "b042974a-6f6c-4b69-bd8f-215f288a04e2",
   "metadata": {},
   "outputs": [
    {
     "data": {
      "text/plain": [
       "10"
      ]
     },
     "execution_count": 60,
     "metadata": {},
     "output_type": "execute_result"
    }
   ],
   "source": [
    "c.size"
   ]
  },
  {
   "cell_type": "code",
   "execution_count": 61,
   "id": "a82f83bb-c047-4544-9054-6b1c74994cd3",
   "metadata": {},
   "outputs": [
    {
     "data": {
      "text/plain": [
       "2"
      ]
     },
     "execution_count": 61,
     "metadata": {},
     "output_type": "execute_result"
    }
   ],
   "source": [
    "c.ndim"
   ]
  },
  {
   "cell_type": "code",
   "execution_count": 62,
   "id": "9c6b8bda-5498-4ad0-85f3-cc6d62acef65",
   "metadata": {},
   "outputs": [
    {
     "data": {
      "text/plain": [
       "8"
      ]
     },
     "execution_count": 62,
     "metadata": {},
     "output_type": "execute_result"
    }
   ],
   "source": [
    "# lets change the elements in the sets\n",
    "c[1,3]"
   ]
  },
  {
   "cell_type": "code",
   "execution_count": 63,
   "id": "e023e827-5196-4f22-9a19-eb45fae156b6",
   "metadata": {},
   "outputs": [],
   "source": [
    "c[1,3]= 4"
   ]
  },
  {
   "cell_type": "code",
   "execution_count": 64,
   "id": "630d906e-e3cd-493c-afb2-68e328727609",
   "metadata": {},
   "outputs": [
    {
     "data": {
      "text/plain": [
       "array([[ 1,  3,  5,  7,  9],\n",
       "       [ 2,  4,  6,  4, 10]])"
      ]
     },
     "execution_count": 64,
     "metadata": {},
     "output_type": "execute_result"
    }
   ],
   "source": [
    "c"
   ]
  },
  {
   "cell_type": "code",
   "execution_count": 65,
   "id": "eda54dd6-c0ca-40c3-9eb1-5eaa99a89390",
   "metadata": {},
   "outputs": [
    {
     "data": {
      "text/plain": [
       "array([ 2,  4,  6,  4, 10])"
      ]
     },
     "execution_count": 65,
     "metadata": {},
     "output_type": "execute_result"
    }
   ],
   "source": [
    "c[1]"
   ]
  },
  {
   "cell_type": "code",
   "execution_count": 66,
   "id": "9716f8e4-ed21-4285-8e36-37d2488bc35d",
   "metadata": {},
   "outputs": [
    {
     "data": {
      "text/plain": [
       "array([11,  2,  3,  4,  5], dtype=int64)"
      ]
     },
     "execution_count": 66,
     "metadata": {},
     "output_type": "execute_result"
    }
   ],
   "source": [
    "# How to slect an entire row or multiple elements\n",
    "#slicing arrays\n",
    "a\n"
   ]
  },
  {
   "cell_type": "code",
   "execution_count": 67,
   "id": "3b3f3382-0cb1-480b-803f-e6773228b64b",
   "metadata": {},
   "outputs": [
    {
     "data": {
      "text/plain": [
       "array([2, 3], dtype=int64)"
      ]
     },
     "execution_count": 67,
     "metadata": {},
     "output_type": "execute_result"
    }
   ],
   "source": [
    "a[1:3]"
   ]
  },
  {
   "cell_type": "code",
   "execution_count": 68,
   "id": "46fde1b1-1303-4a9c-86b2-39c5984f0233",
   "metadata": {},
   "outputs": [
    {
     "data": {
      "text/plain": [
       "array([2, 3], dtype=int64)"
      ]
     },
     "execution_count": 68,
     "metadata": {},
     "output_type": "execute_result"
    }
   ],
   "source": [
    "#negative indices also work\n",
    "a[1:-2]\n",
    "# -1 is always the last element of your sequence"
   ]
  },
  {
   "cell_type": "code",
   "execution_count": 69,
   "id": "21b67882-f426-4030-8d95-4fdd9248f315",
   "metadata": {},
   "outputs": [
    {
     "data": {
      "text/plain": [
       "array([2, 3], dtype=int64)"
      ]
     },
     "execution_count": 69,
     "metadata": {},
     "output_type": "execute_result"
    }
   ],
   "source": [
    "#negative indices \n",
    "a[-4:3]"
   ]
  },
  {
   "cell_type": "code",
   "execution_count": 70,
   "id": "2970c1fd-474d-4e2a-9223-9ca0ff204ccb",
   "metadata": {},
   "outputs": [
    {
     "data": {
      "text/plain": [
       "array([11,  2,  3], dtype=int64)"
      ]
     },
     "execution_count": 70,
     "metadata": {},
     "output_type": "execute_result"
    }
   ],
   "source": [
    "#omitting boundaries assumed to be the beginning or end of the list\n",
    "a[:3]\n",
    "#grab the first three elements"
   ]
  },
  {
   "cell_type": "code",
   "execution_count": 71,
   "id": "02de773a-c9df-48b3-81ed-09871ef5e74d",
   "metadata": {},
   "outputs": [
    {
     "data": {
      "text/plain": [
       "array([4, 5], dtype=int64)"
      ]
     },
     "execution_count": 71,
     "metadata": {},
     "output_type": "execute_result"
    }
   ],
   "source": [
    "a[-2:]\n",
    "# grab the last 2 elements"
   ]
  },
  {
   "cell_type": "code",
   "execution_count": 72,
   "id": "beac62a5-c7f6-4efe-9273-5236b5a1c441",
   "metadata": {},
   "outputs": [],
   "source": [
    "d = np.array([[1,2,3,4,5,6],[2,3,4,5,6,7],[3,6,7,9,8,9],[2,5,6,8,2,7],[2,5,9,8,7,8],[1,3,4,5,6,9]])"
   ]
  },
  {
   "cell_type": "code",
   "execution_count": 73,
   "id": "3406bf02-8001-4941-b4c4-6d17e085ff42",
   "metadata": {},
   "outputs": [
    {
     "data": {
      "text/plain": [
       "array([[1, 2, 3, 4, 5, 6],\n",
       "       [2, 3, 4, 5, 6, 7],\n",
       "       [3, 6, 7, 9, 8, 9],\n",
       "       [2, 5, 6, 8, 2, 7],\n",
       "       [2, 5, 9, 8, 7, 8],\n",
       "       [1, 3, 4, 5, 6, 9]])"
      ]
     },
     "execution_count": 73,
     "metadata": {},
     "output_type": "execute_result"
    }
   ],
   "source": [
    "d"
   ]
  },
  {
   "cell_type": "code",
   "execution_count": 74,
   "id": "d6c80bcf-5a81-4271-bf36-74b947ab843f",
   "metadata": {},
   "outputs": [
    {
     "data": {
      "text/plain": [
       "array([4, 5])"
      ]
     },
     "execution_count": 74,
     "metadata": {},
     "output_type": "execute_result"
    }
   ],
   "source": [
    "#slicing using a multi-dim array\n",
    "d[0, 3:5]\n",
    "# indexing and slicing"
   ]
  },
  {
   "cell_type": "code",
   "execution_count": 75,
   "id": "2701f5da-c33d-4c64-b979-c8098cd4ac1c",
   "metadata": {},
   "outputs": [
    {
     "data": {
      "text/plain": [
       "array([[7, 8],\n",
       "       [6, 9]])"
      ]
     },
     "execution_count": 75,
     "metadata": {},
     "output_type": "execute_result"
    }
   ],
   "source": [
    "d[4:, 4:]\n",
    "# throw away 4 rows and 4 columns "
   ]
  },
  {
   "cell_type": "code",
   "execution_count": 76,
   "id": "95dc9567-c55d-45b4-9194-ccc42ffcb9bd",
   "metadata": {},
   "outputs": [
    {
     "data": {
      "text/plain": [
       "array([[9, 8, 9],\n",
       "       [8, 2, 7],\n",
       "       [8, 7, 8],\n",
       "       [5, 6, 9]])"
      ]
     },
     "execution_count": 76,
     "metadata": {},
     "output_type": "execute_result"
    }
   ],
   "source": [
    "d[2:, 3:]\n",
    "# throw away 2 rows and three columns"
   ]
  },
  {
   "cell_type": "code",
   "execution_count": 77,
   "id": "3b7210a3-06cb-4ebc-ae76-d9fc24d85aa1",
   "metadata": {},
   "outputs": [
    {
     "data": {
      "text/plain": [
       "array([[7],\n",
       "       [9],\n",
       "       [7],\n",
       "       [8],\n",
       "       [9]])"
      ]
     },
     "execution_count": 77,
     "metadata": {},
     "output_type": "execute_result"
    }
   ],
   "source": [
    "d[1:, 5:]\n",
    "#throw away one row and 5 colums"
   ]
  },
  {
   "cell_type": "code",
   "execution_count": 78,
   "id": "fe4a8ef7-9a83-453a-803c-379e55d313db",
   "metadata": {},
   "outputs": [
    {
     "data": {
      "text/plain": [
       "array([3, 4, 7, 6, 9, 4])"
      ]
     },
     "execution_count": 78,
     "metadata": {},
     "output_type": "execute_result"
    }
   ],
   "source": [
    "#lonely colon- means everything along that dimension(the first dimention on column no 2 )\n",
    "# the result is a 1 array\n",
    "d[:, 2]"
   ]
  },
  {
   "cell_type": "code",
   "execution_count": 79,
   "id": "7ecc29e1-47b3-4d85-9a20-687df7e7ae1a",
   "metadata": {},
   "outputs": [
    {
     "data": {
      "text/plain": [
       "array([[3, 7, 8],\n",
       "       [2, 9, 7]])"
      ]
     },
     "execution_count": 79,
     "metadata": {},
     "output_type": "execute_result"
    }
   ],
   "source": [
    "#strides\n",
    "d[2::2, ::2]"
   ]
  },
  {
   "cell_type": "code",
   "execution_count": 80,
   "id": "db36d1a4-52df-4565-86c4-e75a3db36dca",
   "metadata": {},
   "outputs": [],
   "source": [
    "e = np.arange(25). reshape(5, 5)"
   ]
  },
  {
   "cell_type": "code",
   "execution_count": 81,
   "id": "ed69f33d-c116-4ff4-bfcb-725b89899a4f",
   "metadata": {},
   "outputs": [
    {
     "data": {
      "text/plain": [
       "array([[ 0,  1,  2,  3,  4],\n",
       "       [ 5,  6,  7,  8,  9],\n",
       "       [10, 11, 12, 13, 14],\n",
       "       [15, 16, 17, 18, 19],\n",
       "       [20, 21, 22, 23, 24]])"
      ]
     },
     "execution_count": 81,
     "metadata": {},
     "output_type": "execute_result"
    }
   ],
   "source": [
    "e\n"
   ]
  },
  {
   "cell_type": "code",
   "execution_count": 82,
   "id": "c9709309-7d5a-4833-b842-5b75650df97d",
   "metadata": {},
   "outputs": [
    {
     "data": {
      "text/plain": [
       "array([[ 1,  3],\n",
       "       [ 6,  8],\n",
       "       [11, 13],\n",
       "       [16, 18],\n",
       "       [21, 23]])"
      ]
     },
     "execution_count": 82,
     "metadata": {},
     "output_type": "execute_result"
    }
   ],
   "source": [
    "e[:, 1::2]\n",
    "# I want the 2nd and 4th colunms only "
   ]
  },
  {
   "cell_type": "code",
   "execution_count": 83,
   "id": "ec687b6e-2ef4-4430-8a08-4847858c8a92",
   "metadata": {},
   "outputs": [
    {
     "data": {
      "text/plain": [
       "array([20, 21, 22, 23, 24])"
      ]
     },
     "execution_count": 83,
     "metadata": {},
     "output_type": "execute_result"
    }
   ],
   "source": [
    "# I want the last row only. Three ways to do this\n",
    "e[4, :]\n",
    "#choose the 5th row and the lonely colon will choose the entire column"
   ]
  },
  {
   "cell_type": "code",
   "execution_count": 84,
   "id": "0cd38b17-e301-4379-8ec1-19a0bd435c9b",
   "metadata": {},
   "outputs": [
    {
     "data": {
      "text/plain": [
       "array([20, 21, 22, 23, 24])"
      ]
     },
     "execution_count": 84,
     "metadata": {},
     "output_type": "execute_result"
    }
   ],
   "source": [
    "e[4]"
   ]
  },
  {
   "cell_type": "code",
   "execution_count": 85,
   "id": "ba1d14ac-9272-406a-92b6-3c9ccce53a36",
   "metadata": {},
   "outputs": [
    {
     "data": {
      "text/plain": [
       "array([20, 21, 22, 23, 24])"
      ]
     },
     "execution_count": 85,
     "metadata": {},
     "output_type": "execute_result"
    }
   ],
   "source": [
    "e [-1, :]"
   ]
  },
  {
   "cell_type": "code",
   "execution_count": 86,
   "id": "4b9ee8e2-b470-40ff-8e43-5a1c46397938",
   "metadata": {},
   "outputs": [
    {
     "data": {
      "text/plain": [
       "array([[ 5,  6,  7,  8,  9],\n",
       "       [15, 16, 17, 18, 19]])"
      ]
     },
     "execution_count": 86,
     "metadata": {},
     "output_type": "execute_result"
    }
   ],
   "source": [
    "# random number picking between rows and columns\n",
    "\n",
    "e[1::2]"
   ]
  },
  {
   "cell_type": "code",
   "execution_count": 87,
   "id": "c91711cf-fb23-4679-b21c-bbc176e06335",
   "metadata": {},
   "outputs": [
    {
     "data": {
      "text/plain": [
       "array([[ 5,  7],\n",
       "       [15, 17]])"
      ]
     },
     "execution_count": 87,
     "metadata": {},
     "output_type": "execute_result"
    }
   ],
   "source": [
    "e[1::2, :3:2]"
   ]
  },
  {
   "cell_type": "code",
   "execution_count": 88,
   "id": "d23a73a5-b76c-4875-8465-7f45a741bf29",
   "metadata": {},
   "outputs": [
    {
     "data": {
      "text/plain": [
       "array([[ 5,  7],\n",
       "       [15, 17]])"
      ]
     },
     "execution_count": 88,
     "metadata": {},
     "output_type": "execute_result"
    }
   ],
   "source": [
    "e[1::2, :4:2]"
   ]
  },
  {
   "cell_type": "code",
   "execution_count": 89,
   "id": "9cf3b798-9076-4f94-89b6-5abc10ab36c4",
   "metadata": {},
   "outputs": [],
   "source": [
    "# fancy indexing \n",
    "a=np.arange(0, 80, 10)\n"
   ]
  },
  {
   "cell_type": "code",
   "execution_count": 90,
   "id": "7a549e0a-b9f1-4525-848a-0776b7069dd0",
   "metadata": {},
   "outputs": [
    {
     "data": {
      "text/plain": [
       "array([ 0, 10, 20, 30, 40, 50, 60, 70])"
      ]
     },
     "execution_count": 90,
     "metadata": {},
     "output_type": "execute_result"
    }
   ],
   "source": [
    "a\n"
   ]
  },
  {
   "cell_type": "code",
   "execution_count": 91,
   "id": "9c786263-c112-4923-bb46-585b1143e9b1",
   "metadata": {},
   "outputs": [],
   "source": [
    "\n",
    "indices = [1,2,-3]\n",
    "y = a[indices]\n",
    "# position 1=10 position 2 = 20 position -3 =50 (the last number is always -1)"
   ]
  },
  {
   "cell_type": "code",
   "execution_count": 92,
   "id": "61d0b0f9-f38d-4a83-9a62-8d9d361d3b29",
   "metadata": {},
   "outputs": [
    {
     "data": {
      "text/plain": [
       "array([10, 20, 50])"
      ]
     },
     "execution_count": 92,
     "metadata": {},
     "output_type": "execute_result"
    }
   ],
   "source": [
    "y"
   ]
  },
  {
   "cell_type": "code",
   "execution_count": 93,
   "id": "8ed4550c-1f62-42c9-a191-85faa8b22619",
   "metadata": {},
   "outputs": [],
   "source": [
    "a[indices]=90\n",
    "# now 90 will replace all the locations on the indices with the number 90"
   ]
  },
  {
   "cell_type": "code",
   "execution_count": 94,
   "id": "ea247621-681c-4c49-b03c-d41d9a1dcc3b",
   "metadata": {},
   "outputs": [
    {
     "data": {
      "text/plain": [
       "array([ 0, 90, 90, 30, 40, 90, 60, 70])"
      ]
     },
     "execution_count": 94,
     "metadata": {},
     "output_type": "execute_result"
    }
   ],
   "source": [
    "a"
   ]
  },
  {
   "cell_type": "code",
   "execution_count": 95,
   "id": "4dc25d2c-aee1-4ba3-9e78-5207f4d0e9bd",
   "metadata": {},
   "outputs": [],
   "source": [
    "a = np.array([[0,1,2,3,4,5],[10,11,12,13,14,15],[20,21,22,23,24,25],[30,31,32,33,34,35],[40,41,42,43,44,45],[50,51,52,53,54,55]])"
   ]
  },
  {
   "cell_type": "code",
   "execution_count": 96,
   "id": "468f4905-d473-4009-af59-b86840441651",
   "metadata": {},
   "outputs": [
    {
     "data": {
      "text/plain": [
       "array([[ 0,  1,  2,  3,  4,  5],\n",
       "       [10, 11, 12, 13, 14, 15],\n",
       "       [20, 21, 22, 23, 24, 25],\n",
       "       [30, 31, 32, 33, 34, 35],\n",
       "       [40, 41, 42, 43, 44, 45],\n",
       "       [50, 51, 52, 53, 54, 55]])"
      ]
     },
     "execution_count": 96,
     "metadata": {},
     "output_type": "execute_result"
    }
   ],
   "source": [
    "a"
   ]
  },
  {
   "attachments": {
    "4686ca20-d801-445e-ba33-ab442bad4640.PNG": {
     "image/png": "[encoded data removed]"
    }
   },
   "cell_type": "markdown",
   "id": "e861dfbf-3562-4264-a0cc-c849b2fa1f7f",
   "metadata": {},
   "source": [
    "![fancy indexing.PNG](attachment:4686ca20-d801-445e-ba33-ab442bad4640.PNG)"
   ]
  },
  {
   "cell_type": "code",
   "execution_count": 97,
   "id": "74a40c67-d619-49d3-b54f-8055c3bbfea5",
   "metadata": {},
   "outputs": [
    {
     "data": {
      "text/plain": [
       "array([ 0, 11, 22])"
      ]
     },
     "execution_count": 97,
     "metadata": {},
     "output_type": "execute_result"
    }
   ],
   "source": [
    "# yellow \n",
    "a[[0,1,2,3,4],[1,2,3,4,5]]\n",
    "#first array set here will denote the no of the row, the second array will denote the element number on that row or the column number \n",
    "a[[0,1,2],[0,1,2]]\n",
    "# look up diagonal indexing "
   ]
  },
  {
   "cell_type": "code",
   "execution_count": 98,
   "id": "892ceb7f-e4d4-4bef-84a5-ab24f7223d43",
   "metadata": {},
   "outputs": [
    {
     "data": {
      "text/plain": [
       "array([[30, 32, 35],\n",
       "       [40, 42, 45],\n",
       "       [50, 52, 55]])"
      ]
     },
     "execution_count": 98,
     "metadata": {},
     "output_type": "execute_result"
    }
   ],
   "source": [
    "#blue highlighted indexing\n",
    "a[3:, [0,2,5]]\n",
    "# 3: will denote everything from the 3rd row down\n",
    "# [0,2,5]- this will pick the elements in the columns 0 , 2 and 5"
   ]
  },
  {
   "cell_type": "code",
   "execution_count": 99,
   "id": "45260dcb-67d9-41a5-8505-d9f6215faebd",
   "metadata": {},
   "outputs": [
    {
     "data": {
      "text/plain": [
       "array([ 2, 22, 52])"
      ]
     },
     "execution_count": 99,
     "metadata": {},
     "output_type": "execute_result"
    }
   ],
   "source": [
    "#red highlighted indexing using masking\n",
    "mask = np.array ([1,0,1,0,0,1], dtype=bool)\n",
    "a[mask, 2]\n",
    "# in the mask array we want the first, the third and the last element denoted by 1 and we're only interested in column number 2."
   ]
  },
  {
   "attachments": {
    "29f813bd-c7b7-4483-8f9b-bd7d498267df.PNG": {
     "image/png": "[encoded data removed]"
    }
   },
   "cell_type": "markdown",
   "id": "b5c1f142-2eb2-4538-bb51-472d1549488a",
   "metadata": {},
   "source": [
    "![index problrm to solve.PNG](attachment:29f813bd-c7b7-4483-8f9b-bd7d498267df.PNG)"
   ]
  },
  {
   "cell_type": "code",
   "execution_count": 100,
   "id": "b53e811d-99c6-41b5-ad05-238321a35204",
   "metadata": {},
   "outputs": [],
   "source": [
    "m = np.arange(25).reshape(5,5)"
   ]
  },
  {
   "cell_type": "code",
   "execution_count": 101,
   "id": "515d4708-485a-4e52-9ee8-3daf8d90ed06",
   "metadata": {},
   "outputs": [
    {
     "data": {
      "text/plain": [
       "array([[ 0,  1,  2,  3,  4],\n",
       "       [ 5,  6,  7,  8,  9],\n",
       "       [10, 11, 12, 13, 14],\n",
       "       [15, 16, 17, 18, 19],\n",
       "       [20, 21, 22, 23, 24]])"
      ]
     },
     "execution_count": 101,
     "metadata": {},
     "output_type": "execute_result"
    }
   ],
   "source": [
    "m"
   ]
  },
  {
   "cell_type": "code",
   "execution_count": 102,
   "id": "6c9e229b-c99e-4b30-838c-69847224f95a",
   "metadata": {},
   "outputs": [
    {
     "data": {
      "text/plain": [
       "array([ 2, 13, 16, 19])"
      ]
     },
     "execution_count": 102,
     "metadata": {},
     "output_type": "execute_result"
    }
   ],
   "source": [
    "# extract elements denoted in blue \n",
    "m[[0,2,3,3],[2,3,1,4]]"
   ]
  },
  {
   "cell_type": "code",
   "execution_count": 103,
   "id": "ce5339c1-debb-458a-a5ae-8fceae2fb0e5",
   "metadata": {},
   "outputs": [
    {
     "data": {
      "text/plain": [
       "array([[0, 1, 2, 0, 1],\n",
       "       [2, 0, 1, 2, 0],\n",
       "       [1, 2, 0, 1, 2],\n",
       "       [0, 1, 2, 0, 1],\n",
       "       [2, 0, 1, 2, 0]], dtype=int32)"
      ]
     },
     "execution_count": 103,
     "metadata": {},
     "output_type": "execute_result"
    }
   ],
   "source": [
    "# extract all numbers divisable by three using a boolean mask\n",
    "# need to use the modulo \n",
    "m % 3\n",
    "# all the places on the array now that are zero are divisable by three "
   ]
  },
  {
   "cell_type": "code",
   "execution_count": 104,
   "id": "3b8e122c-3a15-4bd4-bdc8-2d1ef7d0bb90",
   "metadata": {},
   "outputs": [
    {
     "data": {
      "text/plain": [
       "array([[ True, False, False,  True, False],\n",
       "       [False,  True, False, False,  True],\n",
       "       [False, False,  True, False, False],\n",
       "       [ True, False, False,  True, False],\n",
       "       [False,  True, False, False,  True]])"
      ]
     },
     "execution_count": 104,
     "metadata": {},
     "output_type": "execute_result"
    }
   ],
   "source": [
    "m % 3 == 0\n",
    "#gives us all the numbers divisable by three in a boolean type array"
   ]
  },
  {
   "cell_type": "code",
   "execution_count": 105,
   "id": "84cde524-e312-49ab-9439-4a4e70eeafef",
   "metadata": {},
   "outputs": [
    {
     "data": {
      "text/plain": [
       "array([ 0,  3,  6,  9, 12, 15, 18, 21, 24])"
      ]
     },
     "execution_count": 105,
     "metadata": {},
     "output_type": "execute_result"
    }
   ],
   "source": [
    "m [m%3==0]"
   ]
  },
  {
   "cell_type": "markdown",
   "id": "d312a568-72b0-4407-b9ff-4a5016841a0f",
   "metadata": {},
   "source": [
    "## Generators in NumPy \n",
    "\n",
    "Legacy Generator Mersenne Twister (MT19937)- This is a pseudo random number generator tht was previously used in the legacy random state "
   ]
  },
  {
   "cell_type": "code",
   "execution_count": null,
   "id": "76918dff-806d-4647-a0ff-b2aad9972007",
   "metadata": {},
   "outputs": [],
   "source": []
  },
  {
   "cell_type": "code",
   "execution_count": null,
   "id": "59e9ca8c-c080-448b-8099-68f96a988ace",
   "metadata": {},
   "outputs": [],
   "source": []
  },
  {
   "cell_type": "code",
   "execution_count": null,
   "id": "6e264c09-ce8d-47c8-bebf-f0fce537c9df",
   "metadata": {},
   "outputs": [],
   "source": []
  },
  {
   "cell_type": "code",
   "execution_count": null,
   "id": "4d4eccd1-95fb-4d9e-ba24-1e50c60200a6",
   "metadata": {},
   "outputs": [],
   "source": []
  },
  {
   "cell_type": "code",
   "execution_count": null,
   "id": "1d37fa49-b151-4339-ac32-d16ac28dceb7",
   "metadata": {},
   "outputs": [],
   "source": []
  },
  {
   "cell_type": "code",
   "execution_count": null,
   "id": "a52aab46-842a-4910-ba1a-97e3412d3359",
   "metadata": {},
   "outputs": [],
   "source": []
  },
  {
   "cell_type": "code",
   "execution_count": null,
   "id": "73fda96f-bbe1-467c-88fe-d04fa091e336",
   "metadata": {},
   "outputs": [],
   "source": []
  },
  {
   "cell_type": "code",
   "execution_count": null,
   "id": "aef3a43e-d204-4986-a5c8-fbbb00f5d867",
   "metadata": {},
   "outputs": [],
   "source": []
  },
  {
   "cell_type": "code",
   "execution_count": null,
   "id": "bb48b6e1-27e8-46c8-a2ca-cd65c19901a6",
   "metadata": {},
   "outputs": [],
   "source": []
  },
  {
   "cell_type": "code",
   "execution_count": null,
   "id": "e2d7448b-d6b6-4b46-a8eb-fda3c0cdce22",
   "metadata": {},
   "outputs": [],
   "source": []
  },
  {
   "cell_type": "code",
   "execution_count": null,
   "id": "43063ec8-99fe-4bed-a87a-0d098565e8c5",
   "metadata": {},
   "outputs": [],
   "source": []
  },
  {
   "cell_type": "markdown",
   "id": "bdd320b4-80ce-4fee-9855-34197e820c5e",
   "metadata": {},
   "source": [
    "### References:\n",
    "[1](https://numpy.org/devdocs/user/whatisnumpy.html)\n",
    "[2](https://numpy.org/doc/stable/reference/random/generated/numpy.random.Generator.shuffle.html)\n",
    "[3](https://www.datacamp.com/community/tutorials/numpy-random)\n",
    "[4](https://www.w3schools.com/python/numpy/numpy_random_permutation.asp)\n",
    "[5](https://www.youtube.com/watch?v=ZB7BZMhfPgk)\n",
    "[6](https://numpy.org/devdocs/reference/random/index.html)"
   ]
  },
  {
   "cell_type": "code",
   "execution_count": null,
   "id": "d8b5c402-fef5-40be-90ed-30d4c20b96ae",
   "metadata": {},
   "outputs": [],
   "source": []
  }
 ],
 "metadata": {
  "kernelspec": {
   "display_name": "Python 3",
   "language": "python",
   "name": "python3"
  },
  "language_info": {
   "codemirror_mode": {
    "name": "ipython",
    "version": 3
   },
   "file_extension": ".py",
   "mimetype": "text/x-python",
   "name": "python",
   "nbconvert_exporter": "python",
   "pygments_lexer": "ipython3",
   "version": "3.8.8"
  }
 },
 "nbformat": 4,
 "nbformat_minor": 5
}
