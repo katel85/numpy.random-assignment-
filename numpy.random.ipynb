{
 "cells": [
  {
   "cell_type": "markdown",
   "id": "65341e4e-d15c-4339-b79d-54a38b2edf98",
   "metadata": {},
   "source": [
    "# The numpy.random package"
   ]
  },
  {
   "cell_type": "markdown",
   "id": "a3968f53-7ee3-4c3e-992a-63f336ac6caf",
   "metadata": {},
   "source": [
    "<br>\n",
    "\n",
    "## Overall purpose of the numpy.random package \n",
    "\n",
    "***\n",
    "\n",
    "NumPy is the fundamental package for scientific computing in Python. It is a Python library that provides a multidimensional array object, various derived objects (such as masked arrays and matrices), and an assortment of routines for fast operations on arrays, including mathematical, logical, shape manipulation, sorting, selecting, I/O, discrete Fourier transforms, basic linear algebra, basic statistical operations, random simulation and much more.\n",
    "\n",
    "NumPy (Numerical Python) is an open source Python library that’s used in almost every field of science and engineering. It’s the universal standard for working with numerical data in Python, and it’s at the core of the scientific Python and PyData ecosystems. NumPy users include everyone from beginning coders to experienced researchers doing state-of-the-art scientific and industrial research and development. The NumPy API is used extensively in Pandas, SciPy, Matplotlib, scikit-learn, scikit-image and most other data science and scientific Python packages.\n",
    "\n",
    "The NumPy library contains multidimensional array and matrix data structures. It provides ndarray, a homogeneous n-dimensional array object, with methods to efficiently operate on it. NumPy can be used to perform a wide variety of mathematical operations on arrays. It adds powerful data structures to Python that guarantee efficient calculations with arrays and matrices and it supplies an enormous library of high-level mathematical functions that operate on these arrays and matrices.[1]\n",
    "\n",
    "Numpy random function is a module inside the numpy library. Random number does NOT mean a different number every time. Random means something that can not be predicted logically.Computers work on programs, and programs are definitive set of instructions. So it means there must be some algorithm to generate a random number as well.\n",
    "\n",
    "If there is a program to generate random number it can be predicted, thus it is not truly random.\n",
    "\n",
    "Random numbers generated through a generation algorithm are called pseudo random.\n",
    "\n",
    "ref: https://www.bing.com/videos/search?q=numpy+random+poisson&&view=detail&mid=0F776D0CC35A1B111E920F776D0CC35A1B111E92&&FORM=VDRVRV\n",
    "ref: https://www.random.org/randomness/\n",
    "\n"
   ]
  },
  {
   "cell_type": "markdown",
   "id": "37e07d03-c604-4023-96cb-cb5582c421a6",
   "metadata": {},
   "source": [
    "<br>\n",
    "\n",
    "## Simple Random Data using the numPY package:\n",
    "\n",
    "***"
   ]
  },
  {
   "cell_type": "markdown",
   "id": "33976a17-746e-4ab9-8b56-dd2078c2babf",
   "metadata": {},
   "source": [
    "Numpy’s random number routines produce pseudo random numbers using combinations of a BitGenerator to create sequences and a Generator to use those sequences to sample from different statistical distributions.\n",
    "\n",
    "Generators are defined on the Numpy random package API as Objects that transform sequences of random bits from a BitGenerator into sequences of numbers that follow a specific probability distribution (such as uniform, Normal or Binomial) within a specified interval.(6)\n",
    "\n",
    "In recent months the numpy random package has made a change to their package in regards the random number genertor (RNG) and the way that seeds are generated. Previously the pseudorandom number generator used in the numpy random package was the Mersenne Twister(MT19937) algorithm.  This algorithm has been updated to use bits provided by the PCG64 (Permuted Congruential Generator) Algorithm.\n",
    "\n",
    "\n",
    "By default, Generator uses bits provided by PCG64 which has better statistical properties than the legacy Mersenne Twister MT19937 used in RandomState."
   ]
  },
  {
   "cell_type": "code",
   "execution_count": 1,
   "id": "0153d47e-bfe5-400a-922c-f67362b069a4",
   "metadata": {},
   "outputs": [],
   "source": [
    "import numpy as np\n",
    "from numpy.random import default_rng\n"
   ]
  },
  {
   "cell_type": "code",
   "execution_count": 2,
   "id": "a51cd944-844e-4b32-87e6-619bd4fd9b10",
   "metadata": {},
   "outputs": [],
   "source": [
    "\n",
    "rng = default_rng(0) \n",
    "vals = rng.standard_normal(2)\n",
    "more_vals = rng.standard_normal(2)\n"
   ]
  },
  {
   "cell_type": "code",
   "execution_count": 3,
   "id": "0696c619-dbaa-490c-8478-e1d2358c651a",
   "metadata": {},
   "outputs": [
    {
     "data": {
      "text/plain": [
       "array([0.64042265, 0.10490012])"
      ]
     },
     "execution_count": 3,
     "metadata": {},
     "output_type": "execute_result"
    }
   ],
   "source": [
    "more_vals"
   ]
  },
  {
   "cell_type": "code",
   "execution_count": 4,
   "id": "3b875f21-17a7-4736-a2ba-268fd4523f89",
   "metadata": {},
   "outputs": [
    {
     "data": {
      "text/plain": [
       "array([ 0.12573022, -0.13210486])"
      ]
     },
     "execution_count": 4,
     "metadata": {},
     "output_type": "execute_result"
    }
   ],
   "source": [
    "vals"
   ]
  },
  {
   "cell_type": "code",
   "execution_count": 5,
   "id": "71777830-1b52-49b9-a3f5-b9766bea38d5",
   "metadata": {},
   "outputs": [
    {
     "data": {
      "text/plain": [
       "['BitGenerator',\n",
       " 'Generator',\n",
       " 'MT19937',\n",
       " 'PCG64',\n",
       " 'Philox',\n",
       " 'RandomState',\n",
       " 'SFC64',\n",
       " 'SeedSequence',\n",
       " '__RandomState_ctor',\n",
       " '__all__',\n",
       " '__builtins__',\n",
       " '__cached__',\n",
       " '__doc__',\n",
       " '__file__',\n",
       " '__loader__',\n",
       " '__name__',\n",
       " '__package__',\n",
       " '__path__',\n",
       " '__spec__',\n",
       " '_bounded_integers',\n",
       " '_common',\n",
       " '_generator',\n",
       " '_mt19937',\n",
       " '_pcg64',\n",
       " '_philox',\n",
       " '_pickle',\n",
       " '_sfc64',\n",
       " 'beta',\n",
       " 'binomial',\n",
       " 'bit_generator',\n",
       " 'bytes',\n",
       " 'chisquare',\n",
       " 'choice',\n",
       " 'default_rng',\n",
       " 'dirichlet',\n",
       " 'exponential',\n",
       " 'f',\n",
       " 'gamma',\n",
       " 'geometric',\n",
       " 'get_state',\n",
       " 'gumbel',\n",
       " 'hypergeometric',\n",
       " 'laplace',\n",
       " 'logistic',\n",
       " 'lognormal',\n",
       " 'logseries',\n",
       " 'mtrand',\n",
       " 'multinomial',\n",
       " 'multivariate_normal',\n",
       " 'negative_binomial',\n",
       " 'noncentral_chisquare',\n",
       " 'noncentral_f',\n",
       " 'normal',\n",
       " 'pareto',\n",
       " 'permutation',\n",
       " 'poisson',\n",
       " 'power',\n",
       " 'rand',\n",
       " 'randint',\n",
       " 'randn',\n",
       " 'random',\n",
       " 'random_integers',\n",
       " 'random_sample',\n",
       " 'ranf',\n",
       " 'rayleigh',\n",
       " 'sample',\n",
       " 'seed',\n",
       " 'set_state',\n",
       " 'shuffle',\n",
       " 'standard_cauchy',\n",
       " 'standard_exponential',\n",
       " 'standard_gamma',\n",
       " 'standard_normal',\n",
       " 'standard_t',\n",
       " 'test',\n",
       " 'triangular',\n",
       " 'uniform',\n",
       " 'vonmises',\n",
       " 'wald',\n",
       " 'weibull',\n",
       " 'zipf']"
      ]
     },
     "execution_count": 5,
     "metadata": {},
     "output_type": "execute_result"
    }
   ],
   "source": [
    "import numpy as np\n",
    "from numpy import random\n",
    "dir(random) # directory of all methods available in the random package of numpy"
   ]
  },
  {
   "cell_type": "markdown",
   "id": "e2e8bf6f-ad07-4365-a7b7-f76930182bb3",
   "metadata": {},
   "source": [
    "# Simple random data function on numPY\n",
    "\n",
    "https://numpy.org/devdocs/reference/random/generator.html\n",
    "\n",
    "https://www.bing.com/videos/search?q=numpy+random+package&&vail&mid=1FC33C069205576E13F61FC33C069205576E13F6&iew=detrvsmid=809DCC1B5D2289AD8843809DCC1B5D2289AD8843&FORM=VDRVRV\n",
    "\n",
    "https://www.youtube.com/watch?v=zWL3z7NMqAs&list=PLi01XoE8jYohWFPpC17Z-wWhPOSuh8Er-&index=19\n",
    "\n",
    "The simple random data function in the numpy API refererence material lists out 4 methods. \n"
   ]
  },
  {
   "cell_type": "markdown",
   "id": "6965c8cc-8481-47a7-a232-54b2a64d0d9e",
   "metadata": {},
   "source": [
    "<br>\n",
    "\n",
    "## Simple Random Data Method 1- Random Integers\n",
    "\n",
    "***\n",
    "\n",
    "The first method is the numpy.random.Generator. integers. This method will return random integers from the discrete uniform distribution of the specified dtype.\n",
    "In previous documentation the numpy user would have used the code random.randint to generate this data but in the updated version we are using rng.integers"
   ]
  },
  {
   "cell_type": "code",
   "execution_count": 6,
   "id": "3178c3d4-4fee-4088-8ce1-f721e61f0137",
   "metadata": {},
   "outputs": [
    {
     "data": {
      "text/plain": [
       "array([2, 1, 0, 0, 1, 3, 0, 1, 0, 3, 0, 2, 2, 1, 3, 0, 3, 3, 2, 2],\n",
       "      dtype=int64)"
      ]
     },
     "execution_count": 6,
     "metadata": {},
     "output_type": "execute_result"
    }
   ],
   "source": [
    "# Begin with importing the libraries and modules we require for using numpy on this jupyter notebook\n",
    "import numpy as np\n",
    "from numpy import random\n",
    "\n",
    "\n",
    "# Plotting.\n",
    "import matplotlib.pyplot as plt\n",
    "\n",
    "# Numpy Random Generator intergers\n",
    "rng = np.random.default_rng() # this will ensure the default generator (PCG64) is being used to generate the numbers\n",
    "rng.integers(4, size=20) # if I use shift+tab here i can get a docstring to show what I need to pass into the function\n",
    "# this will create a random array with numbers up to but not including 4 and the size = 20 random numbers "
   ]
  },
  {
   "cell_type": "code",
   "execution_count": 7,
   "id": "f552b223-8a55-414d-a99e-cfb8b4fd2fb2",
   "metadata": {},
   "outputs": [
    {
     "data": {
      "text/plain": [
       "array([[2, 2, 2, 2, 0],\n",
       "       [6, 4, 0, 1, 6],\n",
       "       [4, 2, 0, 3, 3]], dtype=int64)"
      ]
     },
     "execution_count": 7,
     "metadata": {},
     "output_type": "execute_result"
    }
   ],
   "source": [
    "# generate a 3 x 5 array of integers between 0 and 6 inclusive:\n",
    "rng.integers(7, size = (3,5))  # 3 is the number of rows 5 is the number of colums"
   ]
  },
  {
   "cell_type": "code",
   "execution_count": 8,
   "id": "753d09f0-0ad3-4c36-af81-60c74301e975",
   "metadata": {},
   "outputs": [
    {
     "data": {
      "text/plain": [
       "array([ 5,  2, 11,  1,  8,  1], dtype=int64)"
      ]
     },
     "execution_count": 8,
     "metadata": {},
     "output_type": "execute_result"
    }
   ],
   "source": [
    "# generate a 1 x 6 array with 6 upper bounds\n",
    "rng.integers (1, [7,12,43,4,23,13])"
   ]
  },
  {
   "cell_type": "code",
   "execution_count": 9,
   "id": "fcf74dd1-95c7-4faa-a385-616adc9b7da2",
   "metadata": {},
   "outputs": [
    {
     "data": {
      "text/plain": [
       "array([[ 7,  9,  9,  9],\n",
       "       [14,  8, 18, 15]], dtype=uint8)"
      ]
     },
     "execution_count": 9,
     "metadata": {},
     "output_type": "execute_result"
    }
   ],
   "source": [
    "# Generate a 2 by 4 array using broadcasting with dtype of uint8\n",
    "rng.integers([5, 7, 9, 8], [[10], [20]], dtype=np.uint8)"
   ]
  },
  {
   "cell_type": "code",
   "execution_count": 10,
   "id": "f8b324c3-9af4-4732-9e8a-b7f79b2b24aa",
   "metadata": {},
   "outputs": [
    {
     "data": {
      "text/plain": [
       "array([50,  0, 13, 41, 60, 79, 96, 72, 97,  2], dtype=int64)"
      ]
     },
     "execution_count": 10,
     "metadata": {},
     "output_type": "execute_result"
    }
   ],
   "source": [
    "rng.integers(100, size= 10 ,endpoint=True)"
   ]
  },
  {
   "cell_type": "code",
   "execution_count": 11,
   "id": "1b7227d0-8f3f-43cc-9cc0-e2e730670c47",
   "metadata": {},
   "outputs": [
    {
     "data": {
      "text/plain": [
       "array([[12, 48, 66, 67, 80],\n",
       "       [18, 54, 44, 16, 87],\n",
       "       [97, 12, 91, 32, 24],\n",
       "       [40, 34, 77, 52, 43],\n",
       "       [74, 46, 20, 52,  2]], dtype=int64)"
      ]
     },
     "execution_count": 11,
     "metadata": {},
     "output_type": "execute_result"
    }
   ],
   "source": [
    "rng.integers(100, size = (5,5))"
   ]
  },
  {
   "cell_type": "code",
   "execution_count": 12,
   "id": "852cbbe5-c292-4453-b25c-a626c5681d3d",
   "metadata": {},
   "outputs": [
    {
     "data": {
      "text/plain": [
       "array([[[46, 22],\n",
       "        [13,  3],\n",
       "        [16, 46],\n",
       "        [ 0, 22],\n",
       "        [ 5, 42]],\n",
       "\n",
       "       [[53,  3],\n",
       "        [28, 12],\n",
       "        [33, 47],\n",
       "        [26, 14],\n",
       "        [36, 45]],\n",
       "\n",
       "       [[ 1, 44],\n",
       "        [32,  6],\n",
       "        [40,  9],\n",
       "        [13, 51],\n",
       "        [37, 53]]], dtype=int64)"
      ]
     },
     "execution_count": 12,
     "metadata": {},
     "output_type": "execute_result"
    }
   ],
   "source": [
    "rng.integers (55, size =(3,5,2))# the number 3 here will denote the amount of arrays I want to generate, 5 ows and 2 columns"
   ]
  },
  {
   "cell_type": "code",
   "execution_count": 13,
   "id": "6d584462-48c0-428c-b623-4c79cf9397d4",
   "metadata": {},
   "outputs": [
    {
     "data": {
      "text/plain": [
       "(array([[0., 0., 3., 2., 1., 1., 0., 1., 1., 1.],\n",
       "        [0., 2., 0., 0., 1., 0., 3., 1., 1., 2.],\n",
       "        [0., 1., 0., 3., 2., 0., 1., 1., 1., 1.],\n",
       "        [1., 0., 2., 0., 1., 2., 2., 2., 0., 0.],\n",
       "        [2., 0., 0., 1., 2., 2., 0., 0., 2., 1.],\n",
       "        [0., 0., 0., 2., 1., 1., 1., 3., 1., 1.],\n",
       "        [1., 1., 0., 4., 1., 0., 0., 0., 2., 1.],\n",
       "        [2., 1., 1., 0., 1., 0., 1., 3., 0., 1.],\n",
       "        [2., 1., 0., 0., 1., 1., 0., 2., 2., 1.],\n",
       "        [1., 2., 0., 1., 0., 1., 0., 1., 3., 1.]]),\n",
       " array([ 14. , 110.4, 206.8, 303.2, 399.6, 496. , 592.4, 688.8, 785.2,\n",
       "        881.6, 978. ]),\n",
       " <a list of 10 BarContainer objects>)"
      ]
     },
     "execution_count": 13,
     "metadata": {},
     "output_type": "execute_result"
    },
    {
     "data": {
      "image/png": "[encoded data removed]",
      "text/plain": [
       "<Figure size 432x288 with 1 Axes>"
      ]
     },
     "metadata": {
      "needs_background": "light"
     },
     "output_type": "display_data"
    }
   ],
   "source": [
    "# lets visualise the random interger random function in numpy using the matplotlib\n",
    "x= rng.integers(1000, size = (10,10))\n",
    "plt.hist(x)"
   ]
  },
  {
   "cell_type": "code",
   "execution_count": null,
   "id": "983dde3c-a2f7-4706-aa25-6a2520367ef1",
   "metadata": {},
   "outputs": [],
   "source": []
  },
  {
   "cell_type": "markdown",
   "id": "0e17b2a6-c9d3-4bdb-9238-fc4909e3f345",
   "metadata": {},
   "source": [
    "<br>\n",
    "\n",
    "## Simple Random Data Method 2- numpy.random.Generator.random\n",
    "\n",
    "***\n",
    "\n",
    "Return random floats in the half-open interval [0.0, 1.0).\n",
    "\n",
    "In previous versions of Numpy the code used to generate random float numbers would have been random.rand()\n",
    "\n",
    "https://www.bing.com/videos/search?q=numpy.random.permutation&ru=%2fvideos%2fsearch%3fq%3dnumpy.random.permutation%26qs%3dOS%26form%3dQBVR%26sp%3d3%26pq%3dnumpy%2520random%2520permutation%26sk%3dHS2%26sc%3d5-24%26cvid%3dBFC1C4B64C6F46818C039948F4DFFE46&view=detail&mid=DA31CB36C9D383DD4465DA31CB36C9D383DD4465&&FORM=VDRVSR"
   ]
  },
  {
   "cell_type": "code",
   "execution_count": 14,
   "id": "c2815d45-2e95-42a2-9209-44516ab40e23",
   "metadata": {},
   "outputs": [
    {
     "data": {
      "text/plain": [
       "0.9393205008692417"
      ]
     },
     "execution_count": 14,
     "metadata": {},
     "output_type": "execute_result"
    }
   ],
   "source": [
    "rng.random() # will return a flaoting point number between 0-1"
   ]
  },
  {
   "cell_type": "code",
   "execution_count": 15,
   "id": "89366999-a5d6-4a14-9cd3-151fc5bc8200",
   "metadata": {},
   "outputs": [
    {
     "data": {
      "text/plain": [
       "array([0.78398576, 0.67843533, 0.12471893, 0.31399898, 0.55447743])"
      ]
     },
     "execution_count": 15,
     "metadata": {},
     "output_type": "execute_result"
    }
   ],
   "source": [
    "rng.random((5,)) # will return a random array with five floating point numbers"
   ]
  },
  {
   "cell_type": "code",
   "execution_count": 16,
   "id": "6c4625bf-303f-4bfb-ac8b-3eab4c89090f",
   "metadata": {},
   "outputs": [
    {
     "data": {
      "text/plain": [
       "array([[-8.33468422, -7.69690174],\n",
       "       [-5.40367501, -5.80046582],\n",
       "       [-4.45039805, -4.45122146]])"
      ]
     },
     "execution_count": 16,
     "metadata": {},
     "output_type": "execute_result"
    }
   ],
   "source": [
    "5*rng.random((3, 2)) - 9 #Three rows-by-two colums array of random numbers from [-9, 0):"
   ]
  },
  {
   "cell_type": "code",
   "execution_count": 17,
   "id": "f4313bcf-749f-43d7-ab0e-665bf83223f8",
   "metadata": {},
   "outputs": [
    {
     "data": {
      "text/plain": [
       "array([[0.90870952, 0.39387055],\n",
       "       [0.59104277, 0.27995567],\n",
       "       [0.4558652 , 0.6479779 ]])"
      ]
     },
     "execution_count": 17,
     "metadata": {},
     "output_type": "execute_result"
    }
   ],
   "source": [
    "np.random.rand(3,2) # previous coding used with the MT19937 generator \n",
    "#https://github.com/Disha-Shivale/Numpy-RandomNumber/blob/main/Numpy%20-%20Random%20number.ipynb"
   ]
  },
  {
   "cell_type": "code",
   "execution_count": 18,
   "id": "adfb9712-c311-45ee-aa86-c296931782bb",
   "metadata": {},
   "outputs": [
    {
     "data": {
      "text/plain": [
       "array([[0.78852361, 0.98021343],\n",
       "       [0.74649805, 0.96203141],\n",
       "       [0.72380646, 0.03636168]])"
      ]
     },
     "execution_count": 18,
     "metadata": {},
     "output_type": "execute_result"
    }
   ],
   "source": [
    "rng.random((3,2)) # new coding for a similiar array using the updated API reference material"
   ]
  },
  {
   "cell_type": "code",
   "execution_count": 19,
   "id": "65134d3f-812d-4a95-9bce-8ce43d5c747d",
   "metadata": {},
   "outputs": [
    {
     "name": "stdout",
     "output_type": "stream",
     "text": [
      "0.19861605836953145\n",
      "0.4094978601692263\n",
      "0.9312255394144193\n",
      "0.1613419205027693\n",
      "0.14807431903098422\n",
      "0.6332975111214841\n",
      "0.16301025973123806\n",
      "0.24015980570267803\n",
      "0.23590062979756876\n",
      "0.3371080927003207\n"
     ]
    }
   ],
   "source": [
    "# this will return a list\n",
    "for i in range (10):\n",
    "    print(rng.random())\n",
    "    "
   ]
  },
  {
   "cell_type": "code",
   "execution_count": 20,
   "id": "3537cda2-9b81-453d-ba6f-28be52f4494d",
   "metadata": {},
   "outputs": [
    {
     "data": {
      "text/plain": [
       "array([0.91238307, 0.64394061, 0.47092703, 0.80010652, 0.66859848,\n",
       "       0.05817403, 0.35382467, 0.35514791, 0.3709583 , 0.22370672])"
      ]
     },
     "execution_count": 20,
     "metadata": {},
     "output_type": "execute_result"
    }
   ],
   "source": [
    "rng.random(10)# returns an array"
   ]
  },
  {
   "cell_type": "code",
   "execution_count": 21,
   "id": "676feb94-b33f-41b2-bef8-c312de5e6946",
   "metadata": {},
   "outputs": [
    {
     "name": "stdout",
     "output_type": "stream",
     "text": [
      "Random Number = 0.911027464456436\n"
     ]
    }
   ],
   "source": [
    "#https://codescracker.com/python/program/python-program-generate-random-numbers.htm\n",
    "randnum = rng.random()\n",
    "print(\"Random Number =\", randnum)"
   ]
  },
  {
   "cell_type": "code",
   "execution_count": 22,
   "id": "63b9ce36-f0a5-44d9-8b0f-b8e3980d079f",
   "metadata": {},
   "outputs": [
    {
     "name": "stdout",
     "output_type": "stream",
     "text": [
      "Enter the Range: \n"
     ]
    },
    {
     "name": "stdin",
     "output_type": "stream",
     "text": [
      " 3\n",
      " 6\n"
     ]
    },
    {
     "name": "stdout",
     "output_type": "stream",
     "text": [
      "\n",
      "Random Number = 4\n"
     ]
    }
   ],
   "source": [
    "print(\"Enter the Range: \")\n",
    "start = int(input())\n",
    "end = int(input())\n",
    "\n",
    "\n",
    "randnum = rng.integers(start, end)\n",
    "print(\"\\nRandom Number =\", randnum)"
   ]
  },
  {
   "cell_type": "code",
   "execution_count": 23,
   "id": "5de67fa5-c053-452c-97a1-4aa2bafb22d2",
   "metadata": {},
   "outputs": [
    {
     "name": "stdout",
     "output_type": "stream",
     "text": [
      "Enter the Range: \n"
     ]
    },
    {
     "name": "stdin",
     "output_type": "stream",
     "text": [
      " 3\n",
      " 6\n"
     ]
    },
    {
     "name": "stdout",
     "output_type": "stream",
     "text": [
      "\n",
      "Random Number = 4\n"
     ]
    }
   ],
   "source": [
    "print(\"Enter the Range: \")\n",
    "try:\n",
    "  start = int(input())\n",
    "  try:\n",
    "    end = int(input())\n",
    "    randnum = rng.integers(start, end)\n",
    "    print(\"\\nRandom Number =\", randnum)\n",
    "  except ValueError:\n",
    "    print(\"\\nInvalid Input!\")\n",
    "except ValueError:\n",
    "  print(\"\\nInvalid Input!\")"
   ]
  },
  {
   "cell_type": "code",
   "execution_count": 24,
   "id": "4e510b60-1b3a-492a-845f-9ef35c591d83",
   "metadata": {},
   "outputs": [
    {
     "name": "stdout",
     "output_type": "stream",
     "text": [
      "Enter the Range (Interval): \n"
     ]
    },
    {
     "name": "stdin",
     "output_type": "stream",
     "text": [
      " 3\n",
      " 6\n"
     ]
    },
    {
     "name": "stdout",
     "output_type": "stream",
     "text": [
      "\n",
      "How Many Random Numbers to Generate ? \n"
     ]
    },
    {
     "name": "stdin",
     "output_type": "stream",
     "text": [
      " 10\n"
     ]
    },
    {
     "name": "stdout",
     "output_type": "stream",
     "text": [
      "\n",
      "List of 10 Random Numbers between 3 and 6\n",
      "3 5 5 4 4 5 4 3 4 5 \n"
     ]
    }
   ],
   "source": [
    "print(\"Enter the Range (Interval): \")\n",
    "a = int(input())\n",
    "b = int(input())\n",
    "\n",
    "if a>b:\n",
    "  t = a\n",
    "  a = b\n",
    "  b = t\n",
    "\n",
    "print(\"\\nHow Many Random Numbers to Generate ? \")\n",
    "tot = int(input())\n",
    "\n",
    "randnums = []\n",
    "for i in range(tot):\n",
    "  randnums.append(rng.integers(a, b))\n",
    "\n",
    "print(\"\\nList of \" +str(tot)+ \" Random Numbers between \" +str(a)+ \" and \" +str(b))\n",
    "for i in range(tot):\n",
    "  print(randnums[i], end=\" \")\n",
    "print()"
   ]
  },
  {
   "cell_type": "code",
   "execution_count": 25,
   "id": "7aeed3cf-985a-4534-9498-d19b06301bec",
   "metadata": {},
   "outputs": [
    {
     "data": {
      "text/plain": [
       "[0.7579148377949153,\n",
       " 0.9914406435316582,\n",
       " 0.41969080026078676,\n",
       " 0.34059641022240106,\n",
       " 0.9462325971056833]"
      ]
     },
     "execution_count": 25,
     "metadata": {},
     "output_type": "execute_result"
    }
   ],
   "source": [
    "#https://realpython.com/python-random/\n",
    "#One thing you might have noticed is that a majority of the functions from random return a \n",
    "#scalar value (a single int, float, or other object). If you wanted to generate a sequence of random numbers,\n",
    "#one way to achieve that would be with a Python list comprehension:\n",
    "\n",
    "[rng.random() for _ in range(5)]\n"
   ]
  },
  {
   "cell_type": "markdown",
   "id": "371d4fcd-9f6a-4489-a7cc-6f32334b4aae",
   "metadata": {},
   "source": [
    "#### Using a for loop  and numpy random to repeat the four flips over and over again \n",
    "\n",
    "We need to initialize the number to zero and then do 10,000 repeats of the 4 flip trials "
   ]
  },
  {
   "cell_type": "code",
   "execution_count": null,
   "id": "8924299b-fcbe-45dc-8c65-90c96c46ab86",
   "metadata": {},
   "outputs": [],
   "source": [
    "n_all_heads = 0\n",
    "for _ in range (10000):\n",
    "    heads =rng.random(size=4) < 0.5\n",
    "    n_heads = np.sum(heads)\n",
    "    if n_heads == 4:\n",
    "        n_all_heads += 1\n",
    "        \n",
    "n_all_heads / 10000\n",
    "\n",
    "# probability of getting all four heads in all flips"
   ]
  },
  {
   "cell_type": "markdown",
   "id": "7906847d-9229-4673-a69e-8019e3108a0d",
   "metadata": {},
   "source": [
    "<br>\n",
    "\n",
    "### The Monte Carlo Simulation Using numpy random\n",
    "\n",
    "***\n",
    "\n",
    "The Monte Carlo method is a data analysis technique used in cases where there’s an intervention of random variables. It was invented during the second World War to improve decision-making under highly uncertain conditions. A Monte Carlo simulation is named as such after the famous casino district of  Monaco, because the element of ‘luck’ or ‘chance’ is inherent to the modeling approach here. Monte Carlo simulations use multiple values to replace uncertain variables, instead of just replacing them with a simple average—a ‘soft’ analysis method that doesn’t quite give accurate results. \n",
    "\n",
    "Businesses often deal with uncertain variables that can impact important outcomes. The Monte Carlo simulation can be used to mitigate risks by predicting the likelihood of these outcomes.\n",
    "\n",
    "Artificial intelligence, stock prices, sales forecasting, project management, and pricing are just a few of Monte Carlo simulations’ many functions. Monte Carlo simulations can also be used to conduct sensitivity analysis and calculate the correlation of inputs.\n",
    "\n",
    "ref: https://careerfoundry.com/en/blog/data-analytics/monte-carlo-method/#monte-carlo-machine-learning\n",
    "ref: https://machinelearningmastery.com/monte-carlo-sampling-for-probability/\n",
    "ref :https://pbpython.com/monte-carlo.html"
   ]
  },
  {
   "cell_type": "code",
   "execution_count": null,
   "id": "32da3745-5902-45df-80f0-4941431f749f",
   "metadata": {},
   "outputs": [],
   "source": []
  },
  {
   "cell_type": "code",
   "execution_count": null,
   "id": "b2f765db-0dd7-4b0c-9729-a37e96b1b909",
   "metadata": {},
   "outputs": [],
   "source": []
  },
  {
   "cell_type": "code",
   "execution_count": null,
   "id": "ab6a1de8-6185-4907-94e5-4259d5c55a67",
   "metadata": {},
   "outputs": [],
   "source": []
  },
  {
   "cell_type": "code",
   "execution_count": null,
   "id": "6c6b01c5-3da8-4d54-8a42-89789754202d",
   "metadata": {},
   "outputs": [],
   "source": []
  },
  {
   "cell_type": "code",
   "execution_count": null,
   "id": "754f1205-b251-4814-b1bb-6ef606dff69e",
   "metadata": {},
   "outputs": [],
   "source": []
  },
  {
   "cell_type": "code",
   "execution_count": null,
   "id": "bdc84872-4486-4859-8e6e-cef27445160c",
   "metadata": {},
   "outputs": [],
   "source": []
  },
  {
   "cell_type": "markdown",
   "id": "815e384e-f71e-48db-b5b7-94e7e67742cc",
   "metadata": {},
   "source": [
    "<br>\n",
    "\n",
    "### Simple Random Data Method 3- Choice Method\n",
    "\n",
    "***\n",
    "\n",
    "The NumPy random choice() function is used to gets the random samples of a one-dimensional array which returns as the random samples of NumPy array. The NumPy random choice() function is a built-in function in the NumPy package of python. The NumPy random choice() function generate random samples which are commonly used in data statistics, data analysis, data-related fields, and all and also can be used in probability, machine learning, Bayesian statistics, and all.\n",
    "\n",
    "https://www.educba.com/numpy-random-choice/\n",
    "https://www.codeleaks.io/numpy-random-choice-python/"
   ]
  },
  {
   "cell_type": "code",
   "execution_count": 26,
   "id": "7df769aa-9eff-4842-b380-9ef73190d2ab",
   "metadata": {},
   "outputs": [
    {
     "data": {
      "text/plain": [
       "array([1, 4, 4], dtype=int64)"
      ]
     },
     "execution_count": 26,
     "metadata": {},
     "output_type": "execute_result"
    }
   ],
   "source": [
    "#Generate a uniform random sample from np.arange(5) of size 3:\n",
    "rng.choice(5, 3)"
   ]
  },
  {
   "cell_type": "code",
   "execution_count": 27,
   "id": "c78ab7f6-12f6-409f-b545-314ad0a062bd",
   "metadata": {},
   "outputs": [
    {
     "data": {
      "text/plain": [
       "array([2, 3, 3], dtype=int64)"
      ]
     },
     "execution_count": 27,
     "metadata": {},
     "output_type": "execute_result"
    }
   ],
   "source": [
    "#Generate a non-uniform random sample from np.arange(5) of size 3:\n",
    "rng.choice(5, 3, p=[0.1, 0, 0.3, 0.6, 0])"
   ]
  },
  {
   "cell_type": "code",
   "execution_count": 28,
   "id": "a8406ae5-edfb-4c08-a94f-0dce54395642",
   "metadata": {},
   "outputs": [
    {
     "data": {
      "text/plain": [
       "array(['The Shawshank Redemption', 'Pulp Fiction', 'The Wizard of Oz'],\n",
       "      dtype='<U24')"
      ]
     },
     "execution_count": 28,
     "metadata": {},
     "output_type": "execute_result"
    }
   ],
   "source": [
    "list_movie = [ 'The Godfather', 'The Shawshank Redemption', 'The Wizard of Oz', 'Citizen Kane', 'Pulp Fiction' ] # Using choice() method of random class\n",
    "rng.choice( list_movie, size = 3, replace = False )"
   ]
  },
  {
   "cell_type": "code",
   "execution_count": 29,
   "id": "d2c3350d-a5c6-4d8b-80cd-4ae98948340f",
   "metadata": {},
   "outputs": [
    {
     "data": {
      "text/plain": [
       "'black'"
      ]
     },
     "execution_count": 29,
     "metadata": {},
     "output_type": "execute_result"
    }
   ],
   "source": [
    "colours = [\"green\", \"red\", \"yellow\",\"black\",\"orange\"]\n",
    "\n",
    "results = rng.choice (colours)\n",
    "\n",
    "results"
   ]
  },
  {
   "cell_type": "code",
   "execution_count": 30,
   "id": "9e845cc9-727d-400e-b9a2-45a0f5ae45f2",
   "metadata": {},
   "outputs": [
    {
     "data": {
      "text/plain": [
       "array(['orange', 'red', 'green', 'green', 'black'], dtype='<U6')"
      ]
     },
     "execution_count": 30,
     "metadata": {},
     "output_type": "execute_result"
    }
   ],
   "source": [
    "colours = [\"green\", \"red\", \"yellow\",\"black\",\"orange\"]\n",
    "#Setting user-specified probabilities through p uses a more general but less efficient sampler than the default. \n",
    "#The general sampler produces a different sample than the optimized sampler even if each element of p is 1 / len(a).\n",
    "rng.choice(colours, 5, p=[0.5, 0.1, 0.1, 0.2,0.1])\n"
   ]
  },
  {
   "cell_type": "code",
   "execution_count": 37,
   "id": "b6513b0e-3793-41a7-8261-00ba2fb291c9",
   "metadata": {},
   "outputs": [
    {
     "data": {
      "text/plain": [
       "array([4, 4, 0], dtype=int64)"
      ]
     },
     "execution_count": 37,
     "metadata": {},
     "output_type": "execute_result"
    }
   ],
   "source": [
    "rng.choice(5, 3)\n",
    "##This is equivalent to rng.integers(0,5,3)\n",
    "#Generate a uniform random sample from np.arange(5) of size 3:"
   ]
  },
  {
   "cell_type": "code",
   "execution_count": 38,
   "id": "a9d09ca1-9bba-43a7-afa0-d68b2e1d2677",
   "metadata": {},
   "outputs": [
    {
     "data": {
      "text/plain": [
       "array([0, 3, 2], dtype=int64)"
      ]
     },
     "execution_count": 38,
     "metadata": {},
     "output_type": "execute_result"
    }
   ],
   "source": [
    "#Generate a non-uniform random sample from np.arange(5) of size 3:\n",
    "rng.choice(5, 3, p=[0.1, 0, 0.3, 0.6, 0])\n"
   ]
  },
  {
   "cell_type": "code",
   "execution_count": 39,
   "id": "addbe995-3b89-4994-9297-2baa62778566",
   "metadata": {},
   "outputs": [
    {
     "data": {
      "text/plain": [
       "array([3, 2, 0], dtype=int64)"
      ]
     },
     "execution_count": 39,
     "metadata": {},
     "output_type": "execute_result"
    }
   ],
   "source": [
    "#Generate a uniform random sample from np.arange(5) of size 3 without replacement:\n",
    "rng.choice(5, 3, replace=False)\n",
    "#This is equivalent to rng.permutation(np.arange(5))[:3]"
   ]
  },
  {
   "cell_type": "code",
   "execution_count": 40,
   "id": "2a3222d2-2b0b-421e-84b0-8bf7a658b2f3",
   "metadata": {},
   "outputs": [
    {
     "data": {
      "text/plain": [
       "array([[6, 7, 8],\n",
       "       [0, 1, 2]])"
      ]
     },
     "execution_count": 40,
     "metadata": {},
     "output_type": "execute_result"
    }
   ],
   "source": [
    "#Generate a uniform random sample from a 2-D array along the first axis (the default), without replacement:\n",
    "rng.choice([[0, 1, 2], [3, 4, 5], [6, 7, 8]], 2, replace=False)"
   ]
  },
  {
   "cell_type": "code",
   "execution_count": 41,
   "id": "c09beedd-a97f-4f1d-a0bc-ad29d8eab513",
   "metadata": {},
   "outputs": [
    {
     "data": {
      "text/plain": [
       "array(['Peppa', 'pooh', 'pooh', 'pooh', 'pooh'], dtype='<U6')"
      ]
     },
     "execution_count": 41,
     "metadata": {},
     "output_type": "execute_result"
    }
   ],
   "source": [
    "names= ['pooh', 'rabbit', 'piglet', 'Peppa']\n",
    "rng.choice(names, 5, p=[0.5, 0.1, 0.1, 0.3])\n"
   ]
  },
  {
   "cell_type": "markdown",
   "id": "49f0e52e-72b1-4eb6-859e-bae7f02ce737",
   "metadata": {},
   "source": [
    "<br>\n",
    "\n",
    "### Paper, Rock or Scissors Game using random choice\n",
    "\n",
    "***\n",
    "\n",
    "https://realpython.com/python-rock-paper-scissors/"
   ]
  },
  {
   "cell_type": "code",
   "execution_count": 148,
   "id": "7c7459a0-51ac-4db7-a326-7d1294bba34a",
   "metadata": {},
   "outputs": [
    {
     "name": "stdin",
     "output_type": "stream",
     "text": [
      "Enter a choice (rock, paper, scissors):  scissors\n"
     ]
    },
    {
     "name": "stdout",
     "output_type": "stream",
     "text": [
      "\n",
      "You chose scissors, computer chose scissors.\n",
      "\n",
      "Both players selected scissors. It's a tie!\n"
     ]
    }
   ],
   "source": [
    "user_action = input(\"Enter a choice (rock, paper, scissors): \")\n",
    "possible_actions = [\"rock\", \"paper\", \"scissors\"]\n",
    "computer_action = rng.choice(possible_actions)\n",
    "print(f\"\\nYou chose {user_action}, computer chose {computer_action}.\\n\") #Now that both players have made their choice, you just need a way to decide who wins. \n",
    "if user_action == computer_action: #Using an if … elif … else block, you can compare players’ choices and determine a winner:\n",
    "    print(f\"Both players selected {user_action}. It's a tie!\")\n",
    "elif user_action == \"rock\":\n",
    "    if computer_action == \"scissors\":\n",
    "        print(\"Rock smashes scissors! You win!\")\n",
    "    else:\n",
    "        print(\"Paper covers rock! You lose.\")\n",
    "elif user_action == \"paper\":\n",
    "    if computer_action == \"rock\":\n",
    "        print(\"Paper covers rock! You win!\")\n",
    "    else:\n",
    "        print(\"Scissors cuts paper! You lose.\")\n",
    "elif user_action == \"scissors\":\n",
    "    if computer_action == \"paper\":\n",
    "        print(\"Scissors cuts paper! You win!\")\n",
    "    else:\n",
    "        print(\"Rock smashes scissors! You lose.\") \n",
    "        \n",
    "            \n",
    "    "
   ]
  },
  {
   "cell_type": "markdown",
   "id": "0379ff55-cc18-4679-ad08-be5f9782ff76",
   "metadata": {},
   "source": [
    "### Simple Random Data Method 3- Bytes"
   ]
  },
  {
   "cell_type": "code",
   "execution_count": null,
   "id": "b6fe1f18-5582-4493-8506-8aba1c34aab4",
   "metadata": {},
   "outputs": [],
   "source": [
    "np.random.default_rng().bytes(200)"
   ]
  },
  {
   "cell_type": "code",
   "execution_count": null,
   "id": "87a35a50-7fdb-4d07-ba49-a53c786e36c4",
   "metadata": {},
   "outputs": [],
   "source": [
    "import os\n",
    "os.urandom(3)"
   ]
  },
  {
   "cell_type": "code",
   "execution_count": null,
   "id": "93c18987-c305-473e-80b9-10bc99e7a6f0",
   "metadata": {},
   "outputs": [],
   "source": []
  },
  {
   "cell_type": "code",
   "execution_count": null,
   "id": "070775e3-d95d-4bee-bab6-d6fc3e16e8fa",
   "metadata": {},
   "outputs": [],
   "source": []
  },
  {
   "cell_type": "code",
   "execution_count": null,
   "id": "6dd925d4-be4d-43f3-8657-3d896de96e52",
   "metadata": {},
   "outputs": [],
   "source": []
  },
  {
   "cell_type": "code",
   "execution_count": null,
   "id": "66c4e8fa-a085-494b-9be9-c4157878ee78",
   "metadata": {},
   "outputs": [],
   "source": []
  },
  {
   "cell_type": "code",
   "execution_count": null,
   "id": "771304a3-1d29-45b7-ba69-e9c11d2f626e",
   "metadata": {},
   "outputs": [],
   "source": []
  },
  {
   "cell_type": "code",
   "execution_count": null,
   "id": "3f5d2468-267e-4498-9eac-2f25705875fc",
   "metadata": {},
   "outputs": [],
   "source": []
  },
  {
   "cell_type": "markdown",
   "id": "aaa19574-cfba-4da6-9127-e05208a58407",
   "metadata": {},
   "source": []
  },
  {
   "cell_type": "markdown",
   "id": "a5e8ea06-aae1-474b-9b50-afae50931873",
   "metadata": {},
   "source": [
    "<br>\n",
    "\n",
    "## Permutation Functions in NumPy:\n",
    "\n",
    "***\n",
    "\n",
    "REF: https://numpy.org/devdocs/reference/random/generator.html\n",
    "\n",
    "The methods for randomly permuting a sequence are\n",
    "\n",
    "shuffle(x[, axis]): Modify an array or sequence in-place by shuffling its contents.\n",
    "\n",
    "permutation(x[, axis]):Randomly permute a sequence, or return a permuted range.\n",
    "\n",
    "permuted(x[, axis, out]): Randomly permute x along axis axis.\n",
    "A permutation refers to an arrangement of elements. e.g. [3, 2, 1] is a permutation of [1, 2, 3] and vice-versa.\n",
    "\n",
    "The NumPy Random module provides two methods for this: shuffle() and permutation().[4]\n",
    "\n",
    "The main difference between Generator.shuffle and Generator.permutation is that Generator.shuffle operates in-place, while Generator.permutation returns a copy.\n",
    "\n",
    "By default, Generator.permuted returns a copy. To operate in-place with Generator.permuted, pass the same array as the first argument and as the value of the out parameter."
   ]
  },
  {
   "cell_type": "code",
   "execution_count": 43,
   "id": "641b5b0e-610c-468b-8f27-613282835567",
   "metadata": {},
   "outputs": [
    {
     "data": {
      "text/plain": [
       "array([[ 0,  1,  2,  3,  4],\n",
       "       [ 5,  6,  7,  8,  9],\n",
       "       [10, 11, 12, 13, 14]])"
      ]
     },
     "execution_count": 43,
     "metadata": {},
     "output_type": "execute_result"
    }
   ],
   "source": [
    "rng = np.random.default_rng()\n",
    "x = np.arange(0, 15).reshape(3, 5)\n",
    "x\n"
   ]
  },
  {
   "cell_type": "code",
   "execution_count": 44,
   "id": "d625804b-0ddb-4daa-bf0b-397a01b17fea",
   "metadata": {},
   "outputs": [],
   "source": [
    "y = rng.permuted(x, axis=1, out=x)\n"
   ]
  },
  {
   "cell_type": "code",
   "execution_count": 45,
   "id": "119fabc4-fb3b-4e47-8d27-421832bb98e4",
   "metadata": {},
   "outputs": [
    {
     "data": {
      "text/plain": [
       "array([[ 4,  2,  0,  1,  3],\n",
       "       [ 5,  9,  7,  8,  6],\n",
       "       [13, 10, 11, 14, 12]])"
      ]
     },
     "execution_count": 45,
     "metadata": {},
     "output_type": "execute_result"
    }
   ],
   "source": [
    "x"
   ]
  },
  {
   "cell_type": "code",
   "execution_count": 46,
   "id": "9058766f-2341-451d-a883-cbb7dfda5719",
   "metadata": {},
   "outputs": [
    {
     "data": {
      "text/plain": [
       "array([[ 4,  2,  0,  1,  3],\n",
       "       [ 5,  9,  7,  8,  6],\n",
       "       [13, 10, 11, 14, 12]])"
      ]
     },
     "execution_count": 46,
     "metadata": {},
     "output_type": "execute_result"
    }
   ],
   "source": [
    "y # this is the same output for x and y. "
   ]
  },
  {
   "cell_type": "code",
   "execution_count": 47,
   "id": "5fdf5a32-47de-4776-871b-e871d5678075",
   "metadata": {},
   "outputs": [
    {
     "data": {
      "text/plain": [
       "True"
      ]
     },
     "execution_count": 47,
     "metadata": {},
     "output_type": "execute_result"
    }
   ],
   "source": [
    "y is x"
   ]
  },
  {
   "cell_type": "markdown",
   "id": "04695c0f-b9ae-4fd8-9e10-cd6ef2138313",
   "metadata": {},
   "source": [
    "Handling the axis parameter\n",
    "An important distinction for these methods is how they handle the axis parameter. Both Generator.shuffle and Generator.permutation treat the input as a one-dimensional sequence, and the axis parameter determines which dimension of the input array to use as the sequence. In the case of a two-dimensional array, axis=0 will, in effect, rearrange the rows of the array, and axis=1 will rearrange the columns. "
   ]
  },
  {
   "cell_type": "code",
   "execution_count": 48,
   "id": "864bc69f-a931-4591-8df3-fc866e6c3114",
   "metadata": {},
   "outputs": [
    {
     "data": {
      "text/plain": [
       "array([[ 0,  1,  2,  3,  4],\n",
       "       [ 5,  6,  7,  8,  9],\n",
       "       [10, 11, 12, 13, 14]])"
      ]
     },
     "execution_count": 48,
     "metadata": {},
     "output_type": "execute_result"
    }
   ],
   "source": [
    "rng = np.random.default_rng()\n",
    "x = np.arange(0, 15).reshape(3, 5)\n",
    "x"
   ]
  },
  {
   "cell_type": "code",
   "execution_count": 49,
   "id": "60747eec-c554-43b9-a3e3-77bcffd3c5c8",
   "metadata": {},
   "outputs": [
    {
     "data": {
      "text/plain": [
       "array([[ 0,  3,  2,  1,  4],\n",
       "       [ 5,  8,  7,  6,  9],\n",
       "       [10, 13, 12, 11, 14]])"
      ]
     },
     "execution_count": 49,
     "metadata": {},
     "output_type": "execute_result"
    }
   ],
   "source": [
    "rng.permutation(x, axis=1)"
   ]
  },
  {
   "cell_type": "code",
   "execution_count": 50,
   "id": "64ff86ac-eaf7-407d-8af5-c0c63aff7ce7",
   "metadata": {},
   "outputs": [
    {
     "data": {
      "text/plain": [
       "array([[ 5,  6,  7,  8,  9],\n",
       "       [10, 11, 12, 13, 14],\n",
       "       [ 0,  1,  2,  3,  4]])"
      ]
     },
     "execution_count": 50,
     "metadata": {},
     "output_type": "execute_result"
    }
   ],
   "source": [
    "rng.permutation(x, axis=0) #axis = 0 has rearranged the rows while axis = 1 will rearrange the columns. The columss have been rearranged in bulk\n",
    "#values within the columns have not changed "
   ]
  },
  {
   "cell_type": "markdown",
   "id": "5ad2433a-1837-4d89-9c33-110cfc712555",
   "metadata": {},
   "source": [
    "The method Generator.permuted treats the axis parameter similar to how numpy.sort treats it. Each slice along the given axis is shuffled independently of the others. Compare the following example of the use of Generator.permuted to the above example of Generator.permutation:"
   ]
  },
  {
   "cell_type": "code",
   "execution_count": 51,
   "id": "bdce683d-f1a6-4ff5-9f4f-49be8b7eeb5c",
   "metadata": {},
   "outputs": [
    {
     "data": {
      "text/plain": [
       "array([[ 0,  2,  1,  4,  3],\n",
       "       [ 9,  5,  7,  8,  6],\n",
       "       [10, 11, 14, 13, 12]])"
      ]
     },
     "execution_count": 51,
     "metadata": {},
     "output_type": "execute_result"
    }
   ],
   "source": [
    "rng.permuted(x, axis=1)"
   ]
  },
  {
   "cell_type": "code",
   "execution_count": 52,
   "id": "038b6ac7-d23d-4056-9385-8e1b0423559d",
   "metadata": {},
   "outputs": [
    {
     "data": {
      "text/plain": [
       "array([0, 5, 7, 4, 3, 8, 2, 6, 1])"
      ]
     },
     "execution_count": 52,
     "metadata": {},
     "output_type": "execute_result"
    }
   ],
   "source": [
    "#https://www.pythonpool.com/numpy-random-permutation/\n",
    "result = rng.permutation(9) #pass a number in as an argument for the function \n",
    "result # returns 9 integer values in an array up to the value 9 "
   ]
  },
  {
   "cell_type": "code",
   "execution_count": 53,
   "id": "77dd7df1-70b0-4b8d-8269-ef5d276e6694",
   "metadata": {},
   "outputs": [
    {
     "data": {
      "text/plain": [
       "array([6, 9, 5, 8, 2, 9, 8])"
      ]
     },
     "execution_count": 53,
     "metadata": {},
     "output_type": "execute_result"
    }
   ],
   "source": [
    "arr= [2,5,9,8,6,8,9]\n",
    "result = rng.permutation(arr)\n",
    "result # input is an array the output is a permuted array of the numbers "
   ]
  },
  {
   "cell_type": "code",
   "execution_count": 54,
   "id": "cf593955-4d0a-4eb0-9571-bd36cf59d1b4",
   "metadata": {},
   "outputs": [
    {
     "data": {
      "text/plain": [
       "array([[ 4,  5,  6,  7],\n",
       "       [ 0,  1,  2,  3],\n",
       "       [ 8,  9, 10, 11],\n",
       "       [12, 13, 14, 15]])"
      ]
     },
     "execution_count": 54,
     "metadata": {},
     "output_type": "execute_result"
    }
   ],
   "source": [
    "arr = np.arange(16).reshape((4,4))\n",
    "result = rng.permutation(arr)\n",
    "result # everytime you run the code you will get a different array "
   ]
  },
  {
   "cell_type": "code",
   "execution_count": 55,
   "id": "e4803560-2cf4-4516-a5c3-13a17627216f",
   "metadata": {},
   "outputs": [
    {
     "data": {
      "image/png": "[encoded data removed]",
      "text/plain": [
       "<Figure size 432x288 with 1 Axes>"
      ]
     },
     "metadata": {
      "needs_background": "light"
     },
     "output_type": "display_data"
    }
   ],
   "source": [
    "arr1 = np.arange(40). reshape((10,4))\n",
    "arr = rng.permuted(arr1, axis=1)\n",
    "c,bin, ig =plt.hist(arr, 15, density =True)\n",
    "plt.show()"
   ]
  },
  {
   "cell_type": "code",
   "execution_count": 56,
   "id": "b558e28d-f54f-498b-a0cf-f47b73fe2e3c",
   "metadata": {},
   "outputs": [
    {
     "data": {
      "image/png": "[encoded data removed]",
      "text/plain": [
       "<Figure size 432x288 with 1 Axes>"
      ]
     },
     "metadata": {
      "needs_background": "light"
     },
     "output_type": "display_data"
    }
   ],
   "source": [
    "arr = np.random.permutation(100)\n",
    "   \n",
    "c, bin, ig = plt.hist(arr, 15, density = True)\n",
    "plt.show()"
   ]
  },
  {
   "cell_type": "code",
   "execution_count": 57,
   "id": "07609459-3a2e-41e6-a8ec-4863a767179f",
   "metadata": {},
   "outputs": [],
   "source": [
    "#https://www.bing.com/videos/search?q=numpy.random.permutation&&view=detail&mid=00F62AB43A84335434AB00F62AB43A84335434AB&&FORM=VRDGAR&ru=%2Fvideos%2Fsearch%3Fq%3Dnumpy.random.permutation%26qs%3DOS%26form%3DQBVR%26sp%3D3%26pq%3Dnumpy%2520random%2520permutation%26sk%3DHS2%26sc%3D5-24%26cvid%3DBFC1C4B64C6F46818C039948F4DFFE46\n",
    "#using the permutation function with pandas module\n",
    "import pandas as pd\n"
   ]
  },
  {
   "cell_type": "code",
   "execution_count": 58,
   "id": "d197b52e-0641-4fcd-b0e5-2b4951873be7",
   "metadata": {},
   "outputs": [],
   "source": [
    "raw_data = {\"county\": [\"Cavan\", \"Meath\",\"Leitrim\",\"Dublin\",\"Kildare\",\"Louth\"], \"Rank\": [\"1st\",\"2nd\",\"3rd\",\"4th\",\"5th\",\"6th\"], \"CovidCases\":[\"26\",\"99\",\"45\",\"189\",\"145\",\"99\"]\n",
    "            , \"CovidDeaths\": [\"2\",\"4\",\"1\",\"20\",\"12\",\"8\"]}\n",
    "\n",
    "df= pd.DataFrame(raw_data, index = pd.Index ([\"A\",\"B\",\"C\",\"D\",\"E\",\"F\",], name = \"letter\"),\n",
    "                columns = pd.Index ([\"county\",\"Rank\",\"CovidCases\",\"CovidDeaths\"], name = \"attributes\"))"
   ]
  },
  {
   "cell_type": "code",
   "execution_count": 59,
   "id": "be1b3570-7631-4835-8f3c-d51567b17e25",
   "metadata": {},
   "outputs": [
    {
     "data": {
      "text/html": [
       "<div>\n",
       "<style scoped>\n",
       "    .dataframe tbody tr th:only-of-type {\n",
       "        vertical-align: middle;\n",
       "    }\n",
       "\n",
       "    .dataframe tbody tr th {\n",
       "        vertical-align: top;\n",
       "    }\n",
       "\n",
       "    .dataframe thead th {\n",
       "        text-align: right;\n",
       "    }\n",
       "</style>\n",
       "<table border=\"1\" class=\"dataframe\">\n",
       "  <thead>\n",
       "    <tr style=\"text-align: right;\">\n",
       "      <th>attributes</th>\n",
       "      <th>county</th>\n",
       "      <th>Rank</th>\n",
       "      <th>CovidCases</th>\n",
       "      <th>CovidDeaths</th>\n",
       "    </tr>\n",
       "    <tr>\n",
       "      <th>letter</th>\n",
       "      <th></th>\n",
       "      <th></th>\n",
       "      <th></th>\n",
       "      <th></th>\n",
       "    </tr>\n",
       "  </thead>\n",
       "  <tbody>\n",
       "    <tr>\n",
       "      <th>A</th>\n",
       "      <td>Cavan</td>\n",
       "      <td>1st</td>\n",
       "      <td>26</td>\n",
       "      <td>2</td>\n",
       "    </tr>\n",
       "    <tr>\n",
       "      <th>B</th>\n",
       "      <td>Meath</td>\n",
       "      <td>2nd</td>\n",
       "      <td>99</td>\n",
       "      <td>4</td>\n",
       "    </tr>\n",
       "    <tr>\n",
       "      <th>C</th>\n",
       "      <td>Leitrim</td>\n",
       "      <td>3rd</td>\n",
       "      <td>45</td>\n",
       "      <td>1</td>\n",
       "    </tr>\n",
       "    <tr>\n",
       "      <th>D</th>\n",
       "      <td>Dublin</td>\n",
       "      <td>4th</td>\n",
       "      <td>189</td>\n",
       "      <td>20</td>\n",
       "    </tr>\n",
       "    <tr>\n",
       "      <th>E</th>\n",
       "      <td>Kildare</td>\n",
       "      <td>5th</td>\n",
       "      <td>145</td>\n",
       "      <td>12</td>\n",
       "    </tr>\n",
       "    <tr>\n",
       "      <th>F</th>\n",
       "      <td>Louth</td>\n",
       "      <td>6th</td>\n",
       "      <td>99</td>\n",
       "      <td>8</td>\n",
       "    </tr>\n",
       "  </tbody>\n",
       "</table>\n",
       "</div>"
      ],
      "text/plain": [
       "attributes   county Rank CovidCases CovidDeaths\n",
       "letter                                         \n",
       "A             Cavan  1st         26           2\n",
       "B             Meath  2nd         99           4\n",
       "C           Leitrim  3rd         45           1\n",
       "D            Dublin  4th        189          20\n",
       "E           Kildare  5th        145          12\n",
       "F             Louth  6th         99           8"
      ]
     },
     "execution_count": 59,
     "metadata": {},
     "output_type": "execute_result"
    }
   ],
   "source": [
    "df"
   ]
  },
  {
   "cell_type": "code",
   "execution_count": 60,
   "id": "27f1dbed-a2e8-428a-88b8-6fd33b366c7c",
   "metadata": {},
   "outputs": [],
   "source": [
    "nrows= df.shape[0] # this will give us back the number of rows"
   ]
  },
  {
   "cell_type": "code",
   "execution_count": 61,
   "id": "ed7ec4fd-4589-4f60-9b68-72f90483a883",
   "metadata": {},
   "outputs": [],
   "source": [
    "b = rng.permutation (nrows)"
   ]
  },
  {
   "cell_type": "code",
   "execution_count": 62,
   "id": "6dc00313-7586-45bc-b395-5dccf0f65ed0",
   "metadata": {},
   "outputs": [
    {
     "data": {
      "text/plain": [
       "array([1, 0, 4, 2, 3, 5])"
      ]
     },
     "execution_count": 62,
     "metadata": {},
     "output_type": "execute_result"
    }
   ],
   "source": [
    "b # will give back a permutated sequence of the number of rows in an array"
   ]
  },
  {
   "cell_type": "code",
   "execution_count": 63,
   "id": "ff16222a-24c9-4849-b587-bd31eceb1935",
   "metadata": {},
   "outputs": [
    {
     "data": {
      "text/html": [
       "<div>\n",
       "<style scoped>\n",
       "    .dataframe tbody tr th:only-of-type {\n",
       "        vertical-align: middle;\n",
       "    }\n",
       "\n",
       "    .dataframe tbody tr th {\n",
       "        vertical-align: top;\n",
       "    }\n",
       "\n",
       "    .dataframe thead th {\n",
       "        text-align: right;\n",
       "    }\n",
       "</style>\n",
       "<table border=\"1\" class=\"dataframe\">\n",
       "  <thead>\n",
       "    <tr style=\"text-align: right;\">\n",
       "      <th>attributes</th>\n",
       "      <th>county</th>\n",
       "      <th>Rank</th>\n",
       "      <th>CovidCases</th>\n",
       "      <th>CovidDeaths</th>\n",
       "    </tr>\n",
       "    <tr>\n",
       "      <th>letter</th>\n",
       "      <th></th>\n",
       "      <th></th>\n",
       "      <th></th>\n",
       "      <th></th>\n",
       "    </tr>\n",
       "  </thead>\n",
       "  <tbody>\n",
       "    <tr>\n",
       "      <th>B</th>\n",
       "      <td>Meath</td>\n",
       "      <td>2nd</td>\n",
       "      <td>99</td>\n",
       "      <td>4</td>\n",
       "    </tr>\n",
       "    <tr>\n",
       "      <th>A</th>\n",
       "      <td>Cavan</td>\n",
       "      <td>1st</td>\n",
       "      <td>26</td>\n",
       "      <td>2</td>\n",
       "    </tr>\n",
       "    <tr>\n",
       "      <th>E</th>\n",
       "      <td>Kildare</td>\n",
       "      <td>5th</td>\n",
       "      <td>145</td>\n",
       "      <td>12</td>\n",
       "    </tr>\n",
       "    <tr>\n",
       "      <th>C</th>\n",
       "      <td>Leitrim</td>\n",
       "      <td>3rd</td>\n",
       "      <td>45</td>\n",
       "      <td>1</td>\n",
       "    </tr>\n",
       "    <tr>\n",
       "      <th>D</th>\n",
       "      <td>Dublin</td>\n",
       "      <td>4th</td>\n",
       "      <td>189</td>\n",
       "      <td>20</td>\n",
       "    </tr>\n",
       "    <tr>\n",
       "      <th>F</th>\n",
       "      <td>Louth</td>\n",
       "      <td>6th</td>\n",
       "      <td>99</td>\n",
       "      <td>8</td>\n",
       "    </tr>\n",
       "  </tbody>\n",
       "</table>\n",
       "</div>"
      ],
      "text/plain": [
       "attributes   county Rank CovidCases CovidDeaths\n",
       "letter                                         \n",
       "B             Meath  2nd         99           4\n",
       "A             Cavan  1st         26           2\n",
       "E           Kildare  5th        145          12\n",
       "C           Leitrim  3rd         45           1\n",
       "D            Dublin  4th        189          20\n",
       "F             Louth  6th         99           8"
      ]
     },
     "execution_count": 63,
     "metadata": {},
     "output_type": "execute_result"
    }
   ],
   "source": [
    "df.take(b) # takes the indices and changes the orders of the rows to the indices that we pass it"
   ]
  },
  {
   "cell_type": "code",
   "execution_count": 64,
   "id": "6a83cc82-6ea9-4ff2-8163-d15bfa3b5b75",
   "metadata": {},
   "outputs": [
    {
     "data": {
      "text/plain": [
       "Index(['A', 'B', 'C', 'D', 'E', 'F'], dtype='object', name='letter')"
      ]
     },
     "execution_count": 64,
     "metadata": {},
     "output_type": "execute_result"
    }
   ],
   "source": [
    "df.index"
   ]
  },
  {
   "cell_type": "code",
   "execution_count": 65,
   "id": "b16708df-dbcc-450c-bd53-4b3654262c03",
   "metadata": {},
   "outputs": [
    {
     "data": {
      "text/plain": [
       "array(['B', 'F', 'E', 'C', 'D', 'A'], dtype=object)"
      ]
     },
     "execution_count": 65,
     "metadata": {},
     "output_type": "execute_result"
    }
   ],
   "source": [
    "#we can randomize this list of letters \n",
    "rng.permutation(df.index)"
   ]
  },
  {
   "cell_type": "code",
   "execution_count": 66,
   "id": "b3248ee8-8108-4190-a09f-53f48b48e397",
   "metadata": {},
   "outputs": [
    {
     "data": {
      "text/html": [
       "<div>\n",
       "<style scoped>\n",
       "    .dataframe tbody tr th:only-of-type {\n",
       "        vertical-align: middle;\n",
       "    }\n",
       "\n",
       "    .dataframe tbody tr th {\n",
       "        vertical-align: top;\n",
       "    }\n",
       "\n",
       "    .dataframe thead th {\n",
       "        text-align: right;\n",
       "    }\n",
       "</style>\n",
       "<table border=\"1\" class=\"dataframe\">\n",
       "  <thead>\n",
       "    <tr style=\"text-align: right;\">\n",
       "      <th>attributes</th>\n",
       "      <th>county</th>\n",
       "      <th>Rank</th>\n",
       "      <th>CovidCases</th>\n",
       "      <th>CovidDeaths</th>\n",
       "    </tr>\n",
       "    <tr>\n",
       "      <th>letter</th>\n",
       "      <th></th>\n",
       "      <th></th>\n",
       "      <th></th>\n",
       "      <th></th>\n",
       "    </tr>\n",
       "  </thead>\n",
       "  <tbody>\n",
       "    <tr>\n",
       "      <th>A</th>\n",
       "      <td>Cavan</td>\n",
       "      <td>1st</td>\n",
       "      <td>26</td>\n",
       "      <td>2</td>\n",
       "    </tr>\n",
       "    <tr>\n",
       "      <th>B</th>\n",
       "      <td>Meath</td>\n",
       "      <td>2nd</td>\n",
       "      <td>99</td>\n",
       "      <td>4</td>\n",
       "    </tr>\n",
       "    <tr>\n",
       "      <th>E</th>\n",
       "      <td>Kildare</td>\n",
       "      <td>5th</td>\n",
       "      <td>145</td>\n",
       "      <td>12</td>\n",
       "    </tr>\n",
       "    <tr>\n",
       "      <th>C</th>\n",
       "      <td>Leitrim</td>\n",
       "      <td>3rd</td>\n",
       "      <td>45</td>\n",
       "      <td>1</td>\n",
       "    </tr>\n",
       "    <tr>\n",
       "      <th>F</th>\n",
       "      <td>Louth</td>\n",
       "      <td>6th</td>\n",
       "      <td>99</td>\n",
       "      <td>8</td>\n",
       "    </tr>\n",
       "    <tr>\n",
       "      <th>D</th>\n",
       "      <td>Dublin</td>\n",
       "      <td>4th</td>\n",
       "      <td>189</td>\n",
       "      <td>20</td>\n",
       "    </tr>\n",
       "  </tbody>\n",
       "</table>\n",
       "</div>"
      ],
      "text/plain": [
       "attributes   county Rank CovidCases CovidDeaths\n",
       "letter                                         \n",
       "A             Cavan  1st         26           2\n",
       "B             Meath  2nd         99           4\n",
       "E           Kildare  5th        145          12\n",
       "C           Leitrim  3rd         45           1\n",
       "F             Louth  6th         99           8\n",
       "D            Dublin  4th        189          20"
      ]
     },
     "execution_count": 66,
     "metadata": {},
     "output_type": "execute_result"
    }
   ],
   "source": [
    "df.reindex(rng.permutation(df.index))"
   ]
  },
  {
   "cell_type": "code",
   "execution_count": 67,
   "id": "8064dfda-7e3d-4e90-a083-f856fc893f4f",
   "metadata": {},
   "outputs": [
    {
     "data": {
      "text/html": [
       "<div>\n",
       "<style scoped>\n",
       "    .dataframe tbody tr th:only-of-type {\n",
       "        vertical-align: middle;\n",
       "    }\n",
       "\n",
       "    .dataframe tbody tr th {\n",
       "        vertical-align: top;\n",
       "    }\n",
       "\n",
       "    .dataframe thead th {\n",
       "        text-align: right;\n",
       "    }\n",
       "</style>\n",
       "<table border=\"1\" class=\"dataframe\">\n",
       "  <thead>\n",
       "    <tr style=\"text-align: right;\">\n",
       "      <th>attributes</th>\n",
       "      <th>county</th>\n",
       "      <th>Rank</th>\n",
       "      <th>CovidCases</th>\n",
       "      <th>CovidDeaths</th>\n",
       "    </tr>\n",
       "    <tr>\n",
       "      <th>letter</th>\n",
       "      <th></th>\n",
       "      <th></th>\n",
       "      <th></th>\n",
       "      <th></th>\n",
       "    </tr>\n",
       "  </thead>\n",
       "  <tbody>\n",
       "    <tr>\n",
       "      <th>C</th>\n",
       "      <td>Leitrim</td>\n",
       "      <td>3rd</td>\n",
       "      <td>45</td>\n",
       "      <td>1</td>\n",
       "    </tr>\n",
       "    <tr>\n",
       "      <th>E</th>\n",
       "      <td>Kildare</td>\n",
       "      <td>5th</td>\n",
       "      <td>145</td>\n",
       "      <td>12</td>\n",
       "    </tr>\n",
       "    <tr>\n",
       "      <th>F</th>\n",
       "      <td>Louth</td>\n",
       "      <td>6th</td>\n",
       "      <td>99</td>\n",
       "      <td>8</td>\n",
       "    </tr>\n",
       "    <tr>\n",
       "      <th>B</th>\n",
       "      <td>Meath</td>\n",
       "      <td>2nd</td>\n",
       "      <td>99</td>\n",
       "      <td>4</td>\n",
       "    </tr>\n",
       "    <tr>\n",
       "      <th>D</th>\n",
       "      <td>Dublin</td>\n",
       "      <td>4th</td>\n",
       "      <td>189</td>\n",
       "      <td>20</td>\n",
       "    </tr>\n",
       "    <tr>\n",
       "      <th>A</th>\n",
       "      <td>Cavan</td>\n",
       "      <td>1st</td>\n",
       "      <td>26</td>\n",
       "      <td>2</td>\n",
       "    </tr>\n",
       "  </tbody>\n",
       "</table>\n",
       "</div>"
      ],
      "text/plain": [
       "attributes   county Rank CovidCases CovidDeaths\n",
       "letter                                         \n",
       "C           Leitrim  3rd         45           1\n",
       "E           Kildare  5th        145          12\n",
       "F             Louth  6th         99           8\n",
       "B             Meath  2nd         99           4\n",
       "D            Dublin  4th        189          20\n",
       "A             Cavan  1st         26           2"
      ]
     },
     "execution_count": 67,
     "metadata": {},
     "output_type": "execute_result"
    }
   ],
   "source": [
    "df.sample(n=nrows)"
   ]
  },
  {
   "cell_type": "code",
   "execution_count": 68,
   "id": "d7c664f5-7ae1-45c6-b633-edaa3307acba",
   "metadata": {},
   "outputs": [
    {
     "data": {
      "text/plain": [
       "6"
      ]
     },
     "execution_count": 68,
     "metadata": {},
     "output_type": "execute_result"
    }
   ],
   "source": [
    "s = df['county']\n",
    "len(s) #length of city coulumn"
   ]
  },
  {
   "cell_type": "code",
   "execution_count": 69,
   "id": "1e920604-e241-4f6e-b856-bdcbd03042fa",
   "metadata": {},
   "outputs": [
    {
     "data": {
      "text/plain": [
       "array([2, 3, 0, 4, 1, 5])"
      ]
     },
     "execution_count": 69,
     "metadata": {},
     "output_type": "execute_result"
    }
   ],
   "source": [
    "rng.permutation(len(s))"
   ]
  },
  {
   "cell_type": "code",
   "execution_count": 70,
   "id": "d2ad3cad-8103-479e-9339-41836d60606f",
   "metadata": {},
   "outputs": [],
   "source": [
    "r_entries=rng.permutation(len(s))"
   ]
  },
  {
   "cell_type": "code",
   "execution_count": 71,
   "id": "9bc506be-5080-4d87-815e-de67e50b74e7",
   "metadata": {},
   "outputs": [
    {
     "data": {
      "text/html": [
       "<div>\n",
       "<style scoped>\n",
       "    .dataframe tbody tr th:only-of-type {\n",
       "        vertical-align: middle;\n",
       "    }\n",
       "\n",
       "    .dataframe tbody tr th {\n",
       "        vertical-align: top;\n",
       "    }\n",
       "\n",
       "    .dataframe thead th {\n",
       "        text-align: right;\n",
       "    }\n",
       "</style>\n",
       "<table border=\"1\" class=\"dataframe\">\n",
       "  <thead>\n",
       "    <tr style=\"text-align: right;\">\n",
       "      <th>attributes</th>\n",
       "      <th>county</th>\n",
       "      <th>Rank</th>\n",
       "      <th>CovidCases</th>\n",
       "      <th>CovidDeaths</th>\n",
       "    </tr>\n",
       "    <tr>\n",
       "      <th>letter</th>\n",
       "      <th></th>\n",
       "      <th></th>\n",
       "      <th></th>\n",
       "      <th></th>\n",
       "    </tr>\n",
       "  </thead>\n",
       "  <tbody>\n",
       "    <tr>\n",
       "      <th>A</th>\n",
       "      <td>Cavan</td>\n",
       "      <td>1st</td>\n",
       "      <td>26</td>\n",
       "      <td>2</td>\n",
       "    </tr>\n",
       "    <tr>\n",
       "      <th>B</th>\n",
       "      <td>Meath</td>\n",
       "      <td>2nd</td>\n",
       "      <td>99</td>\n",
       "      <td>4</td>\n",
       "    </tr>\n",
       "    <tr>\n",
       "      <th>C</th>\n",
       "      <td>Leitrim</td>\n",
       "      <td>3rd</td>\n",
       "      <td>45</td>\n",
       "      <td>1</td>\n",
       "    </tr>\n",
       "    <tr>\n",
       "      <th>D</th>\n",
       "      <td>Dublin</td>\n",
       "      <td>4th</td>\n",
       "      <td>189</td>\n",
       "      <td>20</td>\n",
       "    </tr>\n",
       "    <tr>\n",
       "      <th>E</th>\n",
       "      <td>Kildare</td>\n",
       "      <td>5th</td>\n",
       "      <td>145</td>\n",
       "      <td>12</td>\n",
       "    </tr>\n",
       "    <tr>\n",
       "      <th>F</th>\n",
       "      <td>Louth</td>\n",
       "      <td>6th</td>\n",
       "      <td>99</td>\n",
       "      <td>8</td>\n",
       "    </tr>\n",
       "  </tbody>\n",
       "</table>\n",
       "</div>"
      ],
      "text/plain": [
       "attributes   county Rank CovidCases CovidDeaths\n",
       "letter                                         \n",
       "A             Cavan  1st         26           2\n",
       "B             Meath  2nd         99           4\n",
       "C           Leitrim  3rd         45           1\n",
       "D            Dublin  4th        189          20\n",
       "E           Kildare  5th        145          12\n",
       "F             Louth  6th         99           8"
      ]
     },
     "execution_count": 71,
     "metadata": {},
     "output_type": "execute_result"
    }
   ],
   "source": [
    "df"
   ]
  },
  {
   "cell_type": "code",
   "execution_count": 72,
   "id": "d152d189-88ca-456f-b63f-a43a448a6640",
   "metadata": {},
   "outputs": [
    {
     "data": {
      "text/plain": [
       "letter\n",
       "E    Kildare\n",
       "B      Meath\n",
       "D     Dublin\n",
       "A      Cavan\n",
       "F      Louth\n",
       "C    Leitrim\n",
       "Name: county, dtype: object"
      ]
     },
     "execution_count": 72,
     "metadata": {},
     "output_type": "execute_result"
    }
   ],
   "source": [
    "s[r_entries]"
   ]
  },
  {
   "cell_type": "code",
   "execution_count": 73,
   "id": "d6af4aba-1592-40df-ae3b-d1928a41bf4d",
   "metadata": {},
   "outputs": [
    {
     "data": {
      "text/plain": [
       "array(['Kildare', 'Meath', 'Dublin', 'Cavan', 'Louth', 'Leitrim'],\n",
       "      dtype=object)"
      ]
     },
     "execution_count": 73,
     "metadata": {},
     "output_type": "execute_result"
    }
   ],
   "source": [
    "s[r_entries].values"
   ]
  },
  {
   "cell_type": "code",
   "execution_count": 74,
   "id": "ecd5c666-4ce5-4d47-95f8-7b43c6db5573",
   "metadata": {},
   "outputs": [],
   "source": [
    "df['county']=s[r_entries].values"
   ]
  },
  {
   "cell_type": "code",
   "execution_count": 75,
   "id": "72236cf4-aadc-4260-aa55-09f427ee5e51",
   "metadata": {},
   "outputs": [
    {
     "data": {
      "text/html": [
       "<div>\n",
       "<style scoped>\n",
       "    .dataframe tbody tr th:only-of-type {\n",
       "        vertical-align: middle;\n",
       "    }\n",
       "\n",
       "    .dataframe tbody tr th {\n",
       "        vertical-align: top;\n",
       "    }\n",
       "\n",
       "    .dataframe thead th {\n",
       "        text-align: right;\n",
       "    }\n",
       "</style>\n",
       "<table border=\"1\" class=\"dataframe\">\n",
       "  <thead>\n",
       "    <tr style=\"text-align: right;\">\n",
       "      <th>attributes</th>\n",
       "      <th>county</th>\n",
       "      <th>Rank</th>\n",
       "      <th>CovidCases</th>\n",
       "      <th>CovidDeaths</th>\n",
       "    </tr>\n",
       "    <tr>\n",
       "      <th>letter</th>\n",
       "      <th></th>\n",
       "      <th></th>\n",
       "      <th></th>\n",
       "      <th></th>\n",
       "    </tr>\n",
       "  </thead>\n",
       "  <tbody>\n",
       "    <tr>\n",
       "      <th>A</th>\n",
       "      <td>Kildare</td>\n",
       "      <td>1st</td>\n",
       "      <td>26</td>\n",
       "      <td>2</td>\n",
       "    </tr>\n",
       "    <tr>\n",
       "      <th>B</th>\n",
       "      <td>Meath</td>\n",
       "      <td>2nd</td>\n",
       "      <td>99</td>\n",
       "      <td>4</td>\n",
       "    </tr>\n",
       "    <tr>\n",
       "      <th>C</th>\n",
       "      <td>Dublin</td>\n",
       "      <td>3rd</td>\n",
       "      <td>45</td>\n",
       "      <td>1</td>\n",
       "    </tr>\n",
       "    <tr>\n",
       "      <th>D</th>\n",
       "      <td>Cavan</td>\n",
       "      <td>4th</td>\n",
       "      <td>189</td>\n",
       "      <td>20</td>\n",
       "    </tr>\n",
       "    <tr>\n",
       "      <th>E</th>\n",
       "      <td>Louth</td>\n",
       "      <td>5th</td>\n",
       "      <td>145</td>\n",
       "      <td>12</td>\n",
       "    </tr>\n",
       "    <tr>\n",
       "      <th>F</th>\n",
       "      <td>Leitrim</td>\n",
       "      <td>6th</td>\n",
       "      <td>99</td>\n",
       "      <td>8</td>\n",
       "    </tr>\n",
       "  </tbody>\n",
       "</table>\n",
       "</div>"
      ],
      "text/plain": [
       "attributes   county Rank CovidCases CovidDeaths\n",
       "letter                                         \n",
       "A           Kildare  1st         26           2\n",
       "B             Meath  2nd         99           4\n",
       "C            Dublin  3rd         45           1\n",
       "D             Cavan  4th        189          20\n",
       "E             Louth  5th        145          12\n",
       "F           Leitrim  6th         99           8"
      ]
     },
     "execution_count": 75,
     "metadata": {},
     "output_type": "execute_result"
    }
   ],
   "source": [
    "df #you can see now the county column has been randomised "
   ]
  },
  {
   "cell_type": "markdown",
   "id": "64c9c3b1-ed28-45df-9423-99506c12af34",
   "metadata": {},
   "source": [
    "\n",
    "\n",
    "\n",
    "Generator.shuffle works on non-NumPy sequences. That is, if it is given a sequence that is not a NumPy array, it shuffles that sequence in-place."
   ]
  },
  {
   "cell_type": "code",
   "execution_count": 76,
   "id": "c3da5006-245d-4e05-9a5e-59bc12f29da0",
   "metadata": {},
   "outputs": [
    {
     "data": {
      "text/plain": [
       "['B', 'A', 'E', 'D', 'C']"
      ]
     },
     "execution_count": 76,
     "metadata": {},
     "output_type": "execute_result"
    }
   ],
   "source": [
    "rng = np.random.default_rng()\n",
    "a = ['A', 'B', 'C', 'D', 'E']\n",
    "rng.shuffle(a)\n",
    "a\n"
   ]
  },
  {
   "cell_type": "code",
   "execution_count": 77,
   "id": "598c09e6-7ec4-45c3-b5d3-a174b4562fef",
   "metadata": {},
   "outputs": [
    {
     "name": "stdout",
     "output_type": "stream",
     "text": [
      "Original order of the sequence is : [10 20 30 40 50 60]\n",
      "\n",
      "Output sequence obtained after shuffling is:  [20 50 40 60 10 30]\n"
     ]
    }
   ],
   "source": [
    "#https://appdividend.com/2020/06/04/numpy-random-shuffle-method-in-python/#:~:text=Numpy%20random%20shuffle%20%28%29%20The%20random.shuffle%20%28%29%20method,returns%20the%20modified%20form%20of%20the%20original%20sequence.\n",
    "\n",
    "# Making a list of integers\n",
    "samples = [10, 20, 30, 40, 50, 60]\n",
    "\n",
    "# Converting  the list into a numpy array\n",
    "seq = np.array(samples)\n",
    "\n",
    "# Printing content of original sequence\n",
    "print(\"Original order of the sequence is :\", seq)\n",
    "\n",
    "# Performing shuffling operation\n",
    "rng.shuffle(seq)\n",
    "\n",
    "# Printing the content of sequence after shuffling\n",
    "print(\"\\nOutput sequence obtained after shuffling is: \", seq)"
   ]
  },
  {
   "cell_type": "code",
   "execution_count": 78,
   "id": "decefc90-e27a-4f7d-a6b0-d66c637c4b38",
   "metadata": {},
   "outputs": [
    {
     "name": "stdout",
     "output_type": "stream",
     "text": [
      "Shape of original sequence is:  (3, 3)\n",
      "Original order of the sequence is : [[9 8 7]\n",
      " [6 5 4]\n",
      " [3 2 1]]\n",
      "\n",
      "Output sequence obtained after shuffling is:  [[9 8 7]\n",
      " [6 5 4]\n",
      " [3 2 1]]\n",
      "Shape of shuffled sequence is:  (3, 3)\n"
     ]
    }
   ],
   "source": [
    "# Making original sequence of multi-dimensional array\n",
    "seq = np.array([[9, 8, 7], [6, 5, 4], [3, 2, 1]])\n",
    "\n",
    "# Printing the shape of multi-dimensional array\n",
    "print(\"Shape of original sequence is: \", seq.shape)\n",
    "\n",
    "# Printing content of original sequence\n",
    "print(\"Original order of the sequence is :\", seq)\n",
    "\n",
    "# Performing shuffling operation\n",
    "rng.shuffle(seq)\n",
    "\n",
    "# Printing the content of sequence after shuffling\n",
    "print(\"\\nOutput sequence obtained after shuffling is: \", seq)\n",
    "print(\"Shape of shuffled sequence is: \", seq.shape)"
   ]
  },
  {
   "cell_type": "code",
   "execution_count": 79,
   "id": "30f4add1-f5a6-4ab8-be77-7038cf5bd127",
   "metadata": {},
   "outputs": [
    {
     "name": "stdout",
     "output_type": "stream",
     "text": [
      "x:\n",
      "[[[-99.12488681 -97.98749369 -95.72637365]\n",
      "  [-99.62832281 -95.97671348 -95.42455329]\n",
      "  [-99.82250296 -97.3749177  -99.45042624]]\n",
      "\n",
      " [[-96.76573876 -97.5846239  -98.48325854]\n",
      "  [-99.47250225 -97.64178218 -95.81920388]\n",
      "  [-98.38687174 -99.61183191 -96.76203801]]\n",
      "\n",
      " [[-97.96710558 -98.15754348 -97.14912977]\n",
      "  [-99.77343314 -99.31878444 -96.93339769]\n",
      "  [-96.38318691 -96.51097862 -96.91098786]]\n",
      "\n",
      " [[-98.36649951 -98.29678569 -99.25409702]\n",
      "  [-95.00752425 -99.18971902 -96.7524242 ]\n",
      "  [-96.2038911  -95.26691739 -96.68396053]]]\n",
      "\n",
      "shuffled x:\n",
      "[[[-96.76573876 -97.5846239  -98.48325854]\n",
      "  [-99.47250225 -97.64178218 -95.81920388]\n",
      "  [-98.38687174 -99.61183191 -96.76203801]]\n",
      "\n",
      " [[-98.36649951 -98.29678569 -99.25409702]\n",
      "  [-95.00752425 -99.18971902 -96.7524242 ]\n",
      "  [-96.2038911  -95.26691739 -96.68396053]]\n",
      "\n",
      " [[-99.12488681 -97.98749369 -95.72637365]\n",
      "  [-99.62832281 -95.97671348 -95.42455329]\n",
      "  [-99.82250296 -97.3749177  -99.45042624]]\n",
      "\n",
      " [[-97.96710558 -98.15754348 -97.14912977]\n",
      "  [-99.77343314 -99.31878444 -96.93339769]\n",
      "  [-96.38318691 -96.51097862 -96.91098786]]]\n"
     ]
    }
   ],
   "source": [
    "#Let us pass a 3-dimensional array to the rng.shuffle method.\n",
    "#https://www.blogarama.com/technology-blogs/1302264-likegeeks-blog/38775926-amazing-numpy-shuffle-examples\n",
    "x = 5 * rng.random((4,3,3)) - 100\n",
    "\n",
    "print(f\"x:\\n{x}\\n\")\n",
    "\n",
    "rng.shuffle(x) \n",
    "\n",
    "print(f\"shuffled x:\\n{x}\")"
   ]
  },
  {
   "cell_type": "markdown",
   "id": "30b3aa9f-52bc-4a52-a0b8-6f72540e9bf0",
   "metadata": {},
   "source": [
    "<br>\n",
    "\n",
    "## Probability Distributions \n",
    "\n",
    "***\n",
    "Probability distributions are statistical functions that describe the likelihood of obtaining possible values that a random variable can take. In other words, the values of the variable vary based on the underlying probability distribution.\n",
    "\n",
    "Suppose you draw a random sample and measure the heights of the subjects. As you measure heights, you create a distribution of heights. This type of distribution is useful when you need to know which outcomes are most likely, the spread of potential values, and the likelihood of different results.\n",
    "\n",
    "Probability distributions indicate the likelihood of an event or outcome. Statisticians use the following notation to describe probabilities:\n",
    "\n",
    "p(x) = the likelihood that random variable takes a specific value of x.\n",
    "\n",
    "The sum of all probabilities for all possible values must equal 1. Furthermore, the probability for a particular value or range of values must be between 0 and 1.\n",
    "\n",
    "Probability distributions describe the dispersion of the values of a random variable. Consequently, the kind of variable determines the type of probability distribution. For a single random variable, statisticians divide distributions into the following two types:\n",
    "\n",
    "1) Discrete probability distributions for discrete variables\n",
    "There are a variety of discrete probability distributions that you can use to model different types of data. The correct discrete distribution depends on the properties of your data. For example, use the:\n",
    "\n",
    "Binomial distribution to model binary data, such as coin tosses.\n",
    "Poisson distribution to model count data, such as the count of library book checkouts per hour.\n",
    "Uniform distribution to model multiple events with the same probability, such as rolling a die.\n",
    "\n",
    "2) Probability density functions for continuous variables\n",
    "\n",
    "Continuous probability functions are also known as probability density functions. You know that you have a continuous distribution if the variable can assume an infinite number of values between any two values. \n",
    "\n",
    "There are a variety of probability distributions for continuous data. These distributions include the following:\n",
    "- The most well-known continuous distribution is the normal distribution, which is also known as the Gaussian distribution or the “bell curve.” This symmetric distribution fits a wide variety of phenomena, such as human height and IQ scores. It has two parameters—the mean and the standard deviation\n",
    "- Weibull distribution: A particularly versatile distribution that analysts use in many settings. Can model left- and right-skewed data and approximate the normal distribution.\n",
    "- Exponential distribution: Models variables in which small values occur more frequently than higher values. Use to model the amount of time between independent events.\n",
    "- Gamma distribution: Models right-skewed distributions. Use to model the time until the kth event, where k is the shape parameter.\n",
    "- Uniform distribution: Models symmetric, continuous data where all equal sized ranges have the same probability.\n",
    "\n",
    "You can use equations and tables of variable values and probabilities to represent a probability distribution. \n"
   ]
  },
  {
   "attachments": {
    "349dadb9-7c5e-4eb8-a064-08939d7dcbfb.PNG": {
     "image/png": "[encoded data removed]"
    },
    "e8b1fd39-b9cc-47aa-a371-107800dd8ec7.PNG": {
     "image/png": "[encoded data removed]"
    }
   },
   "cell_type": "markdown",
   "id": "48334477-28eb-44e3-ae4b-70c9e49d3b00",
   "metadata": {},
   "source": [
    "<br>\n",
    "\n",
    "### Binomial Distributions\n",
    "\n",
    "***\n",
    "\n",
    "Binomial Distribution is a discrete probability distribution and it expresses the probability of a given number of successes in a sequence of n independent experiments with a known probability of success on each trial.\n",
    "\n",
    "The **probability mass function (pmf)** of binomial distribution is defined as:\n",
    "\n",
    "![Binomial Distribution Equation.PNG](attachment:e8b1fd39-b9cc-47aa-a371-107800dd8ec7.PNG)\n",
    "\n",
    "\n",
    "Binomial Distribution\n",
    "Where,\n",
    "- p is the probability of success in each trial\n",
    "- q is the probability of failure in each trial, q = 1 - p\n",
    "- n is number of trials\n",
    "- k is the number of successes which can occur anywhere among the n trials\n",
    "\n",
    "An binomial distribution has mean np and variance npq.\n",
    "\n",
    "The cumulative distribution function (cdf) evaluated at k, is the probability that the random variable (X) will take a value less than or equal to k. The cdf of binomial distribution is defined as:\n",
    "![Binomial Distribution Equation 2.PNG](attachment:349dadb9-7c5e-4eb8-a064-08939d7dcbfb.PNG)\n",
    "\n",
    "\n",
    "\n",
    "Where, [k] is the greatest integer less than or equal to k.\n",
    "\n",
    "The NumPy random.binomial() function returns random samples from a binomial distribution."
   ]
  },
  {
   "cell_type": "code",
   "execution_count": 80,
   "id": "c564664f-7d80-4096-a26c-0379cf02536f",
   "metadata": {},
   "outputs": [
    {
     "data": {
      "text/plain": [
       "array([[ 9,  9,  9],\n",
       "       [ 8, 14,  9],\n",
       "       [12,  6, 11],\n",
       "       [ 8,  9,  7],\n",
       "       [10, 10, 13]], dtype=int64)"
      ]
     },
     "execution_count": 80,
     "metadata": {},
     "output_type": "execute_result"
    }
   ],
   "source": [
    "#https://www.alphacodingskills.com/numpy/numpy-binomial-distribution.php\n",
    "\n",
    "size = (5,3)\n",
    "\n",
    "sample = rng.binomial(20, 0.5, size)\n",
    "sample"
   ]
  },
  {
   "cell_type": "code",
   "execution_count": 81,
   "id": "899c2ff2-159e-412c-a540-a93e5c4702a9",
   "metadata": {},
   "outputs": [
    {
     "data": {
      "image/png": "[encoded data removed]",
      "text/plain": [
       "<Figure size 432x288 with 1 Axes>"
      ]
     },
     "metadata": {
      "needs_background": "light"
     },
     "output_type": "display_data"
    }
   ],
   "source": [
    "#fixing the seed for reproducibility\n",
    "#of the result\n",
    "np.random.seed(10)\n",
    "\n",
    "size = 10000\n",
    "#drawing 10000 sample from \n",
    "#binomial distribution\n",
    "sample = np.random.binomial(20, 0.5, size)\n",
    "bin = np.arange(0,20,1)\n",
    "\n",
    "plt.hist(sample, bins=bin, edgecolor='blue') \n",
    "plt.title(\"Binomial Distribution\") \n",
    "plt.show()"
   ]
  },
  {
   "cell_type": "code",
   "execution_count": 82,
   "id": "dcb2749f-3756-485f-b40f-2bbea51f0053",
   "metadata": {},
   "outputs": [
    {
     "data": {
      "image/png": "[encoded data removed]",
      "text/plain": [
       "<Figure size 432x288 with 1 Axes>"
      ]
     },
     "metadata": {
      "needs_background": "light"
     },
     "output_type": "display_data"
    }
   ],
   "source": [
    "import numpy as np\n",
    "import matplotlib.pyplot as plt\n",
    "import seaborn as sns\n",
    "\n",
    "#fixing the seed for reproducibility\n",
    "#of the result\n",
    "np.random.seed(10)\n",
    "\n",
    "size = 1000\n",
    "#plotting 1000 sample from \n",
    "#different binomial distribution\n",
    "sns.kdeplot(np.random.binomial(15, 0.5, size))\n",
    "sns.kdeplot(np.random.binomial(20, 0.5, size))\n",
    "sns.kdeplot(np.random.binomial(25, 0.5, size))\n",
    "\n",
    "plt.legend([\"$n = 15, p = 0.5$\", \n",
    "            \"$n = 20, p = 0.5$\", \n",
    "            \"$n = 25, p = 0.5$\"])\n",
    "plt.show()"
   ]
  },
  {
   "cell_type": "code",
   "execution_count": 83,
   "id": "6d4013f6-cbfd-4ca2-ac12-df7f92a12755",
   "metadata": {},
   "outputs": [
    {
     "data": {
      "image/png": "[encoded data removed]",
      "text/plain": [
       "<Figure size 432x288 with 1 Axes>"
      ]
     },
     "metadata": {
      "needs_background": "light"
     },
     "output_type": "display_data"
    }
   ],
   "source": [
    "#fixing the seed for reproducibility\n",
    "#of the result\n",
    "np.random.seed(10)\n",
    "\n",
    "size = 1000\n",
    "#plotting 1000 sample from \n",
    "#different binomial distribution\n",
    "sns.ecdfplot(np.random.binomial(15, 0.5, size))\n",
    "sns.ecdfplot(np.random.binomial(20, 0.5, size))\n",
    "sns.ecdfplot(np.random.binomial(25, 0.5, size))\n",
    "\n",
    "plt.legend([\"$n = 15, p = 0.5$\", \n",
    "            \"$n = 20, p = 0.5$\", \n",
    "            \"$n = 25, p = 0.5$\"])\n",
    "plt.show()"
   ]
  },
  {
   "cell_type": "code",
   "execution_count": 84,
   "id": "95d785ff-062a-4721-a853-57c92f7f06a0",
   "metadata": {},
   "outputs": [
    {
     "data": {
      "text/plain": [
       "array([ 3,  6,  3,  9,  6,  5,  6,  4,  5,  6,  4,  7,  6,  3,  3,  8,  6,\n",
       "        5,  3,  6,  4,  5,  7,  2,  7,  4,  5,  6,  3,  5,  3,  7,  5,  5,\n",
       "        3,  3,  7,  8,  5,  4,  5,  1,  6,  4,  5,  2,  5,  5,  2,  9,  3,\n",
       "        5,  4,  5,  5,  5,  4,  7,  3,  4,  8,  4,  6,  8,  4,  9,  3,  7,\n",
       "        4,  4,  3,  4,  3,  4,  6,  5,  5,  2,  6,  5,  5,  5,  6,  5,  3,\n",
       "        9,  6,  6,  2,  6,  5,  6,  7,  3,  6,  6,  7,  5,  3,  6,  5,  5,\n",
       "        6,  6,  5,  5,  6,  6,  4,  6,  2,  7,  4,  8,  4,  6,  4,  6,  4,\n",
       "        4,  7,  4,  8,  7,  4,  4,  4,  5,  7,  7,  2,  4,  7,  6,  4,  5,\n",
       "        7,  6,  5,  5,  8,  3,  6,  6,  4,  3,  6,  5,  4,  4,  6,  3,  7,\n",
       "        6,  7,  5,  6,  5,  4,  4,  7,  3,  5,  4,  4,  6,  2,  6,  5,  6,\n",
       "        2,  7,  5,  6,  4,  6,  4,  5,  5,  6,  2,  4,  5,  6,  6,  4,  6,\n",
       "        5,  7,  5,  7,  5,  6,  8,  5,  4,  7,  6,  6,  7,  5,  6,  4,  4,\n",
       "        3,  8,  4,  7,  6,  4,  5,  3,  5,  3,  2,  7,  7,  6,  3,  4,  5,\n",
       "        3,  3,  4,  6,  5,  7,  4,  7,  4,  7,  5,  5,  5,  5,  5,  7,  5,\n",
       "        4,  5,  4,  2,  5,  3,  6,  7,  5,  5,  3,  5,  5,  3,  7,  8,  7,\n",
       "        3,  4,  3,  7,  3,  4,  6,  6,  4,  4,  5,  6,  4,  5,  6,  6,  2,\n",
       "        6,  5,  4,  3,  5,  8,  2,  4,  5,  4,  5,  3,  4,  2,  5,  4,  3,\n",
       "        5,  7,  5,  4,  8,  5,  6,  5,  5,  6,  4,  6,  5,  5,  2,  6,  5,\n",
       "        3,  4,  7,  2,  5,  6,  5,  1,  5,  2,  5,  7,  5,  5,  4,  7,  4,\n",
       "        6,  4,  5,  6,  3,  6,  3,  5,  3,  9,  7,  6,  7,  7,  3,  5,  2,\n",
       "        3,  4,  5,  4,  5,  6,  3,  7,  4,  2,  3,  5,  4,  6,  4,  6,  6,\n",
       "        3,  3,  5,  7,  6,  7,  4,  7,  5,  7,  6,  4,  4,  7,  2,  6,  5,\n",
       "        5,  2,  6,  3,  5,  5,  3,  5,  6,  8,  6,  6,  5,  5,  6,  4,  5,\n",
       "        6,  6,  4,  5,  4,  6,  5,  6,  6,  6,  6,  4,  5,  7,  5,  4,  5,\n",
       "        5,  5,  2,  5,  7,  5,  7,  7,  7,  4,  3,  3,  8,  7,  4,  4,  4,\n",
       "        4,  4,  8,  8,  4,  8,  4,  5,  3,  6,  4,  5,  7,  6,  6,  6,  5,\n",
       "        6,  5,  4,  5,  8,  5,  3,  6,  3,  4,  4,  4,  5,  8,  4,  6,  6,\n",
       "        5,  7,  6,  4,  3,  3,  5,  5,  8,  5,  4,  6,  6,  6,  2,  4,  5,\n",
       "        5,  6,  4,  3,  3,  3,  7,  5,  5,  3,  4,  6,  6,  6,  6,  5,  4,\n",
       "        3,  5,  1,  8,  6,  4,  5,  6,  7,  6,  8,  6,  4,  5,  5,  4,  6,\n",
       "        6,  6,  3,  4,  6,  3,  4,  3,  7,  6,  4,  4, 10,  5,  5,  2,  4,\n",
       "        3,  2,  5,  4,  8,  5,  3,  6,  3,  7,  6,  8,  4,  8,  5,  6,  4,\n",
       "        6,  5,  3,  7,  2,  4,  4,  3,  5,  7,  2,  4,  4,  4,  6,  6,  6,\n",
       "        5,  6,  8,  6,  6,  4,  5,  7,  5,  5,  4,  7,  3,  5,  4,  5,  4,\n",
       "        3,  6,  7,  1,  6,  3,  3,  5,  5,  3,  3,  6,  3,  8,  5,  5,  4,\n",
       "        6,  3,  4,  5,  3,  5,  2,  6,  3,  5,  5,  6,  5,  5,  5,  3,  2,\n",
       "        5,  6,  4,  6,  4,  5,  4,  6,  7,  5,  4,  5,  4,  3,  5,  6,  3,\n",
       "        4,  6,  7,  4,  2,  2,  4,  5,  4,  5,  5,  5,  4,  7,  5,  7,  4,\n",
       "        7,  7,  3,  6,  6,  8,  6,  7,  4,  4,  3,  5,  6,  4,  3,  6,  5,\n",
       "        6,  7,  6,  6,  7,  2,  3,  6,  4,  7,  7,  4,  5,  2,  8,  4,  6,\n",
       "        6,  6,  8,  5,  5,  4,  2,  8,  4,  3,  7,  6,  7,  6,  8,  3,  5,\n",
       "        5,  4,  6,  5,  6,  7,  6,  5,  4,  2,  5,  6,  5,  5,  4,  6,  6,\n",
       "        3,  7,  3,  5,  7,  3,  7,  6,  7,  4,  6,  6,  7,  4,  2,  3,  7,\n",
       "        6,  6,  6,  8,  7,  7,  6,  6,  5,  5,  6,  2,  5,  5,  3,  7,  6,\n",
       "        6,  4,  4,  3,  2,  4,  3,  5,  9,  7,  6,  8,  5,  8,  5,  4,  5,\n",
       "        2,  3,  5,  4,  5,  6,  4,  4,  4,  6,  5,  8,  4,  5,  5,  6,  2,\n",
       "        5,  6,  4,  8,  8,  6,  4,  3,  2,  5,  6,  5,  8,  6,  5,  7,  6,\n",
       "        4,  5,  8,  3,  5,  6,  4,  1,  5,  4,  7,  4,  9,  3,  6,  7,  5,\n",
       "        7,  6,  5,  4,  5,  6,  6,  5,  5,  4,  7,  7,  5,  9,  7,  7,  4,\n",
       "        7,  4,  5,  5,  5,  5,  4,  5,  5,  3,  6,  6,  7,  4,  2,  5,  4,\n",
       "        4,  8,  5,  3,  6,  6,  3,  6,  7,  5,  5,  6,  7,  6,  8,  7,  5,\n",
       "        4,  6,  3,  5,  8,  3,  4,  5,  5,  7,  5,  8,  4,  2,  8,  5,  6,\n",
       "        3,  4,  5,  7,  7,  9,  3,  6,  6,  5,  5,  7,  7,  5,  3,  7,  4,\n",
       "        7,  3,  5,  5,  3,  6,  5,  5,  8,  4,  3,  2,  5,  4,  4,  5,  7,\n",
       "        5,  4,  6,  5,  5,  4,  5,  4,  6,  7,  4,  4,  4,  2,  5,  5,  3,\n",
       "        8,  2,  4,  5,  6,  5,  7,  6,  3,  3,  3,  7,  4,  4,  4,  7,  5,\n",
       "        6,  4,  6,  7,  4,  7,  6,  6,  6,  6,  6,  4,  6,  6,  5,  7,  3,\n",
       "        5,  6,  5,  5,  6,  4,  5,  6,  4,  6,  5,  8,  5,  4,  3,  5,  5,\n",
       "        2,  4,  3,  8,  2,  6,  6,  7,  7,  8,  5,  5,  5,  7],\n",
       "      dtype=int64)"
      ]
     },
     "execution_count": 84,
     "metadata": {},
     "output_type": "execute_result"
    }
   ],
   "source": [
    "rng = np.random.default_rng()\n",
    "n, p = 10, .5  # number of trials, probability of each trial\n",
    "s = rng.binomial(n, p, 1000)\n",
    "s"
   ]
  },
  {
   "cell_type": "markdown",
   "id": "28d45474-c224-486f-aeda-f1e3234967e2",
   "metadata": {},
   "source": [
    "How to Work a Binomial Distribution Formula:\n",
    "\n",
    "80% of people who purchase pet insurance are women.  If 9 pet insurance owners are randomly selected, find the probability that exactly 6 are women.\n",
    "\n"
   ]
  },
  {
   "cell_type": "code",
   "execution_count": 85,
   "id": "0606c0bd-d102-4972-aa68-4f12749d48f4",
   "metadata": {},
   "outputs": [
    {
     "data": {
      "image/png": "[encoded data removed]",
      "text/plain": [
       "<Figure size 576x432 with 1 Axes>"
      ]
     },
     "metadata": {
      "needs_background": "light"
     },
     "output_type": "display_data"
    }
   ],
   "source": [
    "#https://vitalflux.com/binomial-distribution-with-python-code-examples/\n",
    "#https://vitalflux.com/binomial-distribution-defined-with-10-examples/\n",
    "from scipy.stats import binom\n",
    "import matplotlib.pyplot as plt\n",
    "import numpy as np\n",
    "#\n",
    "# X = Discrete random variable representing number of successes\n",
    "# p = Probability of the success\n",
    "#\n",
    "X = np.arange(0,10)\n",
    "p = 0.8\n",
    "n = 9\n",
    "#\n",
    "# Calculate binomial probability distribution\n",
    "#\n",
    "binom_pd = binom.pmf(X, n, p)\n",
    "#\n",
    "# Plot the probability distribution\n",
    "#\n",
    "fig, ax = plt.subplots(1, 1, figsize=(8, 6))\n",
    "ax.plot(X, binom_pd, 'bo', ms=8, label='geom pmf')\n",
    "plt.ylabel(\"Probability\", fontsize=\"18\")\n",
    "plt.xlabel(\"X - No. of Successes\", fontsize=\"18\")\n",
    "plt.title(\"Binomial Distribution - No. of Successes Vs Probability\", fontsize=\"18\")\n",
    "ax.vlines(X, 0, binom_pd, colors='b', lw=5, alpha=0.5)\n",
    "plt.show()"
   ]
  },
  {
   "cell_type": "markdown",
   "id": "c6b72264-389b-40e5-b842-168145f66073",
   "metadata": {},
   "source": [
    "No. of correct answers from multiple-choice questions: Probability of getting right answers out of 20 multiple-choice questions when one out of 4 options were chosen arbitrarily. Here, the random variable X is the number of “successes” that is the number of right answers. Let’s say, the probability/proportion of an answer being right is 1/4 or 0.25 or 25%. The binomial distribution could be represented as B(20,0.25)"
   ]
  },
  {
   "cell_type": "code",
   "execution_count": 86,
   "id": "b9c1e28d-e842-48bc-99e6-37993087fca2",
   "metadata": {},
   "outputs": [
    {
     "data": {
      "text/plain": [
       "0.05875"
      ]
     },
     "execution_count": 86,
     "metadata": {},
     "output_type": "execute_result"
    }
   ],
   "source": [
    "# ref: https://numpy.org/devdocs/reference/random/generated/numpy.random.Generator.binomial.html\n",
    "n, p = 20, .25  # number of trials, probability of each trial\n",
    "size = 1000\n",
    "s = rng.binomial(n, p, size)\n",
    "\n",
    "# lets check the probability of 8 answers being corrected selected in the multiple choice questioneaire and simulate the trail 20000 times\n",
    "sum(rng.binomial(20, 0.25, 20000) == 8)/20000.\n",
    "# there is a 0.06225% chance of 8 answers being correct or 6.225% chance"
   ]
  },
  {
   "cell_type": "code",
   "execution_count": 87,
   "id": "18a72227-ed8e-41e6-990b-8d2ab5f65a68",
   "metadata": {},
   "outputs": [
    {
     "name": "stdout",
     "output_type": "stream",
     "text": [
      "P of 0 success: 0.317%\n",
      "P of 1 success: 2.114%\n",
      "P of 2 success: 6.695%\n",
      "P of 3 success: 13.390%\n",
      "P of 4 success: 18.969%\n",
      "P of 5 success: 20.233%\n",
      "P of 6 success: 16.861%\n",
      "P of 7 success: 11.241%\n",
      "P of 8 success: 6.089%\n",
      "P of 9 success: 2.706%\n",
      "P of 10 success: 0.992%\n",
      "P of 11 success: 0.301%\n",
      "P of 12 success: 0.075%\n",
      "P of 13 success: 0.015%\n",
      "P of 14 success: 0.003%\n",
      "P of 15 success: 0.000%\n",
      "P of 16 success: 0.000%\n",
      "P of 17 success: 0.000%\n",
      "P of 18 success: 0.000%\n",
      "P of 19 success: 0.000%\n",
      "P of 20 success: 0.000%\n"
     ]
    }
   ],
   "source": [
    "#ref https://machinelearningmastery.com/discrete-probability-distributions-for-machine-learning/\n",
    "# check what the ditribution is of no of answers being correct. With probability of 0.25 the average correct amount of answers is 5 out of twenty. \n",
    "# example of using the pmf for the binomial distribution\n",
    "from scipy.stats import binom\n",
    "# define the parameters of the distribution\n",
    "p = 0.25\n",
    "k = 20\n",
    "# define the distribution\n",
    "dist = binom(k, p)\n",
    "# calculate the probability of n successes\n",
    "for n in range(0, 21, 1):\n",
    "\tprint('P of %d success: %.3f%%' % (n, dist.pmf(n)*100))"
   ]
  },
  {
   "cell_type": "markdown",
   "id": "a983efa4-d677-46c0-9c31-f0a057cd0229",
   "metadata": {},
   "source": [
    "<br>\n",
    "\n",
    "### The Chisquare Distribution\n",
    "\n",
    "***\n",
    "\n",
    "When df independent random variables, each with standard normal distributions (mean 0, variance 1), are squared and summed, the resulting distribution is chi-square (see Notes). This distribution is often used in hypothesis testing.\n",
    "\n",
    "It is used for statistical tests where the test statistic follows a Chi-squared distribution. Two common tests that rely on the Chi-square distribution are the Chi-square goodness of fit test and the Chi-square test of independence.\n",
    "\n",
    "\n"
   ]
  },
  {
   "cell_type": "code",
   "execution_count": 88,
   "id": "601baa1c-d8f7-4069-8c14-2ed9bae4dc3c",
   "metadata": {},
   "outputs": [
    {
     "data": {
      "text/plain": [
       "array([4.40418106, 2.86971621, 3.98374954, 6.08806201])"
      ]
     },
     "execution_count": 88,
     "metadata": {},
     "output_type": "execute_result"
    }
   ],
   "source": [
    "np.random.default_rng().chisquare(3,4)"
   ]
  },
  {
   "cell_type": "code",
   "execution_count": 89,
   "id": "75d95ced-b55c-46f1-b8b5-eb2a19639ed7",
   "metadata": {},
   "outputs": [
    {
     "name": "stderr",
     "output_type": "stream",
     "text": [
      "C:\\Users\\kate_\\anaconda3\\lib\\site-packages\\seaborn\\distributions.py:2557: FutureWarning: `distplot` is a deprecated function and will be removed in a future version. Please adapt your code to use either `displot` (a figure-level function with similar flexibility) or `kdeplot` (an axes-level function for kernel density plots).\n",
      "  warnings.warn(msg, FutureWarning)\n"
     ]
    },
    {
     "data": {
      "image/png": "[encoded data removed]",
      "text/plain": [
       "<Figure size 432x288 with 1 Axes>"
      ]
     },
     "metadata": {
      "needs_background": "light"
     },
     "output_type": "display_data"
    }
   ],
   "source": [
    "sns.distplot(np.random.default_rng().chisquare(df=1, size=1000), hist=False)\n",
    "\n",
    "plt.show()"
   ]
  },
  {
   "cell_type": "code",
   "execution_count": 90,
   "id": "071f60c3-42d5-4a09-82a9-d46cd64a155a",
   "metadata": {},
   "outputs": [
    {
     "name": "stderr",
     "output_type": "stream",
     "text": [
      "No handles with labels found to put in legend.\n"
     ]
    },
    {
     "data": {
      "image/png": "[encoded data removed]",
      "text/plain": [
       "<Figure size 432x288 with 1 Axes>"
      ]
     },
     "metadata": {
      "needs_background": "light"
     },
     "output_type": "display_data"
    }
   ],
   "source": [
    "#https://github.com/ikhomkodes/ChiSquare-Test-in-5-different-languages/blob/main/ChiSquareTest.ipynb\n",
    "\n",
    "from scipy import stats\n",
    "import numpy as np\n",
    "import matplotlib.pyplot as plt\n",
    "\n",
    "x = np.linspace(0, 10, 100)\n",
    "fig,ax = plt.subplots(1,1)\n",
    "\n",
    "linestyles = [':', '--', '-.', '-']\n",
    "deg_of_freedom = [1, 4, 7, 6]\n",
    "for df, ls in zip(deg_of_freedom, linestyles):\n",
    "  ax.plot(x, stats.chi2.pdf(x, df), linestyle=ls)\n",
    "\n",
    "plt.xlim(0, 10)\n",
    "plt.ylim(0, 0.4)\n",
    "\n",
    "plt.xlabel('Value')\n",
    "plt.ylabel('Frequency')\n",
    "plt.title('Chi-Square Distribution')\n",
    "\n",
    "plt.legend()\n",
    "plt.show()"
   ]
  },
  {
   "cell_type": "code",
   "execution_count": 91,
   "id": "c962d69a-f314-4d65-9f5f-48a6bee0ed6e",
   "metadata": {},
   "outputs": [
    {
     "name": "stdout",
     "output_type": "stream",
     "text": [
      "Chisquare is Power_divergenceResult(statistic=1483.3333333333333, pvalue=0.0)\n"
     ]
    }
   ],
   "source": [
    "observed_values=[300,300,100,200,100]\n",
    "expected_values= [600, 210, 140, 30, 20]\n",
    "t = stats.chisquare([300,300,100,200,100],f_exp= [600, 210, 140, 30, 20])\n",
    "print(\"Chisquare is\",t)"
   ]
  },
  {
   "cell_type": "code",
   "execution_count": 92,
   "id": "c54204e9-13b7-4f94-a2cb-12c866b37f64",
   "metadata": {},
   "outputs": [],
   "source": [
    "#https://wtmatter.com/numpy-chi-square-distribution/\n",
    "#https://www.geeksforgeeks.org/numpy-random-chisquare-in-python/\n",
    "#ref:https://github.com/BundleOfKent/Pearson-s-chi-squared-test-from-scratch/blob/master/Chi-squaredFromScratch_Medium.ipynb\n",
    "#ref: https://python-bloggers.com/2020/09/how-to-run-chi-square-test-in-python/\n",
    "# ref:https://medium.com/analytics-vidhya/pearsons-chi-squared-test-from-scratch-with-python-ba9e14d336c\n",
    "#https://github.com/funkaj1981/chisquare_function/blob/master/chi2.ipynb\n",
    "# https://allusesof.com/math/20-uses-of-the-chi-square-test/"
   ]
  },
  {
   "cell_type": "markdown",
   "id": "67d50831-0ac2-428e-8312-334fa446b603",
   "metadata": {},
   "source": [
    "<br>\n",
    "\n",
    "\n",
    "### The Normal Distribution in Numpy Random:\n",
    "\n",
    "***\n",
    "\n",
    "\n",
    "The NumPy random normal() function is used to gets the random samples from a normal distribution. The NumPy random normal() function is a built-in function in NumPy package of python. The NumPy random normal() function generate random samples from a normal distribution or Gaussian distribution, the normal distribution describes a common occurring distribution of samples influenced by a large of tiny, random distribution or which occurs often in nature. The normal distribution also called a bell curve because of its shape and these samples of distribution are commonly used in data statistics, data analysis, data-related fields, and all and also can be used in probability, machine learning, Bayesian statistics, and all. It is the most important distribution.\n",
    "\n",
    "\n"
   ]
  },
  {
   "cell_type": "code",
   "execution_count": 93,
   "id": "dc759012-99ec-4063-abc4-972e1a9ea114",
   "metadata": {},
   "outputs": [
    {
     "name": "stdout",
     "output_type": "stream",
     "text": [
      "Help on method_descriptor:\n",
      "\n",
      "normal(...)\n",
      "    normal(loc=0.0, scale=1.0, size=None)\n",
      "    \n",
      "    Draw random samples from a normal (Gaussian) distribution.\n",
      "    \n",
      "    The probability density function of the normal distribution, first\n",
      "    derived by De Moivre and 200 years later by both Gauss and Laplace\n",
      "    independently [2]_, is often called the bell curve because of\n",
      "    its characteristic shape (see the example below).\n",
      "    \n",
      "    The normal distributions occurs often in nature.  For example, it\n",
      "    describes the commonly occurring distribution of samples influenced\n",
      "    by a large number of tiny, random disturbances, each with its own\n",
      "    unique distribution [2]_.\n",
      "    \n",
      "    Parameters\n",
      "    ----------\n",
      "    loc : float or array_like of floats\n",
      "        Mean (\"centre\") of the distribution.\n",
      "    scale : float or array_like of floats\n",
      "        Standard deviation (spread or \"width\") of the distribution. Must be\n",
      "        non-negative.\n",
      "    size : int or tuple of ints, optional\n",
      "        Output shape.  If the given shape is, e.g., ``(m, n, k)``, then\n",
      "        ``m * n * k`` samples are drawn.  If size is ``None`` (default),\n",
      "        a single value is returned if ``loc`` and ``scale`` are both scalars.\n",
      "        Otherwise, ``np.broadcast(loc, scale).size`` samples are drawn.\n",
      "    \n",
      "    Returns\n",
      "    -------\n",
      "    out : ndarray or scalar\n",
      "        Drawn samples from the parameterized normal distribution.\n",
      "    \n",
      "    See Also\n",
      "    --------\n",
      "    scipy.stats.norm : probability density function, distribution or\n",
      "        cumulative density function, etc.\n",
      "    \n",
      "    Notes\n",
      "    -----\n",
      "    The probability density for the Gaussian distribution is\n",
      "    \n",
      "    .. math:: p(x) = \\frac{1}{\\sqrt{ 2 \\pi \\sigma^2 }}\n",
      "                     e^{ - \\frac{ (x - \\mu)^2 } {2 \\sigma^2} },\n",
      "    \n",
      "    where :math:`\\mu` is the mean and :math:`\\sigma` the standard\n",
      "    deviation. The square of the standard deviation, :math:`\\sigma^2`,\n",
      "    is called the variance.\n",
      "    \n",
      "    The function has its peak at the mean, and its \"spread\" increases with\n",
      "    the standard deviation (the function reaches 0.607 times its maximum at\n",
      "    :math:`x + \\sigma` and :math:`x - \\sigma` [2]_).  This implies that\n",
      "    :meth:`normal` is more likely to return samples lying close to the\n",
      "    mean, rather than those far away.\n",
      "    \n",
      "    References\n",
      "    ----------\n",
      "    .. [1] Wikipedia, \"Normal distribution\",\n",
      "           https://en.wikipedia.org/wiki/Normal_distribution\n",
      "    .. [2] P. R. Peebles Jr., \"Central Limit Theorem\" in \"Probability,\n",
      "           Random Variables and Random Signal Principles\", 4th ed., 2001,\n",
      "           pp. 51, 51, 125.\n",
      "    \n",
      "    Examples\n",
      "    --------\n",
      "    Draw samples from the distribution:\n",
      "    \n",
      "    >>> mu, sigma = 0, 0.1 # mean and standard deviation\n",
      "    >>> s = np.random.default_rng().normal(mu, sigma, 1000)\n",
      "    \n",
      "    Verify the mean and the variance:\n",
      "    \n",
      "    >>> abs(mu - np.mean(s))\n",
      "    0.0  # may vary\n",
      "    \n",
      "    >>> abs(sigma - np.std(s, ddof=1))\n",
      "    0.1  # may vary\n",
      "    \n",
      "    Display the histogram of the samples, along with\n",
      "    the probability density function:\n",
      "    \n",
      "    >>> import matplotlib.pyplot as plt\n",
      "    >>> count, bins, ignored = plt.hist(s, 30, density=True)\n",
      "    >>> plt.plot(bins, 1/(sigma * np.sqrt(2 * np.pi)) *\n",
      "    ...                np.exp( - (bins - mu)**2 / (2 * sigma**2) ),\n",
      "    ...          linewidth=2, color='r')\n",
      "    >>> plt.show()\n",
      "    \n",
      "    Two-by-four array of samples from N(3, 6.25):\n",
      "    \n",
      "    >>> np.random.default_rng().normal(3, 2.5, size=(2, 4))\n",
      "    array([[-4.49401501,  4.00950034, -1.81814867,  7.29718677],   # random\n",
      "           [ 0.39924804,  4.68456316,  4.99394529,  4.84057254]])  # random\n",
      "\n"
     ]
    }
   ],
   "source": [
    "help(random.Generator.normal)\n",
    "# this code will tell me about the parameters,returns and also includes some examples to practice with."
   ]
  },
  {
   "cell_type": "code",
   "execution_count": 94,
   "id": "b958b9d9-dbd5-44f2-8741-c91c0b98f7b8",
   "metadata": {},
   "outputs": [
    {
     "data": {
      "text/plain": [
       "array([[0.02025416, 7.55529275, 4.98894105, 8.00939977],\n",
       "       [0.84043725, 6.78050827, 0.12837609, 2.2769493 ]])"
      ]
     },
     "execution_count": 94,
     "metadata": {},
     "output_type": "execute_result"
    }
   ],
   "source": [
    "3 + 2.5 * np.random.standard_normal(size=(2, 4))"
   ]
  },
  {
   "cell_type": "code",
   "execution_count": 95,
   "id": "c5b63679-1aed-49ee-aead-ef289e4f1321",
   "metadata": {},
   "outputs": [
    {
     "data": {
      "text/plain": [
       "['__call__',\n",
       " '__class__',\n",
       " '__delattr__',\n",
       " '__dir__',\n",
       " '__doc__',\n",
       " '__eq__',\n",
       " '__format__',\n",
       " '__ge__',\n",
       " '__get__',\n",
       " '__getattribute__',\n",
       " '__gt__',\n",
       " '__hash__',\n",
       " '__init__',\n",
       " '__init_subclass__',\n",
       " '__le__',\n",
       " '__lt__',\n",
       " '__name__',\n",
       " '__ne__',\n",
       " '__new__',\n",
       " '__objclass__',\n",
       " '__qualname__',\n",
       " '__reduce__',\n",
       " '__reduce_ex__',\n",
       " '__repr__',\n",
       " '__setattr__',\n",
       " '__sizeof__',\n",
       " '__str__',\n",
       " '__subclasshook__',\n",
       " '__text_signature__']"
      ]
     },
     "execution_count": 95,
     "metadata": {},
     "output_type": "execute_result"
    }
   ],
   "source": [
    "dir(random.Generator.normal)\n",
    "# this command will let me see what is in the random normal directory in numpy "
   ]
  },
  {
   "cell_type": "code",
   "execution_count": 96,
   "id": "40d56270-6808-4aba-b45a-ebba7f915caa",
   "metadata": {},
   "outputs": [
    {
     "name": "stderr",
     "output_type": "stream",
     "text": [
      "C:\\Users\\kate_\\anaconda3\\lib\\site-packages\\seaborn\\distributions.py:2557: FutureWarning: `distplot` is a deprecated function and will be removed in a future version. Please adapt your code to use either `displot` (a figure-level function with similar flexibility) or `histplot` (an axes-level function for histograms).\n",
      "  warnings.warn(msg, FutureWarning)\n"
     ]
    },
    {
     "data": {
      "image/png": "[encoded data removed]",
      "text/plain": [
       "<Figure size 432x288 with 1 Axes>"
      ]
     },
     "metadata": {
      "needs_background": "light"
     },
     "output_type": "display_data"
    }
   ],
   "source": [
    "sns.distplot(np.random.standard_normal(size=1000), hist=True)\n",
    "\n",
    "plt.show()"
   ]
  },
  {
   "cell_type": "markdown",
   "id": "8921e70b-f24d-42e2-ac30-8b73d9932556",
   "metadata": {},
   "source": [
    " \n",
    "\n",
    "The np.random.normal function has three primary parameters that control the output: loc, scale, and size.\n",
    "The loc parameter controls the mean of the function.\n",
    "The scale parameter controls the standard deviation of the normal distribution.\n",
    "The size parameter controls the size and shape of the output.\n"
   ]
  },
  {
   "cell_type": "code",
   "execution_count": 97,
   "id": "47d49222-adf0-498c-8567-096681c988e6",
   "metadata": {},
   "outputs": [
    {
     "data": {
      "image/png": "[encoded data removed]",
      "text/plain": [
       "<Figure size 432x288 with 1 Axes>"
      ]
     },
     "metadata": {
      "needs_background": "light"
     },
     "output_type": "display_data"
    },
    {
     "data": {
      "image/png": "[encoded data removed]",
      "text/plain": [
       "<Figure size 432x288 with 1 Axes>"
      ]
     },
     "metadata": {
      "needs_background": "light"
     },
     "output_type": "display_data"
    }
   ],
   "source": [
    "# mean\n",
    "pos = 0\n",
    " \n",
    "# standard deviation\n",
    "scale = 10\n",
    " \n",
    "# size number of points\n",
    "size = 10000 \n",
    " \n",
    " \n",
    "# random seed\n",
    "np.random.seed(10)\n",
    " \n",
    "# creating a normal distribution data\n",
    "values = np.random.default_rng().normal(pos, scale ,size)\n",
    " \n",
    "# plotting histograph\n",
    "plt.hist(values, 100)\n",
    " \n",
    "# plotting mean line\n",
    "plt.axvline(values.mean(), color='k', linestyle='dashed', linewidth=2)\n",
    " \n",
    "# showing the plot\n",
    "plt.show()\n",
    "# Display the histogram of the samples, along with the probability density function:\n",
    "count, bins, ignored = plt.hist(values, 30, density=True)\n",
    "plt.plot(bins, 1/(scale * np.sqrt(2 * np.pi)) *\n",
    "               np.exp( - (bins - pos)**2 / (2 * scale**2) ),\n",
    "         linewidth=2, color='r')\n",
    "plt.show()\n"
   ]
  },
  {
   "cell_type": "code",
   "execution_count": 98,
   "id": "a05cc5bd-8300-4179-b171-f8af38005827",
   "metadata": {},
   "outputs": [
    {
     "data": {
      "image/png": "[encoded data removed]",
      "text/plain": [
       "<Figure size 432x288 with 1 Axes>"
      ]
     },
     "metadata": {
      "needs_background": "light"
     },
     "output_type": "display_data"
    }
   ],
   "source": [
    "#https://www.alphacodingskills.com/numpy/numpy-normal-distribution.php\n",
    "#Multiple probability density functions can be compared graphically using Seaborn kdeplot() function. \n",
    "#In the example below, pdf of three normal distributions (each with mean 0 and standard deviation 1, 2 and 3 respectively) are compared.\n",
    "# The below is code for normal distribution with the same mean but difference in standard deviation\n",
    "#fixing the seed for reproducibility\n",
    "#of the result\n",
    "np.random.seed(10)\n",
    "\n",
    "size = 1000\n",
    "#plotting 1000 sample from \n",
    "#different normal distribution\n",
    "sns.kdeplot(np.random.default_rng().normal(0, 1, size))\n",
    "sns.kdeplot(np.random.default_rng().normal(0, 2, size))\n",
    "sns.kdeplot(np.random.default_rng().normal(0, 3, size))\n",
    "\n",
    "plt.legend([r\"$\\mu = 0, \\sigma = 1$\", \n",
    "            r\"$\\mu = 0, \\sigma = 2$\", \n",
    "            r\"$\\mu = 0, \\sigma = 3$\"])\n",
    "plt.show()"
   ]
  },
  {
   "cell_type": "code",
   "execution_count": 99,
   "id": "e83fafd9-f94f-4435-a2d5-f05427064233",
   "metadata": {},
   "outputs": [
    {
     "data": {
      "image/png": "[encoded data removed]",
      "text/plain": [
       "<Figure size 432x288 with 1 Axes>"
      ]
     },
     "metadata": {
      "needs_background": "light"
     },
     "output_type": "display_data"
    }
   ],
   "source": [
    "#Three normal distributions each with different mean and standard deviations are graphically compared.\n",
    "#ref :https://www.alphacodingskills.com/numpy/numpy-normal-distribution.php\n",
    "\n",
    "#fixing the seed for reproducibility\n",
    "#of the result\n",
    "np.random.seed(10)\n",
    "\n",
    "size = 1000\n",
    "#plotting 1000 sample from \n",
    "#different normal distribution\n",
    "sns.kdeplot(np.random.default_rng().normal(0, 1, size))\n",
    "sns.kdeplot(np.random.default_rng().normal(3, 2, size))\n",
    "sns.kdeplot(np.random.default_rng().normal(6, 3, size))\n",
    "\n",
    "plt.legend([r\"$\\mu = 0, \\sigma = 1$\", \n",
    "            r\"$\\mu = 3, \\sigma = 2$\", \n",
    "            r\"$\\mu = 6, \\sigma = 3$\"])\n",
    "plt.show()"
   ]
  },
  {
   "cell_type": "code",
   "execution_count": null,
   "id": "65bacf02-d994-425c-8869-ea86f4a0122b",
   "metadata": {},
   "outputs": [],
   "source": []
  },
  {
   "cell_type": "markdown",
   "id": "378a602e-e0e3-4eab-9be9-557c60be08a1",
   "metadata": {},
   "source": [
    "<br>\n",
    "\n",
    "### The uniform distribution in NumPy Random:\n",
    "\n",
    "***\n",
    "In statistics, uniform distribution is a term used to describe a form of probability distribution where every possible outcome has an equal likelihood of happening. The probability is constant since each variable has equal chances of being the outcome.\n",
    "\n",
    "Discrete uniform distributions have a finite number of outcomes. A continuous uniform distribution is a statistical distribution with an infinite number of equally likely measurable values.\n",
    "\n",
    "The concepts of discrete uniform distribution and continuous uniform distribution, as well as the random variables they describe, are the foundations of statistical analysis and probability theory.\n",
    "\n",
    "For example, if you stand on a street corner and start to randomly hand a $100 bill to any lucky person who walked by, then every passerby would have an equal chance of being handed the money. The percentage of the probability is 1 divided by the total number of outcomes (number of passersby). However, if you favored short people or women, they would have a higher chance of being given the $100 bill than the other passersby. It would not be described as uniform probability.\n",
    "\n",
    "A deck of cards also has a uniform distribution. This is because an individual has an equal chance of drawing a spade, a heart, a club, or a diamond. Another example of a uniform distribution is when a coin is tossed. The likelihood of getting a tail or head is the same. The graph of a uniform distribution is usually flat, whereby the sides and top are parallel to the x- and y-axes.\n",
    "\n",
    "1. Discrete uniform distribution\n",
    "In statistics and probability theory, a discrete uniform distribution is a statistical distribution where the probability of outcomes is equally likely and with finite values. A good example of a discrete uniform distribution would be the possible outcomes of rolling a 6-sided die. The possible values would be 1, 2, 3, 4, 5, or 6. In this case, each of the six numbers has an equal chance of appearing. Therefore, each time the 6-sided die is thrown, each side has a chance of 1/6.\n",
    "\n",
    "The number of values is finite. It is impossible to get a value of 1.3, 4.2, or 5.7 when rolling a fair die. However, if another die is added and they are both thrown, the distribution that results is no longer uniform because the probability of the sums is not equal. Another simple example is the probability distribution of a coin being flipped. The possible outcomes in such a scenario can only be two. Therefore, the finite value is 2.\n",
    "\n",
    "There are several ways in which discrete uniform distribution can be valuable for businesses. For example, it can arise in inventory management in the study of the frequency of inventory sales. It can provide a probability distribution that can guide the business on how to properly allocate the inventory for the best use of square footage.\n",
    "\n",
    "Discrete uniform distribution is also useful in Monte Carlo simulation. This is a modeling technique that uses programmed technology to identify the probabilities of different outcomes. Monte Carlo simulation is often used to forecast scenarios and help in the identification of risks.\n",
    "\n",
    " \n",
    "\n",
    "2. Continuous uniform distribution\n",
    "Not all uniform distributions are discrete; some are continuous. A continuous uniform distribution (also referred to as rectangular distribution) is a statistical distribution with an infinite number of equally likely measurable values. Unlike discrete random variables, a continuous random variable can take any real value within a specified range.\n",
    "\n",
    "A continuous uniform distribution usually comes in a rectangular shape. A good example of a continuous uniform distribution is an idealized random number generator. With continuous uniform distribution, just like discrete uniform distribution, every variable has an equal chance of happening. However, there is an infinite number of points that can exist."
   ]
  },
  {
   "cell_type": "code",
   "execution_count": 100,
   "id": "b9736a78-eab5-423b-8fc9-2477e35d2655",
   "metadata": {},
   "outputs": [],
   "source": [
    "# ref: https://www.investopedia.com/terms/u/uniform-distribution.asp#:~:text=Uniform%20distributions%20are%20probability%20distributions%20with%20equally%20likely,a%20continuous%20distribution%2C%20outcomes%20are%20continuous%20and%20infinite.\n",
    "# ref: https://corporatefinanceinstitute.com/resources/knowledge/other/uniform-distribution/\n",
    "# ref : https://www.alphacodingskills.com/numpy/numpy-uniform-distribution.php\n",
    "# ref : https://wtmatter.com/numpy-uniform-distribution/\n",
    "# ref: https://www.datacamp.com/community/tutorials/probability-distributions-python"
   ]
  },
  {
   "cell_type": "code",
   "execution_count": 101,
   "id": "a7389a92-f638-4f0f-ab3a-b99b727988eb",
   "metadata": {},
   "outputs": [],
   "source": [
    "s = np.random.default_rng().uniform(-10,-9,100)"
   ]
  },
  {
   "cell_type": "code",
   "execution_count": 102,
   "id": "73b2f080-e8d2-495c-8b5d-529813543156",
   "metadata": {},
   "outputs": [
    {
     "data": {
      "text/plain": [
       "array([-9.21210679, -9.25065611, -9.48280282, -9.69433913, -9.14729912,\n",
       "       -9.87610578, -9.35392095, -9.52527685, -9.45090789, -9.84781749,\n",
       "       -9.15309138, -9.986675  , -9.63555229, -9.27144041, -9.8528502 ,\n",
       "       -9.73139083, -9.04552301, -9.16397044, -9.73612335, -9.124536  ,\n",
       "       -9.14826019, -9.54608986, -9.45441175, -9.25653241, -9.79918386,\n",
       "       -9.18325545, -9.62222104, -9.80485899, -9.19174453, -9.11304839,\n",
       "       -9.38251387, -9.36987782, -9.40674432, -9.11455114, -9.15565678,\n",
       "       -9.46606459, -9.38462285, -9.10530371, -9.23120567, -9.43358703,\n",
       "       -9.65337336, -9.64767349, -9.28259253, -9.94427782, -9.74481655,\n",
       "       -9.15069294, -9.21816155, -9.68653546, -9.71155493, -9.12254417,\n",
       "       -9.62115709, -9.46960755, -9.82162347, -9.40117923, -9.42177196,\n",
       "       -9.79909519, -9.74691329, -9.5245682 , -9.01941859, -9.85320785,\n",
       "       -9.70686718, -9.31298324, -9.25858347, -9.9644897 , -9.9351277 ,\n",
       "       -9.39323397, -9.07842681, -9.98497623, -9.99528475, -9.31820425,\n",
       "       -9.30358305, -9.66981865, -9.9817717 , -9.2786919 , -9.4945556 ,\n",
       "       -9.3032791 , -9.79153515, -9.94833577, -9.63975823, -9.7891327 ,\n",
       "       -9.30671077, -9.86889471, -9.30923084, -9.23773047, -9.26911424,\n",
       "       -9.78697281, -9.10140966, -9.20098315, -9.48588291, -9.90606758,\n",
       "       -9.39468482, -9.03774384, -9.99791977, -9.11817072, -9.69780488,\n",
       "       -9.42845212, -9.34234558, -9.18338508, -9.42586285, -9.24517197])"
      ]
     },
     "execution_count": 102,
     "metadata": {},
     "output_type": "execute_result"
    }
   ],
   "source": [
    "s"
   ]
  },
  {
   "cell_type": "code",
   "execution_count": 103,
   "id": "458dbe96-fbb7-4c63-8b38-55fb4af072d3",
   "metadata": {},
   "outputs": [
    {
     "data": {
      "text/plain": [
       "False"
      ]
     },
     "execution_count": 103,
     "metadata": {},
     "output_type": "execute_result"
    }
   ],
   "source": [
    "#All values are within the given interval:\n",
    "np.all(s <= -12)"
   ]
  },
  {
   "cell_type": "code",
   "execution_count": 104,
   "id": "ad61485a-2cd6-462d-9c09-744ef5f54a31",
   "metadata": {},
   "outputs": [
    {
     "data": {
      "text/plain": [
       "True"
      ]
     },
     "execution_count": 104,
     "metadata": {},
     "output_type": "execute_result"
    }
   ],
   "source": [
    "np.all(s < 0)"
   ]
  },
  {
   "cell_type": "code",
   "execution_count": 105,
   "id": "504a9c0f-676e-42f8-b426-152f1d012266",
   "metadata": {},
   "outputs": [
    {
     "data": {
      "image/png": "[encoded data removed]",
      "text/plain": [
       "<Figure size 432x288 with 1 Axes>"
      ]
     },
     "metadata": {
      "needs_background": "light"
     },
     "output_type": "display_data"
    }
   ],
   "source": [
    "import matplotlib.pyplot as plt\n",
    "count, bins, ignored = plt.hist(s, 15, density=True)\n",
    "plt.plot(bins, np.ones_like(bins), linewidth=2, color='r')\n",
    "plt.show()"
   ]
  },
  {
   "cell_type": "code",
   "execution_count": 106,
   "id": "a9db4412-cfb7-4ed9-a1d3-b541bf4e14ab",
   "metadata": {},
   "outputs": [
    {
     "data": {
      "image/png": "[encoded data removed]",
      "text/plain": [
       "<Figure size 432x288 with 1 Axes>"
      ]
     },
     "metadata": {
      "needs_background": "light"
     },
     "output_type": "display_data"
    }
   ],
   "source": [
    "import seaborn as sns\n",
    "\n",
    "#fixing the seed for reproducibility\n",
    "#of the result\n",
    "np.random.seed(10)\n",
    "\n",
    "size = 1000\n",
    "#plotting 1000 sample from \n",
    "#different uniform distribution\n",
    "sns.ecdfplot(np.random.uniform(0, 1, size))\n",
    "sns.ecdfplot(np.random.uniform(0, 2, size))\n",
    "sns.ecdfplot(np.random.uniform(0, 3, size))\n",
    "\n",
    "plt.legend([\"a = 0, b = 1\", \n",
    "            \"a = 0, b = 2\", \n",
    "            \"a = 0, b = 3\"])\n",
    "plt.show()"
   ]
  },
  {
   "cell_type": "code",
   "execution_count": 107,
   "id": "451a0fe2-9c95-45a8-a4d7-10760794f99a",
   "metadata": {},
   "outputs": [
    {
     "name": "stderr",
     "output_type": "stream",
     "text": [
      "C:\\Users\\kate_\\anaconda3\\lib\\site-packages\\seaborn\\distributions.py:2557: FutureWarning: `distplot` is a deprecated function and will be removed in a future version. Please adapt your code to use either `displot` (a figure-level function with similar flexibility) or `histplot` (an axes-level function for histograms).\n",
      "  warnings.warn(msg, FutureWarning)\n"
     ]
    },
    {
     "data": {
      "image/png": "[encoded data removed]",
      "text/plain": [
       "<Figure size 432x288 with 1 Axes>"
      ]
     },
     "metadata": {
      "needs_background": "light"
     },
     "output_type": "display_data"
    }
   ],
   "source": [
    "# import uniform distribution. We can use the scipy module which has a built in uniform function \n",
    "from scipy.stats import uniform\n",
    "import seaborn as sns \n",
    "\n",
    "# random numbers from uniform distribution\n",
    "n = 10000\n",
    "start = 10\n",
    "width = 20\n",
    "data_uniform = uniform.rvs(size=n, loc = start, scale=width)\n",
    "\n",
    "ax = sns.distplot(data_uniform,\n",
    "                  bins=100,\n",
    "                  kde=True,\n",
    "                  color='skyblue',\n",
    "                  hist_kws={\"linewidth\": 15,'alpha':1})\n",
    "ax.set(xlabel='Uniform Distribution ', ylabel='Frequency')\n",
    "plt.show()"
   ]
  },
  {
   "cell_type": "code",
   "execution_count": null,
   "id": "d786b9aa-5dae-4b02-a48a-5596aaedcbc4",
   "metadata": {},
   "outputs": [],
   "source": []
  },
  {
   "cell_type": "markdown",
   "id": "ac475131-df85-40fb-95d3-2fe9d7b1d25d",
   "metadata": {},
   "source": [
    "<br>\n",
    "\n",
    "## The Poisson Distribution\n",
    "\n",
    "***\n",
    "\n",
    "Poisson Distribution is a Discrete Distribution (will only take a discrete number of values).\n",
    "\n",
    "It estimates how many times an event can happen in a specified time. e.g. If someone eats twice a day what is probability he will eat thrice?\n",
    "\n",
    "It has two parameters:\n",
    "\n",
    "lam - rate or known number of occurences e.g. 2 for above problem.\n",
    "\n",
    "size - The shape of the returned array.\n",
    "\n",
    "Basically, it is used to predict the probability of certain events happening if we know how often the event has occurred."
   ]
  },
  {
   "cell_type": "code",
   "execution_count": null,
   "id": "68e09899-d506-4952-a310-3ada4b7c3845",
   "metadata": {},
   "outputs": [],
   "source": []
  },
  {
   "cell_type": "code",
   "execution_count": 108,
   "id": "d6248a04-29d7-43ca-8d3e-af2027096523",
   "metadata": {},
   "outputs": [
    {
     "data": {
      "text/plain": [
       "(array([4.030e+02, 2.253e+03, 3.529e+03, 1.480e+03, 1.671e+03, 5.460e+02,\n",
       "        7.900e+01, 3.800e+01, 0.000e+00, 1.000e+00]),\n",
       " array([ 0. ,  1.7,  3.4,  5.1,  6.8,  8.5, 10.2, 11.9, 13.6, 15.3, 17. ]),\n",
       " <BarContainer object of 10 artists>)"
      ]
     },
     "execution_count": 108,
     "metadata": {},
     "output_type": "execute_result"
    },
    {
     "data": {
      "image/png": "[encoded data removed]",
      "text/plain": [
       "<Figure size 432x288 with 1 Axes>"
      ]
     },
     "metadata": {
      "needs_background": "light"
     },
     "output_type": "display_data"
    }
   ],
   "source": [
    "# generate a random \n",
    "import numpy as np\n",
    "rng = np.random.default_rng()\n",
    "s = rng.poisson(5, 10000)\n",
    "plt.hist(s)"
   ]
  },
  {
   "cell_type": "code",
   "execution_count": 109,
   "id": "632a1e66-a545-4c32-8ede-eac8d2bbf929",
   "metadata": {},
   "outputs": [
    {
     "data": {
      "image/png": "[encoded data removed]",
      "text/plain": [
       "<Figure size 432x288 with 1 Axes>"
      ]
     },
     "metadata": {
      "needs_background": "light"
     },
     "output_type": "display_data"
    }
   ],
   "source": [
    "import matplotlib.pyplot as plt\n",
    "count, bins, ignored = plt.hist(s, 14, density=True)\n",
    "plt.show()"
   ]
  },
  {
   "cell_type": "code",
   "execution_count": 110,
   "id": "fbb6615d-0d0b-4298-b4ae-b0901bb86700",
   "metadata": {},
   "outputs": [
    {
     "name": "stderr",
     "output_type": "stream",
     "text": [
      "C:\\Users\\kate_\\anaconda3\\lib\\site-packages\\seaborn\\distributions.py:2557: FutureWarning: `distplot` is a deprecated function and will be removed in a future version. Please adapt your code to use either `displot` (a figure-level function with similar flexibility) or `histplot` (an axes-level function for histograms).\n",
      "  warnings.warn(msg, FutureWarning)\n"
     ]
    },
    {
     "data": {
      "image/png": "[encoded data removed]",
      "text/plain": [
       "<Figure size 432x288 with 1 Axes>"
      ]
     },
     "metadata": {
      "needs_background": "light"
     },
     "output_type": "display_data"
    }
   ],
   "source": [
    "sns.distplot(random.poisson(lam=2, size=1000), kde=False)\n",
    "\n",
    "plt.show()"
   ]
  },
  {
   "cell_type": "markdown",
   "id": "0db57f26-e889-49c8-b51f-cbee7d631ebe",
   "metadata": {},
   "source": [
    "Normal distribution is continous whereas poisson is discrete.\n",
    "\n",
    "But we can see that similar to binomial for a large enough poisson distribution it will become similar to normal distribution with certain std dev and mean."
   ]
  },
  {
   "cell_type": "code",
   "execution_count": 111,
   "id": "3ab1dd34-fe81-423d-808f-1234231e01fc",
   "metadata": {},
   "outputs": [
    {
     "name": "stderr",
     "output_type": "stream",
     "text": [
      "C:\\Users\\kate_\\anaconda3\\lib\\site-packages\\seaborn\\distributions.py:2557: FutureWarning: `distplot` is a deprecated function and will be removed in a future version. Please adapt your code to use either `displot` (a figure-level function with similar flexibility) or `kdeplot` (an axes-level function for kernel density plots).\n",
      "  warnings.warn(msg, FutureWarning)\n",
      "C:\\Users\\kate_\\anaconda3\\lib\\site-packages\\seaborn\\distributions.py:2557: FutureWarning: `distplot` is a deprecated function and will be removed in a future version. Please adapt your code to use either `displot` (a figure-level function with similar flexibility) or `kdeplot` (an axes-level function for kernel density plots).\n",
      "  warnings.warn(msg, FutureWarning)\n"
     ]
    },
    {
     "data": {
      "image/png": "[encoded data removed]",
      "text/plain": [
       "<Figure size 432x288 with 1 Axes>"
      ]
     },
     "metadata": {
      "needs_background": "light"
     },
     "output_type": "display_data"
    }
   ],
   "source": [
    "# ref: https://www.w3schools.com/python/numpy/numpy_random_poisson.asp\n",
    "sns.distplot(random.normal(loc=50, scale=7, size=1000), hist=False, label='normal')\n",
    "sns.distplot(random.poisson(lam=50, size=1000), hist=False, label='poisson')\n",
    "\n",
    "plt.show()"
   ]
  },
  {
   "cell_type": "markdown",
   "id": "6d2edc9e-c8bf-48d0-99a9-facce88c5409",
   "metadata": {},
   "source": [
    "Multiple cumulative distribution functions can be compared graphically using Seaborn ecdfplot() function. In the example below, cdf of three poisson distributions (each with different λ) are compared.\n",
    "\n"
   ]
  },
  {
   "cell_type": "code",
   "execution_count": 112,
   "id": "f01b5104-c284-4e45-8180-9809ffb155bc",
   "metadata": {},
   "outputs": [
    {
     "data": {
      "image/png": "[encoded data removed]",
      "text/plain": [
       "<Figure size 432x288 with 1 Axes>"
      ]
     },
     "metadata": {
      "needs_background": "light"
     },
     "output_type": "display_data"
    }
   ],
   "source": [
    "#ref https://www.alphacodingskills.com/numpy/numpy-poisson-distribution.php\n",
    "#fixing the seed for reproducibility\n",
    "#of the result\n",
    "np.random.seed(10)\n",
    "\n",
    "size = 1000\n",
    "#plotting 1000 sample from \n",
    "#different poisson distribution\n",
    "sns.ecdfplot(np.random.poisson(5, size))\n",
    "sns.ecdfplot(np.random.poisson(10, size))\n",
    "sns.ecdfplot(np.random.poisson(15, size))\n",
    "\n",
    "plt.legend([r\"$\\lambda = 5$\", \n",
    "            r\"$\\lambda = 10$\", \n",
    "            r\"$\\lambda = 15$\"])\n",
    "plt.show()"
   ]
  },
  {
   "cell_type": "markdown",
   "id": "baf0caa6-9b67-416d-942d-67c492c1ea95",
   "metadata": {},
   "source": [
    "Draw an equal amount of samples for two different values of lam, simultaneously. In this example, we shall be drawing 20 different sample values for two values of lam: λ = 10 and λ = 100. We will be passing lam argument in the form of (10,100).\n"
   ]
  },
  {
   "cell_type": "code",
   "execution_count": 113,
   "id": "24b0ee0a-e340-4b3a-8446-a0501cdfa438",
   "metadata": {},
   "outputs": [
    {
     "name": "stdout",
     "output_type": "stream",
     "text": [
      "[[ 13 104]\n",
      " [ 10  90]\n",
      " [  6 110]\n",
      " [ 12 117]\n",
      " [ 10  96]\n",
      " [  9 103]\n",
      " [ 11 110]\n",
      " [ 15  84]\n",
      " [ 10  90]\n",
      " [  8  94]\n",
      " [  8  97]\n",
      " [ 13  97]\n",
      " [ 13 103]\n",
      " [ 10  74]\n",
      " [  4  95]\n",
      " [  8  95]\n",
      " [ 14 114]\n",
      " [ 11 103]\n",
      " [  8  94]\n",
      " [ 10  99]]\n"
     ]
    },
    {
     "data": {
      "image/png": "[encoded data removed]",
      "text/plain": [
       "<Figure size 432x288 with 1 Axes>"
      ]
     },
     "metadata": {
      "needs_background": "light"
     },
     "output_type": "display_data"
    }
   ],
   "source": [
    "#ref: https://www.pythonpool.com/numpy-random-poisson/\n",
    "np.random.seed(10)\n",
    "k = np.random.poisson((10, 100), (20,2))\n",
    "\n",
    "print(k)\n",
    "\n",
    "plt.hist(k)\n",
    "\n",
    "plt.show()"
   ]
  },
  {
   "cell_type": "markdown",
   "id": "e76d0932-f35e-4615-a851-bce9013c1d27",
   "metadata": {},
   "source": [
    "https://www.investopedia.com/terms/p/poisson-distribution.asp"
   ]
  },
  {
   "cell_type": "code",
   "execution_count": null,
   "id": "287f93dd-57b5-4a45-b6db-295af0520d12",
   "metadata": {},
   "outputs": [],
   "source": []
  },
  {
   "cell_type": "markdown",
   "id": "50b1f44c-5dfa-4d0f-9de5-022303a6b0e1",
   "metadata": {},
   "source": [
    "<br>\n",
    "\n",
    "## Explain the use of seeds in generating pseudorandom numbers.\n",
    "\n",
    "***\n",
    "\n",
    "NumPy random seed is simply a function that sets the random seed of the NumPy pseudo-random number generator. It provides an essential input that enables NumPy to generate pseudo-random numbers for random processes.\n",
    "\n",
    "Pseudo-random numbers are numbers that appear to be random, but are not actually random.\n",
    "There’s a fundamental problem when using computers to simulate or work with random processes.Computers are completely deterministic, not random. Another way of saying this is that if you give a computer a certain input, it will precisely follow instructions to produce an output. Essentially, the behavior of computers is NOT random.Computers solve the problem of generating “random” numbers the same way that they solve essentially everything: with an algorithm.Computer scientists have created a set of algorithms for creating psuedo random numbers, called “pseudo-random number generators.”These algorithms can be executed on a computer.As such, they are completely deterministic. However, the numbers that they produce have properties that approximate the properties of random numbers.\n",
    "\n",
    "Numpy’s random number routines produce pseudo random numbers using combinations of a BitGenerator to create sequences and a Generator to use those sequences to sample from different statistical distributionS. Since Numpy version 1.17.0 the Generator can be initialized with a number of different BitGenerators. It exposes many different probability distributions.The legacy RandomState random number routines are still available, but limited to a single BitGenerator.By default, Generator uses bits provided by PCG64 which has better statistical properties than the legacy MT19937 used in RandomState.  \n",
    "\n",
    "Seeds can be passed to any of the BitGenerators. The provided value is mixed via SeedSequence to spread a possible sequence of seeds across a wider range of initialization states for the BitGenerator. \n",
    "The numpy.random.seed function provides the input (i.e., the seed) to the algorithm that generates pseudo-random numbers in NumPy.If you give a pseudo-random number generator the same input, you’ll get the same output. In order to get repeatable results when we are using “random” functions in NumPy, we need to use numpy.random.seed."
   ]
  },
  {
   "cell_type": "code",
   "execution_count": 114,
   "id": "1ec46274-a783-48c3-8d5b-91b6c322ced2",
   "metadata": {},
   "outputs": [
    {
     "data": {
      "text/plain": [
       "0.7938792625606664"
      ]
     },
     "execution_count": 114,
     "metadata": {},
     "output_type": "execute_result"
    }
   ],
   "source": [
    "# Lets compare numbers generated using a seed and not using a seed. The below code does not have a seed. It will generate seemingly pseudorandom numbers every time the code is run.\n",
    "rng.random()"
   ]
  },
  {
   "cell_type": "code",
   "execution_count": 115,
   "id": "25f0596d-ecf1-4404-96b0-49ecda51b351",
   "metadata": {},
   "outputs": [
    {
     "data": {
      "text/plain": [
       "0.9560017096289753"
      ]
     },
     "execution_count": 115,
     "metadata": {},
     "output_type": "execute_result"
    }
   ],
   "source": [
    "# The seed has been set in the below code as 10. Everytime this code is run the random pseudonumber will remain the same.\n",
    "rng = default_rng(10)\n",
    "rng.random()"
   ]
  },
  {
   "cell_type": "code",
   "execution_count": 116,
   "id": "e1001579-5fe0-450b-bbeb-ccba48a96f1e",
   "metadata": {},
   "outputs": [
    {
     "data": {
      "text/plain": [
       "2"
      ]
     },
     "execution_count": 116,
     "metadata": {},
     "output_type": "execute_result"
    }
   ],
   "source": [
    "rng=default_rng(5)\n",
    "rng.integers(4)"
   ]
  },
  {
   "cell_type": "code",
   "execution_count": 117,
   "id": "dfd9df9a-69d5-4440-8e9f-5bacce374923",
   "metadata": {},
   "outputs": [
    {
     "data": {
      "text/plain": [
       "3"
      ]
     },
     "execution_count": 117,
     "metadata": {},
     "output_type": "execute_result"
    }
   ],
   "source": [
    "rng.integers(4)"
   ]
  },
  {
   "cell_type": "code",
   "execution_count": 149,
   "id": "4d3cf7d1-a63b-43f7-b6ac-9eac7d285604",
   "metadata": {},
   "outputs": [
    {
     "name": "stdout",
     "output_type": "stream",
     "text": [
      "[5, 4]\n"
     ]
    }
   ],
   "source": [
    "rng = default_rng(0) # we have set the seed here to zero. The code will generate the same number each time the cell is run.\n",
    "x=[]\n",
    "for i in range (2):\n",
    "    a = rng.integers(1,6)\n",
    "    x.append(a)\n",
    "print(x)   "
   ]
  },
  {
   "cell_type": "code",
   "execution_count": 119,
   "id": "09e16410-ca91-4d8a-aa6e-d7f5d9381920",
   "metadata": {},
   "outputs": [
    {
     "name": "stdout",
     "output_type": "stream",
     "text": [
      "[3, 2]\n"
     ]
    }
   ],
   "source": [
    "# if we imput the same formula below without setting the rng(random number generator) with a seed number the number will change each time code is ran\n",
    "x=[]\n",
    "for i in range (2):\n",
    "    a = rng.integers(1,6)\n",
    "    x.append(a)\n",
    "print(x) "
   ]
  },
  {
   "cell_type": "code",
   "execution_count": null,
   "id": "ca1ec89e-2a42-4fed-91eb-ae72de65a294",
   "metadata": {},
   "outputs": [],
   "source": []
  },
  {
   "cell_type": "code",
   "execution_count": null,
   "id": "c8048987-faf5-44f8-9b7b-3aec1100b86f",
   "metadata": {},
   "outputs": [],
   "source": []
  },
  {
   "cell_type": "code",
   "execution_count": null,
   "id": "8d699aad-e3f3-4f14-9159-1114ed563130",
   "metadata": {},
   "outputs": [],
   "source": []
  },
  {
   "cell_type": "code",
   "execution_count": null,
   "id": "53f70ae1-d1ea-404e-a1cf-f812a9d24346",
   "metadata": {},
   "outputs": [],
   "source": []
  },
  {
   "cell_type": "code",
   "execution_count": null,
   "id": "bec94fd8-2d20-440f-aaf7-2221ea0fa609",
   "metadata": {},
   "outputs": [],
   "source": []
  },
  {
   "cell_type": "code",
   "execution_count": null,
   "id": "47fb2ed6-a016-4088-9711-1d54babca391",
   "metadata": {},
   "outputs": [],
   "source": []
  },
  {
   "cell_type": "code",
   "execution_count": null,
   "id": "2634a3e8-9c2d-4e50-9721-92d898ed8e68",
   "metadata": {},
   "outputs": [],
   "source": []
  },
  {
   "cell_type": "code",
   "execution_count": null,
   "id": "65e2712c-d04d-49b5-9424-2a6bbd8b72a9",
   "metadata": {},
   "outputs": [],
   "source": []
  },
  {
   "cell_type": "code",
   "execution_count": null,
   "id": "bead4882-49b7-4596-8a87-3daacf1e47ab",
   "metadata": {},
   "outputs": [],
   "source": []
  },
  {
   "cell_type": "markdown",
   "id": "6b2dfc9e-b490-457d-a953-f1b077db5ab8",
   "metadata": {},
   "source": [
    "## Backround Information on NumPy (5)\n",
    "\n",
    "https://www.youtube.com/watch?v=ZB7BZMhfPgk Introduction to Numerical Computing with NumPy | SciPy 2019 Tutorial 1.13.00\n"
   ]
  },
  {
   "cell_type": "code",
   "execution_count": null,
   "id": "020d7844-5579-4997-989c-f2c020dacbd8",
   "metadata": {},
   "outputs": [],
   "source": []
  },
  {
   "cell_type": "code",
   "execution_count": null,
   "id": "43063ec8-99fe-4bed-a87a-0d098565e8c5",
   "metadata": {},
   "outputs": [],
   "source": []
  },
  {
   "cell_type": "markdown",
   "id": "bdd320b4-80ce-4fee-9855-34197e820c5e",
   "metadata": {},
   "source": [
    "### References:\n",
    "[1](https://numpy.org/devdocs/user/whatisnumpy.html)\n",
    "[2](https://numpy.org/doc/stable/reference/random/generated/numpy.random.Generator.shuffle.html)\n",
    "[3](https://www.datacamp.com/community/tutorials/numpy-random)\n",
    "[4](https://www.w3schools.com/python/numpy/numpy_random_permutation.asp)\n",
    "[5](https://www.youtube.com/watch?v=ZB7BZMhfPgk)\n",
    "[6](https://numpy.org/devdocs/reference/random/index.html)"
   ]
  },
  {
   "cell_type": "code",
   "execution_count": null,
   "id": "d8b5c402-fef5-40be-90ed-30d4c20b96ae",
   "metadata": {},
   "outputs": [],
   "source": []
  },
  {
   "cell_type": "code",
   "execution_count": null,
   "id": "ca707b3a-38c4-4bff-bedd-ca8cd4cd28f8",
   "metadata": {},
   "outputs": [],
   "source": []
  }
 ],
 "metadata": {
  "kernelspec": {
   "display_name": "Python 3",
   "language": "python",
   "name": "python3"
  },
  "language_info": {
   "codemirror_mode": {
    "name": "ipython",
    "version": 3
   },
   "file_extension": ".py",
   "mimetype": "text/x-python",
   "name": "python",
   "nbconvert_exporter": "python",
   "pygments_lexer": "ipython3",
   "version": "3.8.8"
  }
 },
 "nbformat": 4,
 "nbformat_minor": 5
}
