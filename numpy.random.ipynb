{
 "cells": [
  {
   "cell_type": "markdown",
   "id": "65341e4e-d15c-4339-b79d-54a38b2edf98",
   "metadata": {},
   "source": [
    "# The numpy.random package"
   ]
  },
  {
   "cell_type": "markdown",
   "id": "a3968f53-7ee3-4c3e-992a-63f336ac6caf",
   "metadata": {},
   "source": [
    "## Overall purpose of the numpy.random package \n",
    "\n",
    "NumPy is the fundamental package for scientific computing in Python. It is a Python library that provides a multidimensional array object, various derived objects (such as masked arrays and matrices), and an assortment of routines for fast operations on arrays, including mathematical, logical, shape manipulation, sorting, selecting, I/O, discrete Fourier transforms, basic linear algebra, basic statistical operations, random simulation and much more.\n",
    "\n",
    "NumPy (Numerical Python) is an open source Python library that’s used in almost every field of science and engineering. It’s the universal standard for working with numerical data in Python, and it’s at the core of the scientific Python and PyData ecosystems. NumPy users include everyone from beginning coders to experienced researchers doing state-of-the-art scientific and industrial research and development. The NumPy API is used extensively in Pandas, SciPy, Matplotlib, scikit-learn, scikit-image and most other data science and scientific Python packages.\n",
    "\n",
    "The NumPy library contains multidimensional array and matrix data structures (you’ll find more information about this in later sections). It provides ndarray, a homogeneous n-dimensional array object, with methods to efficiently operate on it. NumPy can be used to perform a wide variety of mathematical operations on arrays. It adds powerful data structures to Python that guarantee efficient calculations with arrays and matrices and it supplies an enormous library of high-level mathematical functions that operate on these arrays and matrices.[1]\n",
    "\n",
    "Numpy random function is a module inside the numpy library\n",
    "\n"
   ]
  },
  {
   "cell_type": "markdown",
   "id": "37e07d03-c604-4023-96cb-cb5582c421a6",
   "metadata": {},
   "source": [
    "## Simple Random Data using the numPY package:"
   ]
  },
  {
   "cell_type": "markdown",
   "id": "e2e8bf6f-ad07-4365-a7b7-f76930182bb3",
   "metadata": {},
   "source": [
    "### Simple random data function on numPY\n",
    "\n",
    "#### Random Generator NumPy v1.21:\n",
    "\n",
    "The Generator provides access to a wide range of distributions, and served as a replacement for RandomState. The main difference between the two is that Generator relies on an additional BitGenerator to manage state and generate the random bits, which are then transformed into random values from useful distributions. The default BitGenerator used by Generator is PCG64. The BitGenerator can be changed by passing an instantized BitGenerator to Generator.\n",
    "\n",
    "\n",
    "numpy.random.default_rng()\n",
    "\n",
    "\n"
   ]
  },
  {
   "cell_type": "code",
   "execution_count": 1,
   "id": "b23c52fe-c6f8-48cc-8d99-3eefee414859",
   "metadata": {},
   "outputs": [],
   "source": [
    "# Efficient numerical arrays.\n",
    "import numpy as np\n",
    "from numpy import random\n",
    "\n",
    "# Plotting.\n",
    "import matplotlib.pyplot as plt\n"
   ]
  },
  {
   "cell_type": "code",
   "execution_count": 2,
   "id": "a8406ae5-edfb-4c08-a94f-0dce54395642",
   "metadata": {},
   "outputs": [
    {
     "data": {
      "text/plain": [
       "0.648365896591765"
      ]
     },
     "execution_count": 2,
     "metadata": {},
     "output_type": "execute_result"
    }
   ],
   "source": [
    "np.random.random(size=None)"
   ]
  },
  {
   "cell_type": "markdown",
   "id": "e4480a23-81da-48b7-a2c7-a7a6933d3b54",
   "metadata": {},
   "source": [
    "### Practice from the new Numpy Documentation[2]\n",
    "\n",
    "https://numpy.org/doc/1.21/"
   ]
  },
  {
   "cell_type": "code",
   "execution_count": 3,
   "id": "3779ac99-e68f-4d0d-8d98-7a1170187031",
   "metadata": {},
   "outputs": [],
   "source": [
    "rng = np.random.default_rng()"
   ]
  },
  {
   "cell_type": "markdown",
   "id": "7c8e7790-3100-4853-9f2b-83606e0b237c",
   "metadata": {},
   "source": [
    "[1](https://numpy.org/doc/stable/user/absolute_beginners.html)"
   ]
  },
  {
   "cell_type": "code",
   "execution_count": 4,
   "id": "a65317d5-c8ca-4ae1-b8cd-c3fa256ef8e3",
   "metadata": {},
   "outputs": [
    {
     "data": {
      "text/plain": [
       "array([0, 1, 1, 1, 0, 1, 1, 1, 1, 0, 0, 1, 1, 1, 1, 1, 0, 0, 1, 1],\n",
       "      dtype=int64)"
      ]
     },
     "execution_count": 4,
     "metadata": {},
     "output_type": "execute_result"
    }
   ],
   "source": [
    "#rng.intergers(2, size =10)\n",
    "#NameError                                 Traceback (most recent call last)\n",
    "#<ipython-input-2-6ab1ec57f0ad> in <module>\n",
    "#----> 1 rng.intergers(2, size =10)\n",
    "#AttributeError: 'numpy.random._generator.Generator' object has no attribute 'intergers'\n",
    "\n",
    "# choice is the new name for the intergers\n",
    "rng.choice(2, size=20)"
   ]
  },
  {
   "cell_type": "code",
   "execution_count": 5,
   "id": "00e05001-b641-46ee-8adb-4d4eabca9470",
   "metadata": {},
   "outputs": [
    {
     "data": {
      "text/plain": [
       "0.13716286936811217"
      ]
     },
     "execution_count": 5,
     "metadata": {},
     "output_type": "execute_result"
    }
   ],
   "source": [
    "rng.random()"
   ]
  },
  {
   "cell_type": "code",
   "execution_count": 6,
   "id": "9dd90586-44b5-46c6-95f0-bf5ec0a9f8d1",
   "metadata": {},
   "outputs": [
    {
     "data": {
      "text/plain": [
       "float"
      ]
     },
     "execution_count": 6,
     "metadata": {},
     "output_type": "execute_result"
    }
   ],
   "source": [
    "type(rng.random())"
   ]
  },
  {
   "cell_type": "code",
   "execution_count": 7,
   "id": "202217cb-8072-4a46-ad0b-91659305c057",
   "metadata": {},
   "outputs": [
    {
     "data": {
      "text/plain": [
       "array([0.66813087, 0.6668831 , 0.11283153, 0.46857573, 0.90194529])"
      ]
     },
     "execution_count": 7,
     "metadata": {},
     "output_type": "execute_result"
    }
   ],
   "source": [
    "rng.random((5,))"
   ]
  },
  {
   "cell_type": "code",
   "execution_count": 8,
   "id": "d2c7ce19-1c6b-4595-9363-fd77ce40f44d",
   "metadata": {},
   "outputs": [
    {
     "data": {
      "text/plain": [
       "array([[-2.51497126, -0.11598736],\n",
       "       [-0.2393886 , -0.60334366],\n",
       "       [-1.43292118, -2.72374865]])"
      ]
     },
     "execution_count": 8,
     "metadata": {},
     "output_type": "execute_result"
    }
   ],
   "source": [
    "5 * rng.random((3, 2)) - 5\n",
    "#Three-by-two array of random numbers from [-5, 0):"
   ]
  },
  {
   "cell_type": "code",
   "execution_count": 9,
   "id": "b6513b0e-3793-41a7-8261-00ba2fb291c9",
   "metadata": {},
   "outputs": [
    {
     "data": {
      "text/plain": [
       "array([3, 0, 1], dtype=int64)"
      ]
     },
     "execution_count": 9,
     "metadata": {},
     "output_type": "execute_result"
    }
   ],
   "source": [
    "rng.choice(5, 3)\n",
    "##This is equivalent to rng.integers(0,5,3)\n",
    "#Generate a uniform random sample from np.arange(5) of size 3:"
   ]
  },
  {
   "cell_type": "code",
   "execution_count": 10,
   "id": "a9d09ca1-9bba-43a7-afa0-d68b2e1d2677",
   "metadata": {},
   "outputs": [
    {
     "data": {
      "text/plain": [
       "array([2, 3, 3], dtype=int64)"
      ]
     },
     "execution_count": 10,
     "metadata": {},
     "output_type": "execute_result"
    }
   ],
   "source": [
    "#Generate a non-uniform random sample from np.arange(5) of size 3:\n",
    "rng.choice(5, 3, p=[0.1, 0, 0.3, 0.6, 0])\n"
   ]
  },
  {
   "cell_type": "code",
   "execution_count": 11,
   "id": "addbe995-3b89-4994-9297-2baa62778566",
   "metadata": {},
   "outputs": [
    {
     "data": {
      "text/plain": [
       "array([1, 4, 2], dtype=int64)"
      ]
     },
     "execution_count": 11,
     "metadata": {},
     "output_type": "execute_result"
    }
   ],
   "source": [
    "#Generate a uniform random sample from np.arange(5) of size 3 without replacement:\n",
    "rng.choice(5, 3, replace=False)\n",
    "#This is equivalent to rng.permutation(np.arange(5))[:3]"
   ]
  },
  {
   "cell_type": "code",
   "execution_count": 12,
   "id": "2a3222d2-2b0b-421e-84b0-8bf7a658b2f3",
   "metadata": {},
   "outputs": [
    {
     "data": {
      "text/plain": [
       "array([[3, 4, 5],\n",
       "       [6, 7, 8]])"
      ]
     },
     "execution_count": 12,
     "metadata": {},
     "output_type": "execute_result"
    }
   ],
   "source": [
    "#Generate a uniform random sample from a 2-D array along the first axis (the default), without replacement:\n",
    "rng.choice([[0, 1, 2], [3, 4, 5], [6, 7, 8]], 2, replace=False)"
   ]
  },
  {
   "cell_type": "code",
   "execution_count": 13,
   "id": "c09beedd-a97f-4f1d-a0bc-ad29d8eab513",
   "metadata": {},
   "outputs": [
    {
     "data": {
      "text/plain": [
       "array(['pooh', 'pooh', 'pooh', 'pooh', 'rabbit'], dtype='<U6')"
      ]
     },
     "execution_count": 13,
     "metadata": {},
     "output_type": "execute_result"
    }
   ],
   "source": [
    "names= ['pooh', 'rabbit', 'piglet', 'Peppa']\n",
    "rng.choice(names, 5, p=[0.5, 0.1, 0.1, 0.3])\n"
   ]
  },
  {
   "cell_type": "code",
   "execution_count": 14,
   "id": "2589b849-16ec-4767-92e5-a10248ef15ae",
   "metadata": {},
   "outputs": [
    {
     "data": {
      "text/plain": [
       "array([[0.5921834 , 0.7487195 ],\n",
       "       [0.69380151, 0.74443991],\n",
       "       [0.95970446, 0.09873442]])"
      ]
     },
     "execution_count": 14,
     "metadata": {},
     "output_type": "execute_result"
    }
   ],
   "source": [
    "np.random.rand(3,2)\n"
   ]
  },
  {
   "cell_type": "code",
   "execution_count": 15,
   "id": "216274ed-a111-4dc8-8755-06c33371b5f5",
   "metadata": {},
   "outputs": [
    {
     "data": {
      "text/plain": [
       "-0.26867704997349706"
      ]
     },
     "execution_count": 15,
     "metadata": {},
     "output_type": "execute_result"
    }
   ],
   "source": [
    "np.random.randn()"
   ]
  },
  {
   "cell_type": "code",
   "execution_count": 16,
   "id": "e43cb8b0-ce96-4701-9fc0-fef1215607fa",
   "metadata": {},
   "outputs": [
    {
     "data": {
      "text/plain": [
       "array([[ 1.6024447 ,  2.66403265,  6.28569636,  2.16822435],\n",
       "       [ 4.53013211, -1.14089185,  6.84909902,  4.67417155]])"
      ]
     },
     "execution_count": 16,
     "metadata": {},
     "output_type": "execute_result"
    }
   ],
   "source": [
    "#Two-by-four array of samples from N(3, 6.25):\n",
    "3 + 2.5 * np.random.randn(2, 4)"
   ]
  },
  {
   "cell_type": "code",
   "execution_count": 17,
   "id": "9af9ad37-27c4-4942-b4e8-b8e198ec5e17",
   "metadata": {},
   "outputs": [
    {
     "data": {
      "text/plain": [
       "0"
      ]
     },
     "execution_count": 17,
     "metadata": {},
     "output_type": "execute_result"
    }
   ],
   "source": [
    "np.random.randint(5)\n",
    "#https://numpy.org/doc/1.21/reference/random/generated/numpy.random.RandomState.random_integers.html"
   ]
  },
  {
   "cell_type": "code",
   "execution_count": 18,
   "id": "eb815109-f821-427e-8d1f-c5082a4c6266",
   "metadata": {},
   "outputs": [
    {
     "data": {
      "text/plain": [
       "array([[1, 3],\n",
       "       [4, 3],\n",
       "       [0, 0]])"
      ]
     },
     "execution_count": 18,
     "metadata": {},
     "output_type": "execute_result"
    }
   ],
   "source": [
    "np.random.randint(5, size=(3,2))"
   ]
  },
  {
   "cell_type": "markdown",
   "id": "636f6426-3479-424f-af55-97b7586f442a",
   "metadata": {},
   "source": [
    "# Random in NumPy used to generate coin flips\n",
    "\n",
    "Simulate 4 coins flips using the random function on Numpy [3]\n"
   ]
  },
  {
   "cell_type": "code",
   "execution_count": 19,
   "id": "aee57d68-28f4-4b7d-9c7a-e76d36ea6049",
   "metadata": {},
   "outputs": [
    {
     "data": {
      "text/plain": [
       "0.17977407699016323"
      ]
     },
     "execution_count": 19,
     "metadata": {},
     "output_type": "execute_result"
    }
   ],
   "source": [
    "np.random.random()\n",
    "#draw a number between 0 and 1 \n",
    "# A Bernouli Trial :In the theory of probability and statistics, a Bernoulli trial (or binomial trial) is a random experiment with \n",
    "#exactly two possible outcomes, \"success\" and \"failure\", in which the probability of success is the same every time the experiment is conducted."
   ]
  },
  {
   "cell_type": "code",
   "execution_count": 20,
   "id": "ac3b9699-6f38-40b7-b5d5-70b7508374a6",
   "metadata": {},
   "outputs": [
    {
     "data": {
      "text/plain": [
       "array([0.37454012, 0.95071431, 0.73199394, 0.59865848])"
      ]
     },
     "execution_count": 20,
     "metadata": {},
     "output_type": "execute_result"
    }
   ],
   "source": [
    "np.random.seed(42)\n",
    "random_numbers = np.random.random(size=4)\n",
    "random_numbers\n"
   ]
  },
  {
   "cell_type": "code",
   "execution_count": 21,
   "id": "0ee670d3-a73f-45a4-b834-5e1f34484974",
   "metadata": {},
   "outputs": [
    {
     "data": {
      "text/plain": [
       "array([ True, False, False, False])"
      ]
     },
     "execution_count": 21,
     "metadata": {},
     "output_type": "execute_result"
    }
   ],
   "source": [
    "heads = random_numbers < 0.5\n",
    "heads\n"
   ]
  },
  {
   "cell_type": "code",
   "execution_count": 22,
   "id": "6367d777-a9c7-46e1-9882-9467dde8a715",
   "metadata": {},
   "outputs": [
    {
     "data": {
      "text/plain": [
       "1"
      ]
     },
     "execution_count": 22,
     "metadata": {},
     "output_type": "execute_result"
    }
   ],
   "source": [
    "np.sum (heads)"
   ]
  },
  {
   "cell_type": "markdown",
   "id": "aaa19574-cfba-4da6-9127-e05208a58407",
   "metadata": {},
   "source": [
    "#### Using a for loop to repeat the four flips over and over again\n",
    "\n",
    "We need to initialize the number to zero and then do 10,000 repeats of the 4 flip trials "
   ]
  },
  {
   "cell_type": "code",
   "execution_count": 23,
   "id": "32cedc67-5fd8-482d-ba10-cd45fa2e41e3",
   "metadata": {},
   "outputs": [
    {
     "data": {
      "text/plain": [
       "0.0619"
      ]
     },
     "execution_count": 23,
     "metadata": {},
     "output_type": "execute_result"
    }
   ],
   "source": [
    "n_all_heads = 0\n",
    "for _ in range (10000):\n",
    "    heads =np.random.random(size=4) < 0.5\n",
    "    n_heads = np.sum(heads)\n",
    "    if n_heads == 4:\n",
    "        n_all_heads += 1\n",
    "        \n",
    "n_all_heads / 10000\n",
    "\n",
    "# probability of getting all four heads in all flips"
   ]
  },
  {
   "cell_type": "code",
   "execution_count": 24,
   "id": "94bee71d-4ccb-4bb7-9735-926de184fc40",
   "metadata": {},
   "outputs": [
    {
     "data": {
      "text/plain": [
       "array([0.20365333, 0.24226181, 0.25546003, 0.45571635, 0.50957319])"
      ]
     },
     "execution_count": 24,
     "metadata": {},
     "output_type": "execute_result"
    }
   ],
   "source": [
    "np.random.ranf(5)"
   ]
  },
  {
   "cell_type": "code",
   "execution_count": 25,
   "id": "14b837d4-0e0a-4ca9-bc66-a96ed0c2dad8",
   "metadata": {},
   "outputs": [
    {
     "data": {
      "text/plain": [
       "array([1, 6, 5, 5, 3, 9, 8, 5, 7, 7, 3, 4, 1, 3, 5, 1, 1, 9, 6, 9])"
      ]
     },
     "execution_count": 25,
     "metadata": {},
     "output_type": "execute_result"
    }
   ],
   "source": [
    "np.random.randint(10, size = 20)"
   ]
  },
  {
   "cell_type": "code",
   "execution_count": 26,
   "id": "aa8ef72d-0c6e-46cc-88d4-9dfd8b6ef2bc",
   "metadata": {},
   "outputs": [
    {
     "data": {
      "text/plain": [
       "array([4, 4])"
      ]
     },
     "execution_count": 26,
     "metadata": {},
     "output_type": "execute_result"
    }
   ],
   "source": [
    "np.random.randint(5, size =  2)"
   ]
  },
  {
   "cell_type": "markdown",
   "id": "a5e8ea06-aae1-474b-9b50-afae50931873",
   "metadata": {},
   "source": [
    "#### Permutation Functions in NumPy:\n",
    "\n",
    "A permutation refers to an arrangement of elements. e.g. [3, 2, 1] is a permutation of [1, 2, 3] and vice-versa.\n",
    "\n",
    "The NumPy Random module provides two methods for this: shuffle() and permutation().[4]\n"
   ]
  },
  {
   "cell_type": "code",
   "execution_count": 27,
   "id": "97590ce3-6283-4f87-900b-36e41422bf90",
   "metadata": {},
   "outputs": [
    {
     "data": {
      "text/plain": [
       "array([7, 4, 5, 0, 1, 3, 8, 6, 9, 2])"
      ]
     },
     "execution_count": 27,
     "metadata": {},
     "output_type": "execute_result"
    }
   ],
   "source": [
    "np.random.permutation(10)"
   ]
  },
  {
   "cell_type": "code",
   "execution_count": 28,
   "id": "78d1b6ff-bd6a-4780-b541-9138cb4db01a",
   "metadata": {},
   "outputs": [
    {
     "data": {
      "text/plain": [
       "array([ 1, 12, 15,  4,  9])"
      ]
     },
     "execution_count": 28,
     "metadata": {},
     "output_type": "execute_result"
    }
   ],
   "source": [
    "np.random.permutation([1, 4, 9, 12, 15])"
   ]
  },
  {
   "cell_type": "code",
   "execution_count": 29,
   "id": "62f68122-5c45-4c34-80f9-aa17d6b51805",
   "metadata": {},
   "outputs": [
    {
     "data": {
      "text/plain": [
       "array([[3, 4, 5],\n",
       "       [6, 7, 8],\n",
       "       [0, 1, 2]])"
      ]
     },
     "execution_count": 29,
     "metadata": {},
     "output_type": "execute_result"
    }
   ],
   "source": [
    "arr = np.arange(9).reshape((3, 3))\n",
    "np.random.permutation(arr)"
   ]
  },
  {
   "cell_type": "markdown",
   "id": "6b2dfc9e-b490-457d-a953-f1b077db5ab8",
   "metadata": {},
   "source": [
    "## Backround Information on NumPy\n",
    "\n"
   ]
  },
  {
   "cell_type": "code",
   "execution_count": 30,
   "id": "6c026265-42e6-4ef0-a73d-02ac1cf3cb39",
   "metadata": {},
   "outputs": [],
   "source": [
    "a = np.array([1,2,3,4,5])"
   ]
  },
  {
   "cell_type": "code",
   "execution_count": 31,
   "id": "37597e1e-f305-42c9-980c-99ca2078cea1",
   "metadata": {},
   "outputs": [
    {
     "data": {
      "text/plain": [
       "numpy.ndarray"
      ]
     },
     "execution_count": 31,
     "metadata": {},
     "output_type": "execute_result"
    }
   ],
   "source": [
    "# what kind of array is this?. This is a numpy nd array which means n-dimentional or one dimentional \n",
    "type(a)"
   ]
  },
  {
   "cell_type": "code",
   "execution_count": 32,
   "id": "e443e273-08a1-4059-aa9c-8a9e15d17492",
   "metadata": {},
   "outputs": [
    {
     "data": {
      "text/plain": [
       "dtype('int32')"
      ]
     },
     "execution_count": 32,
     "metadata": {},
     "output_type": "execute_result"
    }
   ],
   "source": [
    "# what kind of data type is this. Int stands for intergers so 1,2,3,4 etc and 32 bit intergers \n",
    "a.dtype"
   ]
  },
  {
   "cell_type": "code",
   "execution_count": 49,
   "id": "2a5c07b9-b2c0-436c-bcf7-85f30a68fcdf",
   "metadata": {},
   "outputs": [],
   "source": [
    "a = a.astype('int64')\n",
    "# I want to change the array dtype because my f array is a 64 bit array. "
   ]
  },
  {
   "cell_type": "code",
   "execution_count": 52,
   "id": "e5ea2e46-a1c9-494c-9608-bcf9dc4a90a7",
   "metadata": {},
   "outputs": [],
   "source": [
    "f = np.array([1.2,3.2,2.2,3.6,6.3])"
   ]
  },
  {
   "cell_type": "code",
   "execution_count": 34,
   "id": "44307ff7-bcd1-4d2f-9c90-9dcc7b168197",
   "metadata": {},
   "outputs": [
    {
     "data": {
      "text/plain": [
       "dtype('float64')"
      ]
     },
     "execution_count": 34,
     "metadata": {},
     "output_type": "execute_result"
    }
   ],
   "source": [
    "# data type here is a floating point because its a decimal point/fractional numbers and the 64 is a 64 bit object\n",
    "f.dtype"
   ]
  },
  {
   "cell_type": "code",
   "execution_count": 35,
   "id": "4145c911-bb52-4538-9aaf-b617a56d136c",
   "metadata": {},
   "outputs": [
    {
     "data": {
      "text/plain": [
       "array([1, 2, 3, 4, 5])"
      ]
     },
     "execution_count": 35,
     "metadata": {},
     "output_type": "execute_result"
    }
   ],
   "source": [
    "a\n",
    "# this array is a sequence "
   ]
  },
  {
   "cell_type": "code",
   "execution_count": 36,
   "id": "86184045-bb45-4c10-81df-dbc68bae4b1e",
   "metadata": {},
   "outputs": [
    {
     "data": {
      "text/plain": [
       "1"
      ]
     },
     "execution_count": 36,
     "metadata": {},
     "output_type": "execute_result"
    }
   ],
   "source": [
    "a[0]\n",
    "# we can access a number at any given position in the sequence "
   ]
  },
  {
   "cell_type": "code",
   "execution_count": 37,
   "id": "dc85d0d2-4f66-4b84-9b6e-23344e5bbf2c",
   "metadata": {},
   "outputs": [],
   "source": [
    "a[0]=10\n",
    "# we can change any number in the sequence"
   ]
  },
  {
   "cell_type": "code",
   "execution_count": 38,
   "id": "ede761b4-5f07-4564-8f93-a2a809d8565f",
   "metadata": {},
   "outputs": [
    {
     "data": {
      "text/plain": [
       "array([10,  2,  3,  4,  5])"
      ]
     },
     "execution_count": 38,
     "metadata": {},
     "output_type": "execute_result"
    }
   ],
   "source": [
    "a"
   ]
  },
  {
   "cell_type": "code",
   "execution_count": 39,
   "id": "04a6371f-d002-4275-95c8-e75e04450684",
   "metadata": {},
   "outputs": [],
   "source": [
    "a[0]=11.5\n",
    "# try to assign 11.5 but the data has to be of the same type in the array so we will get 11 as a result instead of a floating point number which would be 11.5"
   ]
  },
  {
   "cell_type": "code",
   "execution_count": 40,
   "id": "02c83b5f-7474-4f37-a864-15aa1b183e61",
   "metadata": {},
   "outputs": [
    {
     "data": {
      "text/plain": [
       "array([11,  2,  3,  4,  5])"
      ]
     },
     "execution_count": 40,
     "metadata": {},
     "output_type": "execute_result"
    }
   ],
   "source": [
    "a"
   ]
  },
  {
   "cell_type": "code",
   "execution_count": 41,
   "id": "b3509cad-a46f-438f-8099-1703b2522f29",
   "metadata": {},
   "outputs": [
    {
     "data": {
      "text/plain": [
       "1"
      ]
     },
     "execution_count": 41,
     "metadata": {},
     "output_type": "execute_result"
    }
   ],
   "source": [
    "a.ndim\n",
    "# number of dimensions. this array is a one-dimension array"
   ]
  },
  {
   "cell_type": "code",
   "execution_count": 42,
   "id": "7dfde291-0b9b-4ec4-99af-4d14ac75be03",
   "metadata": {},
   "outputs": [
    {
     "data": {
      "text/plain": [
       "(5,)"
      ]
     },
     "execution_count": 42,
     "metadata": {},
     "output_type": "execute_result"
    }
   ],
   "source": [
    "a.shape\n",
    "# the shape is a very imp attribute one as it drives the behaviour of the array. the shape is always a tuple that showsthe number of elements along the dimensions. As can be seen\n",
    "# below the a array has 1 tuple with 4 elements"
   ]
  },
  {
   "cell_type": "code",
   "execution_count": 43,
   "id": "f703a526-0e9c-43ce-9c3b-35d810957c10",
   "metadata": {},
   "outputs": [
    {
     "data": {
      "text/plain": [
       "5"
      ]
     },
     "execution_count": 43,
     "metadata": {},
     "output_type": "execute_result"
    }
   ],
   "source": [
    "a.size\n",
    "# size is always an integer  and shows only the total number of elements. Does not show the shape"
   ]
  },
  {
   "cell_type": "code",
   "execution_count": 46,
   "id": "dc511ef3-40b2-4e90-a917-a8859abf0678",
   "metadata": {},
   "outputs": [],
   "source": [
    " c = np.array ([2,4,7,8,9])"
   ]
  },
  {
   "cell_type": "code",
   "execution_count": 48,
   "id": "f8c6056b-3b1a-463e-a29d-68ed067bb4de",
   "metadata": {},
   "outputs": [
    {
     "data": {
      "text/plain": [
       "dtype('int32')"
      ]
     },
     "execution_count": 48,
     "metadata": {},
     "output_type": "execute_result"
    }
   ],
   "source": [
    "c.dtype"
   ]
  },
  {
   "cell_type": "code",
   "execution_count": 50,
   "id": "b5860503-718b-48b6-a0cf-38f6acb5ff12",
   "metadata": {},
   "outputs": [
    {
     "ename": "ValueError",
     "evalue": "operands could not be broadcast together with shapes (5,) (4,) ",
     "output_type": "error",
     "traceback": [
      "\u001b[1;31m---------------------------------------------------------------------------\u001b[0m",
      "\u001b[1;31mValueError\u001b[0m                                Traceback (most recent call last)",
      "\u001b[1;32m<ipython-input-50-d86107eb4b16>\u001b[0m in \u001b[0;36m<module>\u001b[1;34m\u001b[0m\n\u001b[1;32m----> 1\u001b[1;33m \u001b[0ma\u001b[0m\u001b[1;33m+\u001b[0m\u001b[0mf\u001b[0m\u001b[1;33m\u001b[0m\u001b[1;33m\u001b[0m\u001b[0m\n\u001b[0m",
      "\u001b[1;31mValueError\u001b[0m: operands could not be broadcast together with shapes (5,) (4,) "
     ]
    }
   ],
   "source": [
    "a+f\n",
    "\n",
    "#---------------------------------------------------------------------------\n",
    "#ValueError                                Traceback (most recent call last)\n",
    "#<ipython-input-50-d86107eb4b16> in <module>\n",
    "#----> 1 a+f\n",
    "\n",
    "#ValueError: operands could not be broadcast together with shapes (5,) (4,) \n",
    "# my two arrays won't add because they have two different shapes. One has a tuple with 5 elements and the other has a tuple with 4 elements. \n",
    "# Element number must need to be equal to add the arrays together\n"
   ]
  },
  {
   "cell_type": "code",
   "execution_count": 53,
   "id": "80dffde3-6d2e-46aa-8b22-55d4b0d35303",
   "metadata": {},
   "outputs": [
    {
     "data": {
      "text/plain": [
       "array([12.2,  5.2,  5.2,  7.6, 11.3])"
      ]
     },
     "execution_count": 53,
     "metadata": {},
     "output_type": "execute_result"
    }
   ],
   "source": [
    "a+f\n",
    "# after fixing the element number on the f array we can add the arrays together "
   ]
  },
  {
   "cell_type": "code",
   "execution_count": null,
   "id": "b6546f58-601a-4774-9dd8-2781588fc8dc",
   "metadata": {},
   "outputs": [],
   "source": []
  },
  {
   "cell_type": "code",
   "execution_count": null,
   "id": "ddbc162e-78fd-4055-a865-5ac5cf14532b",
   "metadata": {},
   "outputs": [],
   "source": []
  },
  {
   "cell_type": "code",
   "execution_count": null,
   "id": "92e5ac90-9e0b-41f2-915d-6da48d33e4cc",
   "metadata": {},
   "outputs": [],
   "source": []
  },
  {
   "cell_type": "code",
   "execution_count": null,
   "id": "8e24d7cc-2be0-46dc-a71f-e4e61f7e310b",
   "metadata": {},
   "outputs": [],
   "source": []
  },
  {
   "cell_type": "code",
   "execution_count": null,
   "id": "426dc9f3-bfeb-4fab-b0aa-1609fea768dc",
   "metadata": {},
   "outputs": [],
   "source": []
  },
  {
   "cell_type": "markdown",
   "id": "bdd320b4-80ce-4fee-9855-34197e820c5e",
   "metadata": {},
   "source": [
    "### References:\n",
    "[1](https://numpy.org/devdocs/user/whatisnumpy.html)\n",
    "[2](https://numpy.org/doc/stable/reference/random/generated/numpy.random.Generator.shuffle.html)\n",
    "[3](https://www.datacamp.com/community/tutorials/numpy-random)\n",
    "[4](https://www.w3schools.com/python/numpy/numpy_random_permutation.asp)"
   ]
  },
  {
   "cell_type": "code",
   "execution_count": null,
   "id": "d8b5c402-fef5-40be-90ed-30d4c20b96ae",
   "metadata": {},
   "outputs": [],
   "source": []
  }
 ],
 "metadata": {
  "kernelspec": {
   "display_name": "Python 3",
   "language": "python",
   "name": "python3"
  },
  "language_info": {
   "codemirror_mode": {
    "name": "ipython",
    "version": 3
   },
   "file_extension": ".py",
   "mimetype": "text/x-python",
   "name": "python",
   "nbconvert_exporter": "python",
   "pygments_lexer": "ipython3",
   "version": "3.8.8"
  }
 },
 "nbformat": 4,
 "nbformat_minor": 5
}
