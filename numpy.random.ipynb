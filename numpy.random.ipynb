{
 "cells": [
  {
   "cell_type": "markdown",
   "id": "65341e4e-d15c-4339-b79d-54a38b2edf98",
   "metadata": {},
   "source": [
    "# The numpy.random package"
   ]
  },
  {
   "cell_type": "markdown",
   "id": "a3968f53-7ee3-4c3e-992a-63f336ac6caf",
   "metadata": {},
   "source": [
    "## Overall purpose of the numpy.random package \n",
    "\n",
    "NumPy is the fundamental package for scientific computing in Python. It is a Python library that provides a multidimensional array object, various derived objects (such as masked arrays and matrices), and an assortment of routines for fast operations on arrays, including mathematical, logical, shape manipulation, sorting, selecting, I/O, discrete Fourier transforms, basic linear algebra, basic statistical operations, random simulation and much more.\n",
    "\n",
    "NumPy (Numerical Python) is an open source Python library that’s used in almost every field of science and engineering. It’s the universal standard for working with numerical data in Python, and it’s at the core of the scientific Python and PyData ecosystems. NumPy users include everyone from beginning coders to experienced researchers doing state-of-the-art scientific and industrial research and development. The NumPy API is used extensively in Pandas, SciPy, Matplotlib, scikit-learn, scikit-image and most other data science and scientific Python packages.\n",
    "\n",
    "The NumPy library contains multidimensional array and matrix data structures. It provides ndarray, a homogeneous n-dimensional array object, with methods to efficiently operate on it. NumPy can be used to perform a wide variety of mathematical operations on arrays. It adds powerful data structures to Python that guarantee efficient calculations with arrays and matrices and it supplies an enormous library of high-level mathematical functions that operate on these arrays and matrices.[1]\n",
    "\n",
    "Numpy random function is a module inside the numpy library. Random number does NOT mean a different number every time. Random means something that can not be predicted logically.Computers work on programs, and programs are definitive set of instructions. So it means there must be some algorithm to generate a random number as well.\n",
    "\n",
    "If there is a program to generate random number it can be predicted, thus it is not truly random.\n",
    "\n",
    "Random numbers generated through a generation algorithm are called pseudo random.\n",
    "\n"
   ]
  },
  {
   "cell_type": "markdown",
   "id": "37e07d03-c604-4023-96cb-cb5582c421a6",
   "metadata": {},
   "source": [
    "## Simple Random Data using the numPY package:"
   ]
  },
  {
   "cell_type": "markdown",
   "id": "33976a17-746e-4ab9-8b56-dd2078c2babf",
   "metadata": {},
   "source": [
    "Numpy’s random number routines produce pseudo random numbers using combinations of a BitGenerator to create sequences and a Generator to use those sequences to sample from different statistical distributions.\n",
    "\n",
    "Generators are defined on the Numpy random package API as Objects that transform sequences of random bits from a BitGenerator into sequences of numbers that follow a specific probability distribution (such as uniform, Normal or Binomial) within a specified interval.(6)\n",
    "\n",
    "In recent months the numpy random package has made a change to their package in regards the random number genertor (RNG) and the way that seeds are generated. Previously the pseudorandom number generator used in the numpy random package was the Mersenne Twister(MT19937) algorithm.  This algorithm has been updated to use bits provided by the PCG64 (Permuted Congruential Generator) Algorithm.\n",
    "\n",
    "\n",
    "By default, Generator uses bits provided by PCG64 which has better statistical properties than the legacy Mersenne Twister MT19937 used in RandomState."
   ]
  },
  {
   "cell_type": "code",
   "execution_count": 1,
   "id": "a51cd944-844e-4b32-87e6-619bd4fd9b10",
   "metadata": {},
   "outputs": [],
   "source": [
    "from numpy.random import default_rng\n",
    "rng = default_rng()\n",
    "vals = rng.standard_normal(10)\n",
    "more_vals = rng.standard_normal(10)"
   ]
  },
  {
   "cell_type": "code",
   "execution_count": 2,
   "id": "0696c619-dbaa-490c-8478-e1d2358c651a",
   "metadata": {},
   "outputs": [
    {
     "data": {
      "text/plain": [
       "array([-1.0076272 ,  0.15316429, -0.55258421,  0.22791734, -0.48414114,\n",
       "       -2.64195896, -0.24148948,  1.3904275 ,  0.68540202, -1.0780145 ])"
      ]
     },
     "execution_count": 2,
     "metadata": {},
     "output_type": "execute_result"
    }
   ],
   "source": [
    "more_vals"
   ]
  },
  {
   "cell_type": "code",
   "execution_count": 3,
   "id": "3b875f21-17a7-4736-a2ba-268fd4523f89",
   "metadata": {},
   "outputs": [
    {
     "data": {
      "text/plain": [
       "array([-0.5000668 , -0.28199549, -1.15806241, -0.41983862, -0.7419594 ,\n",
       "        0.46202026, -0.77006247,  0.58252747,  0.34990735, -0.40507403])"
      ]
     },
     "execution_count": 3,
     "metadata": {},
     "output_type": "execute_result"
    }
   ],
   "source": [
    "vals"
   ]
  },
  {
   "cell_type": "code",
   "execution_count": 4,
   "id": "71777830-1b52-49b9-a3f5-b9766bea38d5",
   "metadata": {},
   "outputs": [
    {
     "data": {
      "text/plain": [
       "['BitGenerator',\n",
       " 'Generator',\n",
       " 'MT19937',\n",
       " 'PCG64',\n",
       " 'Philox',\n",
       " 'RandomState',\n",
       " 'SFC64',\n",
       " 'SeedSequence',\n",
       " '__RandomState_ctor',\n",
       " '__all__',\n",
       " '__builtins__',\n",
       " '__cached__',\n",
       " '__doc__',\n",
       " '__file__',\n",
       " '__loader__',\n",
       " '__name__',\n",
       " '__package__',\n",
       " '__path__',\n",
       " '__spec__',\n",
       " '_bounded_integers',\n",
       " '_common',\n",
       " '_generator',\n",
       " '_mt19937',\n",
       " '_pcg64',\n",
       " '_philox',\n",
       " '_pickle',\n",
       " '_sfc64',\n",
       " 'beta',\n",
       " 'binomial',\n",
       " 'bit_generator',\n",
       " 'bytes',\n",
       " 'chisquare',\n",
       " 'choice',\n",
       " 'default_rng',\n",
       " 'dirichlet',\n",
       " 'exponential',\n",
       " 'f',\n",
       " 'gamma',\n",
       " 'geometric',\n",
       " 'get_state',\n",
       " 'gumbel',\n",
       " 'hypergeometric',\n",
       " 'laplace',\n",
       " 'logistic',\n",
       " 'lognormal',\n",
       " 'logseries',\n",
       " 'mtrand',\n",
       " 'multinomial',\n",
       " 'multivariate_normal',\n",
       " 'negative_binomial',\n",
       " 'noncentral_chisquare',\n",
       " 'noncentral_f',\n",
       " 'normal',\n",
       " 'pareto',\n",
       " 'permutation',\n",
       " 'poisson',\n",
       " 'power',\n",
       " 'rand',\n",
       " 'randint',\n",
       " 'randn',\n",
       " 'random',\n",
       " 'random_integers',\n",
       " 'random_sample',\n",
       " 'ranf',\n",
       " 'rayleigh',\n",
       " 'sample',\n",
       " 'seed',\n",
       " 'set_state',\n",
       " 'shuffle',\n",
       " 'standard_cauchy',\n",
       " 'standard_exponential',\n",
       " 'standard_gamma',\n",
       " 'standard_normal',\n",
       " 'standard_t',\n",
       " 'test',\n",
       " 'triangular',\n",
       " 'uniform',\n",
       " 'vonmises',\n",
       " 'wald',\n",
       " 'weibull',\n",
       " 'zipf']"
      ]
     },
     "execution_count": 4,
     "metadata": {},
     "output_type": "execute_result"
    }
   ],
   "source": [
    "import numpy as np\n",
    "from numpy import random\n",
    "dir(random) # directory of all methods available in the random package of numpy"
   ]
  },
  {
   "cell_type": "markdown",
   "id": "e2e8bf6f-ad07-4365-a7b7-f76930182bb3",
   "metadata": {},
   "source": [
    "# Simple random data function on numPY\n",
    "\n",
    "https://numpy.org/devdocs/reference/random/generator.html\n",
    "\n",
    "https://www.bing.com/videos/search?q=numpy+random+package&&vail&mid=1FC33C069205576E13F61FC33C069205576E13F6&iew=detrvsmid=809DCC1B5D2289AD8843809DCC1B5D2289AD8843&FORM=VDRVRV\n",
    "\n",
    "https://www.youtube.com/watch?v=zWL3z7NMqAs&list=PLi01XoE8jYohWFPpC17Z-wWhPOSuh8Er-&index=19\n",
    "\n",
    "The simple random data function in the numpy API refererence material lists out 4 methods. \n"
   ]
  },
  {
   "cell_type": "markdown",
   "id": "6965c8cc-8481-47a7-a232-54b2a64d0d9e",
   "metadata": {},
   "source": [
    "## Simple Random Data Method 1- Random Integers\n",
    "The first method is the numpy.random.Generator. integers. This method will return random integers from the discrete uniform distribution of the specified dtype.\n",
    "In previous documentation the numpy user would have used the code random.randint to generate this data but in the updated version we are using rng.integers"
   ]
  },
  {
   "cell_type": "code",
   "execution_count": 5,
   "id": "3178c3d4-4fee-4088-8ce1-f721e61f0137",
   "metadata": {},
   "outputs": [
    {
     "data": {
      "text/plain": [
       "array([3, 3, 3, 1, 1, 0, 2, 1, 1, 3, 0, 0, 2, 2, 1, 3, 3, 1, 0, 0],\n",
       "      dtype=int64)"
      ]
     },
     "execution_count": 5,
     "metadata": {},
     "output_type": "execute_result"
    }
   ],
   "source": [
    "# Begin with importing the libraries and modules we require for using numpy on this jupyter notebook\n",
    "import numpy as np\n",
    "from numpy import random\n",
    "\n",
    "\n",
    "# Plotting.\n",
    "import matplotlib.pyplot as plt\n",
    "\n",
    "# Numpy Random Generator intergers\n",
    "rng = np.random.default_rng() # this will ensure the default generator (PCG64) is being used to generate the numbers\n",
    "rng.integers(4, size=20) # if I use shift+tab here i can get a docstring to show what I need to pass into the function\n",
    "# this will create a random array with numbers up to but not including 4 and the size = 20 random numbers "
   ]
  },
  {
   "cell_type": "code",
   "execution_count": 6,
   "id": "f552b223-8a55-414d-a99e-cfb8b4fd2fb2",
   "metadata": {},
   "outputs": [
    {
     "data": {
      "text/plain": [
       "array([[1, 2, 3, 6, 0],\n",
       "       [0, 0, 1, 3, 0],\n",
       "       [2, 5, 3, 4, 1]], dtype=int64)"
      ]
     },
     "execution_count": 6,
     "metadata": {},
     "output_type": "execute_result"
    }
   ],
   "source": [
    "# generate a 3 x 5 array of integers between 0 and 6 inclusive:\n",
    "rng.integers(7, size = (3,5))  # 3 is the number of rows 5 is the number of colums"
   ]
  },
  {
   "cell_type": "code",
   "execution_count": 7,
   "id": "753d09f0-0ad3-4c36-af81-60c74301e975",
   "metadata": {},
   "outputs": [
    {
     "data": {
      "text/plain": [
       "array([ 4, 11, 38,  1, 17,  1], dtype=int64)"
      ]
     },
     "execution_count": 7,
     "metadata": {},
     "output_type": "execute_result"
    }
   ],
   "source": [
    "# generate a 1 x 6 array with 6 upper bounds\n",
    "rng.integers (1, [7,12,43,4,23,13])"
   ]
  },
  {
   "cell_type": "code",
   "execution_count": 8,
   "id": "fcf74dd1-95c7-4faa-a385-616adc9b7da2",
   "metadata": {},
   "outputs": [
    {
     "data": {
      "text/plain": [
       "array([[ 7,  8,  9,  9],\n",
       "       [13, 10, 15, 16]], dtype=uint8)"
      ]
     },
     "execution_count": 8,
     "metadata": {},
     "output_type": "execute_result"
    }
   ],
   "source": [
    "# Generate a 2 by 4 array using broadcasting with dtype of uint8\n",
    "rng.integers([5, 7, 9, 8], [[10], [20]], dtype=np.uint8)"
   ]
  },
  {
   "cell_type": "code",
   "execution_count": 9,
   "id": "f8b324c3-9af4-4732-9e8a-b7f79b2b24aa",
   "metadata": {},
   "outputs": [
    {
     "data": {
      "text/plain": [
       "array([ 0, 75, 51, 96,  0, 58, 56, 98, 14, 91], dtype=int64)"
      ]
     },
     "execution_count": 9,
     "metadata": {},
     "output_type": "execute_result"
    }
   ],
   "source": [
    "rng.integers(100, size= 10 ,endpoint=True)"
   ]
  },
  {
   "cell_type": "code",
   "execution_count": 10,
   "id": "1b7227d0-8f3f-43cc-9cc0-e2e730670c47",
   "metadata": {},
   "outputs": [
    {
     "data": {
      "text/plain": [
       "array([[41, 40, 69, 73, 66],\n",
       "       [51, 26, 43, 78, 58],\n",
       "       [24, 58, 79, 93, 42],\n",
       "       [86, 79, 72, 17, 94],\n",
       "       [38,  1, 68, 69, 49]], dtype=int64)"
      ]
     },
     "execution_count": 10,
     "metadata": {},
     "output_type": "execute_result"
    }
   ],
   "source": [
    "rng.integers(100, size = (5,5))"
   ]
  },
  {
   "cell_type": "code",
   "execution_count": 11,
   "id": "852cbbe5-c292-4453-b25c-a626c5681d3d",
   "metadata": {},
   "outputs": [
    {
     "data": {
      "text/plain": [
       "array([[[35, 33],\n",
       "        [44, 36],\n",
       "        [48, 21],\n",
       "        [19, 51],\n",
       "        [40, 32]],\n",
       "\n",
       "       [[47, 43],\n",
       "        [41,  9],\n",
       "        [21,  1],\n",
       "        [27, 42],\n",
       "        [ 4, 46]],\n",
       "\n",
       "       [[52, 27],\n",
       "        [37, 12],\n",
       "        [17, 23],\n",
       "        [ 3, 26],\n",
       "        [49, 53]]], dtype=int64)"
      ]
     },
     "execution_count": 11,
     "metadata": {},
     "output_type": "execute_result"
    }
   ],
   "source": [
    "rng.integers (55, size =(3,5,2))# the number 3 here will denote the amount of arrays I want to generate, 5 ows and 2 columns"
   ]
  },
  {
   "cell_type": "code",
   "execution_count": 12,
   "id": "6d584462-48c0-428c-b623-4c79cf9397d4",
   "metadata": {},
   "outputs": [
    {
     "data": {
      "text/plain": [
       "(array([[0., 1., 1., 0., 0., 0., 1., 1., 2., 4.],\n",
       "        [0., 1., 0., 2., 0., 2., 2., 0., 1., 2.],\n",
       "        [1., 2., 1., 0., 2., 0., 0., 4., 0., 0.],\n",
       "        [2., 1., 1., 0., 3., 0., 3., 0., 0., 0.],\n",
       "        [0., 0., 0., 1., 2., 2., 2., 1., 1., 1.],\n",
       "        [0., 0., 4., 4., 0., 1., 0., 0., 1., 0.],\n",
       "        [1., 1., 0., 1., 0., 2., 0., 2., 2., 1.],\n",
       "        [1., 1., 1., 1., 0., 3., 0., 0., 1., 2.],\n",
       "        [2., 0., 0., 0., 0., 2., 0., 6., 0., 0.],\n",
       "        [1., 0., 0., 3., 1., 0., 3., 0., 1., 1.]]),\n",
       " array([  0. ,  98.1, 196.2, 294.3, 392.4, 490.5, 588.6, 686.7, 784.8,\n",
       "        882.9, 981. ]),\n",
       " <a list of 10 BarContainer objects>)"
      ]
     },
     "execution_count": 12,
     "metadata": {},
     "output_type": "execute_result"
    },
    {
     "data": {
      "image/png": "[encoded data removed]",
      "text/plain": [
       "<Figure size 432x288 with 1 Axes>"
      ]
     },
     "metadata": {
      "needs_background": "light"
     },
     "output_type": "display_data"
    }
   ],
   "source": [
    "# lets visualise the random interger random function in numpy using the matplotlib\n",
    "x= rng.integers(1000, size = (10,10))\n",
    "plt.hist(x)"
   ]
  },
  {
   "cell_type": "code",
   "execution_count": null,
   "id": "983dde3c-a2f7-4706-aa25-6a2520367ef1",
   "metadata": {},
   "outputs": [],
   "source": []
  },
  {
   "cell_type": "markdown",
   "id": "0e17b2a6-c9d3-4bdb-9238-fc4909e3f345",
   "metadata": {},
   "source": [
    "## Simple Random Data Method 2- numpy.random.Generator.random\n",
    "Return random floats in the half-open interval [0.0, 1.0).\n",
    "\n",
    "In previous versions of Numpy the code used to generate random float numbers would have been random.rand()\n",
    "\n",
    "https://www.bing.com/videos/search?q=numpy.random.permutation&ru=%2fvideos%2fsearch%3fq%3dnumpy.random.permutation%26qs%3dOS%26form%3dQBVR%26sp%3d3%26pq%3dnumpy%2520random%2520permutation%26sk%3dHS2%26sc%3d5-24%26cvid%3dBFC1C4B64C6F46818C039948F4DFFE46&view=detail&mid=DA31CB36C9D383DD4465DA31CB36C9D383DD4465&&FORM=VDRVSR"
   ]
  },
  {
   "cell_type": "code",
   "execution_count": 13,
   "id": "c2815d45-2e95-42a2-9209-44516ab40e23",
   "metadata": {},
   "outputs": [
    {
     "data": {
      "text/plain": [
       "0.8840659804002102"
      ]
     },
     "execution_count": 13,
     "metadata": {},
     "output_type": "execute_result"
    }
   ],
   "source": [
    "rng.random() # will return a flaoting point number between 0-1"
   ]
  },
  {
   "cell_type": "code",
   "execution_count": 14,
   "id": "89366999-a5d6-4a14-9cd3-151fc5bc8200",
   "metadata": {},
   "outputs": [
    {
     "data": {
      "text/plain": [
       "array([0.14535568, 0.81283841, 0.54496116, 0.94356019, 0.29269441])"
      ]
     },
     "execution_count": 14,
     "metadata": {},
     "output_type": "execute_result"
    }
   ],
   "source": [
    "rng.random((5,)) # will return a random array with five floating point numbers"
   ]
  },
  {
   "cell_type": "code",
   "execution_count": 15,
   "id": "6c4625bf-303f-4bfb-ac8b-3eab4c89090f",
   "metadata": {},
   "outputs": [
    {
     "data": {
      "text/plain": [
       "array([[-8.50012512, -7.93326573],\n",
       "       [-6.44311299, -7.08465797],\n",
       "       [-4.37979623, -4.65107349]])"
      ]
     },
     "execution_count": 15,
     "metadata": {},
     "output_type": "execute_result"
    }
   ],
   "source": [
    "5*rng.random((3, 2)) - 9 #Three rows-by-two colums array of random numbers from [-9, 0):"
   ]
  },
  {
   "cell_type": "code",
   "execution_count": 16,
   "id": "f4313bcf-749f-43d7-ab0e-665bf83223f8",
   "metadata": {},
   "outputs": [
    {
     "data": {
      "text/plain": [
       "array([[0.13155951, 0.85265812],\n",
       "       [0.07684412, 0.31015813],\n",
       "       [0.16857138, 0.08745192]])"
      ]
     },
     "execution_count": 16,
     "metadata": {},
     "output_type": "execute_result"
    }
   ],
   "source": [
    "np.random.rand(3,2) # previous coding used with the MT19937 generator \n",
    "#https://github.com/Disha-Shivale/Numpy-RandomNumber/blob/main/Numpy%20-%20Random%20number.ipynb"
   ]
  },
  {
   "cell_type": "code",
   "execution_count": 17,
   "id": "adfb9712-c311-45ee-aa86-c296931782bb",
   "metadata": {},
   "outputs": [
    {
     "data": {
      "text/plain": [
       "array([[0.89803123, 0.60246403],\n",
       "       [0.8618255 , 0.85188187],\n",
       "       [0.11012655, 0.47678443]])"
      ]
     },
     "execution_count": 17,
     "metadata": {},
     "output_type": "execute_result"
    }
   ],
   "source": [
    "rng.random((3,2)) # new coding for a similiar array using the updated API reference material"
   ]
  },
  {
   "cell_type": "code",
   "execution_count": 18,
   "id": "65134d3f-812d-4a95-9bce-8ce43d5c747d",
   "metadata": {},
   "outputs": [
    {
     "name": "stdout",
     "output_type": "stream",
     "text": [
      "0.34945975925094475\n",
      "0.9312110616161363\n",
      "0.14338093566422783\n",
      "0.8002886600365685\n",
      "0.40797281972481014\n",
      "0.33289380033660676\n",
      "0.5524724631564077\n",
      "0.7789248019897974\n",
      "0.7522078365255831\n",
      "0.9761549021784343\n"
     ]
    }
   ],
   "source": [
    "# this will return a list\n",
    "for i in range (10):\n",
    "    print(rng.random())\n",
    "    "
   ]
  },
  {
   "cell_type": "code",
   "execution_count": 19,
   "id": "3537cda2-9b81-453d-ba6f-28be52f4494d",
   "metadata": {},
   "outputs": [
    {
     "data": {
      "text/plain": [
       "array([0.8024974 , 0.77997829, 0.70218873, 0.68755135, 0.55658606,\n",
       "       0.28702664, 0.23715017, 0.56978109, 0.10971998, 0.08877361])"
      ]
     },
     "execution_count": 19,
     "metadata": {},
     "output_type": "execute_result"
    }
   ],
   "source": [
    "rng.random(10)# returns an array"
   ]
  },
  {
   "cell_type": "code",
   "execution_count": 20,
   "id": "676feb94-b33f-41b2-bef8-c312de5e6946",
   "metadata": {},
   "outputs": [
    {
     "name": "stdout",
     "output_type": "stream",
     "text": [
      "Random Number = 0.09861657643659816\n"
     ]
    }
   ],
   "source": [
    "#https://codescracker.com/python/program/python-program-generate-random-numbers.htm\n",
    "randnum = rng.random()\n",
    "print(\"Random Number =\", randnum)"
   ]
  },
  {
   "cell_type": "code",
   "execution_count": 37,
   "id": "63b9ce36-f0a5-44d9-8b0f-b8e3980d079f",
   "metadata": {},
   "outputs": [
    {
     "name": "stdout",
     "output_type": "stream",
     "text": [
      "Enter the Range: \n"
     ]
    },
    {
     "name": "stdin",
     "output_type": "stream",
     "text": [
      " 1\n",
      " 4\n"
     ]
    },
    {
     "name": "stdout",
     "output_type": "stream",
     "text": [
      "\n",
      "Random Number = 1\n"
     ]
    }
   ],
   "source": [
    "print(\"Enter the Range: \")\n",
    "start = int(input())\n",
    "end = int(input())\n",
    "\n",
    "\n",
    "randnum = rng.integers(start, end)\n",
    "print(\"\\nRandom Number =\", randnum)"
   ]
  },
  {
   "cell_type": "code",
   "execution_count": null,
   "id": "5de67fa5-c053-452c-97a1-4aa2bafb22d2",
   "metadata": {},
   "outputs": [],
   "source": [
    "print(\"Enter the Range: \")\n",
    "try:\n",
    "  start = int(input())\n",
    "  try:\n",
    "    end = int(input())\n",
    "    randnum = rng.integers(start, end)\n",
    "    print(\"\\nRandom Number =\", randnum)\n",
    "  except ValueError:\n",
    "    print(\"\\nInvalid Input!\")\n",
    "except ValueError:\n",
    "  print(\"\\nInvalid Input!\")"
   ]
  },
  {
   "cell_type": "code",
   "execution_count": null,
   "id": "4e510b60-1b3a-492a-845f-9ef35c591d83",
   "metadata": {},
   "outputs": [],
   "source": [
    "print(\"Enter the Range (Interval): \")\n",
    "a = int(input())\n",
    "b = int(input())\n",
    "\n",
    "if a>b:\n",
    "  t = a\n",
    "  a = b\n",
    "  b = t\n",
    "\n",
    "print(\"\\nHow Many Random Numbers to Generate ? \")\n",
    "tot = int(input())\n",
    "\n",
    "randnums = []\n",
    "for i in range(tot):\n",
    "  randnums.append(rng.integers(a, b))\n",
    "\n",
    "print(\"\\nList of \" +str(tot)+ \" Random Numbers between \" +str(a)+ \" and \" +str(b))\n",
    "for i in range(tot):\n",
    "  print(randnums[i], end=\" \")\n",
    "print()"
   ]
  },
  {
   "cell_type": "code",
   "execution_count": 38,
   "id": "7aeed3cf-985a-4534-9498-d19b06301bec",
   "metadata": {},
   "outputs": [
    {
     "data": {
      "text/plain": [
       "[0.8988827884135723,\n",
       " 0.22834405662522173,\n",
       " 0.6458505782822153,\n",
       " 0.09582709933625155,\n",
       " 0.614141479435029]"
      ]
     },
     "execution_count": 38,
     "metadata": {},
     "output_type": "execute_result"
    }
   ],
   "source": [
    "#https://realpython.com/python-random/\n",
    "#One thing you might have noticed is that a majority of the functions from random return a \n",
    "#scalar value (a single int, float, or other object). If you wanted to generate a sequence of random numbers,\n",
    "#one way to achieve that would be with a Python list comprehension:\n",
    "\n",
    "[rng.random() for _ in range(5)]\n"
   ]
  },
  {
   "cell_type": "markdown",
   "id": "815e384e-f71e-48db-b5b7-94e7e67742cc",
   "metadata": {},
   "source": [
    "### Simple Random Data Method 3- Choice Method\n",
    "\n",
    "The NumPy random choice() function is used to gets the random samples of a one-dimensional array which returns as the random samples of NumPy array. The NumPy random choice() function is a built-in function in the NumPy package of python. The NumPy random choice() function generate random samples which are commonly used in data statistics, data analysis, data-related fields, and all and also can be used in probability, machine learning, Bayesian statistics, and all.\n",
    "\n",
    "https://www.educba.com/numpy-random-choice/\n",
    "https://www.codeleaks.io/numpy-random-choice-python/"
   ]
  },
  {
   "cell_type": "code",
   "execution_count": null,
   "id": "7df769aa-9eff-4842-b380-9ef73190d2ab",
   "metadata": {},
   "outputs": [],
   "source": [
    "#Generate a uniform random sample from np.arange(5) of size 3:\n",
    "rng.choice(5, 3)"
   ]
  },
  {
   "cell_type": "code",
   "execution_count": null,
   "id": "c78ab7f6-12f6-409f-b545-314ad0a062bd",
   "metadata": {},
   "outputs": [],
   "source": [
    "#Generate a non-uniform random sample from np.arange(5) of size 3:\n",
    "rng.choice(5, 3, p=[0.1, 0, 0.3, 0.6, 0])"
   ]
  },
  {
   "cell_type": "code",
   "execution_count": null,
   "id": "a8406ae5-edfb-4c08-a94f-0dce54395642",
   "metadata": {},
   "outputs": [],
   "source": [
    "list_movie = [ 'The Godfather', 'The Shawshank Redemption', 'The Wizard of Oz', 'Citizen Kane', 'Pulp Fiction' ] # Using choice() method of random class\n",
    "rng.choice( list_movie, size = 3, replace = False )"
   ]
  },
  {
   "cell_type": "code",
   "execution_count": null,
   "id": "d2c3350d-a5c6-4d8b-80cd-4ae98948340f",
   "metadata": {},
   "outputs": [],
   "source": [
    "colours = [\"green\", \"red\", \"yellow\",\"black\",\"orange\"]\n",
    "\n",
    "results = rng.choice (colours)\n",
    "\n",
    "results"
   ]
  },
  {
   "cell_type": "code",
   "execution_count": null,
   "id": "9e845cc9-727d-400e-b9a2-45a0f5ae45f2",
   "metadata": {},
   "outputs": [],
   "source": [
    "colours = [\"green\", \"red\", \"yellow\",\"black\",\"orange\"]\n",
    "#Setting user-specified probabilities through p uses a more general but less efficient sampler than the default. \n",
    "#The general sampler produces a different sample than the optimized sampler even if each element of p is 1 / len(a).\n",
    "rng.choice(colours, 5, p=[0.5, 0.1, 0.1, 0.2,0.1])\n"
   ]
  },
  {
   "cell_type": "code",
   "execution_count": null,
   "id": "311b4896-e4f6-4c94-b287-2856d6729036",
   "metadata": {},
   "outputs": [],
   "source": [
    "np.random.default_rng().bytes(200)"
   ]
  },
  {
   "cell_type": "code",
   "execution_count": null,
   "id": "c5d79786-4961-44f5-a912-8e37f728d050",
   "metadata": {},
   "outputs": [],
   "source": [
    "import os\n",
    "os.urandom(3)"
   ]
  },
  {
   "cell_type": "code",
   "execution_count": null,
   "id": "00e05001-b641-46ee-8adb-4d4eabca9470",
   "metadata": {},
   "outputs": [],
   "source": [
    "rng.random()"
   ]
  },
  {
   "cell_type": "code",
   "execution_count": null,
   "id": "9dd90586-44b5-46c6-95f0-bf5ec0a9f8d1",
   "metadata": {},
   "outputs": [],
   "source": [
    "type(rng.random())"
   ]
  },
  {
   "cell_type": "code",
   "execution_count": null,
   "id": "202217cb-8072-4a46-ad0b-91659305c057",
   "metadata": {},
   "outputs": [],
   "source": [
    "rng.random((5,))"
   ]
  },
  {
   "cell_type": "code",
   "execution_count": null,
   "id": "d2c7ce19-1c6b-4595-9363-fd77ce40f44d",
   "metadata": {},
   "outputs": [],
   "source": [
    "5 * rng.random((3, 2)) - 5\n",
    "#Three-by-two array of random numbers from [-5, 0):"
   ]
  },
  {
   "cell_type": "code",
   "execution_count": null,
   "id": "b6513b0e-3793-41a7-8261-00ba2fb291c9",
   "metadata": {},
   "outputs": [],
   "source": [
    "rng.choice(5, 3)\n",
    "##This is equivalent to rng.integers(0,5,3)\n",
    "#Generate a uniform random sample from np.arange(5) of size 3:"
   ]
  },
  {
   "cell_type": "code",
   "execution_count": null,
   "id": "a9d09ca1-9bba-43a7-afa0-d68b2e1d2677",
   "metadata": {},
   "outputs": [],
   "source": [
    "#Generate a non-uniform random sample from np.arange(5) of size 3:\n",
    "rng.choice(5, 3, p=[0.1, 0, 0.3, 0.6, 0])\n"
   ]
  },
  {
   "cell_type": "code",
   "execution_count": null,
   "id": "addbe995-3b89-4994-9297-2baa62778566",
   "metadata": {},
   "outputs": [],
   "source": [
    "#Generate a uniform random sample from np.arange(5) of size 3 without replacement:\n",
    "rng.choice(5, 3, replace=False)\n",
    "#This is equivalent to rng.permutation(np.arange(5))[:3]"
   ]
  },
  {
   "cell_type": "code",
   "execution_count": null,
   "id": "2a3222d2-2b0b-421e-84b0-8bf7a658b2f3",
   "metadata": {},
   "outputs": [],
   "source": [
    "#Generate a uniform random sample from a 2-D array along the first axis (the default), without replacement:\n",
    "rng.choice([[0, 1, 2], [3, 4, 5], [6, 7, 8]], 2, replace=False)"
   ]
  },
  {
   "cell_type": "code",
   "execution_count": null,
   "id": "c09beedd-a97f-4f1d-a0bc-ad29d8eab513",
   "metadata": {},
   "outputs": [],
   "source": [
    "names= ['pooh', 'rabbit', 'piglet', 'Peppa']\n",
    "rng.choice(names, 5, p=[0.5, 0.1, 0.1, 0.3])\n"
   ]
  },
  {
   "cell_type": "code",
   "execution_count": 22,
   "id": "aee57d68-28f4-4b7d-9c7a-e76d36ea6049",
   "metadata": {},
   "outputs": [
    {
     "data": {
      "text/plain": [
       "0.7999464687175106"
      ]
     },
     "execution_count": 22,
     "metadata": {},
     "output_type": "execute_result"
    }
   ],
   "source": [
    "rng.random()\n",
    "#draw a number between 0 and 1 \n",
    "# A Bernouli Trial :In the theory of probability and statistics, a Bernoulli trial (or binomial trial) is a random experiment with \n",
    "#exactly two possible outcomes, \"success\" and \"failure\", in which the probability of success is the same every time the experiment is conducted."
   ]
  },
  {
   "cell_type": "code",
   "execution_count": 39,
   "id": "ac3b9699-6f38-40b7-b5d5-70b7508374a6",
   "metadata": {},
   "outputs": [
    {
     "ename": "AttributeError",
     "evalue": "'builtin_function_or_method' object has no attribute 'seed'",
     "output_type": "error",
     "traceback": [
      "\u001b[1;31m---------------------------------------------------------------------------\u001b[0m",
      "\u001b[1;31mAttributeError\u001b[0m                            Traceback (most recent call last)",
      "\u001b[1;32m<ipython-input-39-272c2ff17e38>\u001b[0m in \u001b[0;36m<module>\u001b[1;34m\u001b[0m\n\u001b[1;32m----> 1\u001b[1;33m \u001b[0mrng\u001b[0m\u001b[1;33m.\u001b[0m\u001b[0mrandom\u001b[0m\u001b[1;33m.\u001b[0m\u001b[0mseed\u001b[0m\u001b[1;33m(\u001b[0m\u001b[1;36m42\u001b[0m\u001b[1;33m)\u001b[0m\u001b[1;33m\u001b[0m\u001b[1;33m\u001b[0m\u001b[0m\n\u001b[0m\u001b[0;32m      2\u001b[0m \u001b[0mrandom_numbers\u001b[0m \u001b[1;33m=\u001b[0m \u001b[0mrng\u001b[0m\u001b[1;33m.\u001b[0m\u001b[0mrandom\u001b[0m\u001b[1;33m(\u001b[0m\u001b[0msize\u001b[0m\u001b[1;33m=\u001b[0m\u001b[1;36m4\u001b[0m\u001b[1;33m)\u001b[0m\u001b[1;33m\u001b[0m\u001b[1;33m\u001b[0m\u001b[0m\n\u001b[0;32m      3\u001b[0m \u001b[0mrandom_numbers\u001b[0m\u001b[1;33m\u001b[0m\u001b[1;33m\u001b[0m\u001b[0m\n",
      "\u001b[1;31mAttributeError\u001b[0m: 'builtin_function_or_method' object has no attribute 'seed'"
     ]
    }
   ],
   "source": [
    "rng.random.seed(42)\n",
    "random_numbers = rng.random(size=4)\n",
    "random_numbers\n"
   ]
  },
  {
   "cell_type": "code",
   "execution_count": null,
   "id": "0ee670d3-a73f-45a4-b834-5e1f34484974",
   "metadata": {},
   "outputs": [],
   "source": [
    "heads = random_numbers < 0.5\n",
    "heads\n"
   ]
  },
  {
   "cell_type": "code",
   "execution_count": null,
   "id": "6367d777-a9c7-46e1-9882-9467dde8a715",
   "metadata": {},
   "outputs": [],
   "source": [
    "np.sum (heads)"
   ]
  },
  {
   "cell_type": "markdown",
   "id": "aaa19574-cfba-4da6-9127-e05208a58407",
   "metadata": {},
   "source": [
    "#### Using a for loop to repeat the four flips over and over again\n",
    "\n",
    "We need to initialize the number to zero and then do 10,000 repeats of the 4 flip trials "
   ]
  },
  {
   "cell_type": "code",
   "execution_count": 24,
   "id": "32cedc67-5fd8-482d-ba10-cd45fa2e41e3",
   "metadata": {},
   "outputs": [
    {
     "data": {
      "text/plain": [
       "0.0608"
      ]
     },
     "execution_count": 24,
     "metadata": {},
     "output_type": "execute_result"
    }
   ],
   "source": [
    "n_all_heads = 0\n",
    "for _ in range (10000):\n",
    "    heads =rng.random(size=4) < 0.5\n",
    "    n_heads = np.sum(heads)\n",
    "    if n_heads == 4:\n",
    "        n_all_heads += 1\n",
    "        \n",
    "n_all_heads / 10000\n",
    "\n",
    "# probability of getting all four heads in all flips"
   ]
  },
  {
   "cell_type": "markdown",
   "id": "a5e8ea06-aae1-474b-9b50-afae50931873",
   "metadata": {},
   "source": [
    "# Permutation Functions in NumPy:\n",
    "REF: https://numpy.org/devdocs/reference/random/generator.html\n",
    "\n",
    "The methods for randomly permuting a sequence are\n",
    "\n",
    "shuffle(x[, axis]): Modify an array or sequence in-place by shuffling its contents.\n",
    "\n",
    "permutation(x[, axis]):Randomly permute a sequence, or return a permuted range.\n",
    "\n",
    "permuted(x[, axis, out]): Randomly permute x along axis axis.\n",
    "A permutation refers to an arrangement of elements. e.g. [3, 2, 1] is a permutation of [1, 2, 3] and vice-versa.\n",
    "\n",
    "The NumPy Random module provides two methods for this: shuffle() and permutation().[4]\n",
    "\n",
    "The main difference between Generator.shuffle and Generator.permutation is that Generator.shuffle operates in-place, while Generator.permutation returns a copy.\n",
    "\n",
    "By default, Generator.permuted returns a copy. To operate in-place with Generator.permuted, pass the same array as the first argument and as the value of the out parameter."
   ]
  },
  {
   "cell_type": "code",
   "execution_count": null,
   "id": "641b5b0e-610c-468b-8f27-613282835567",
   "metadata": {},
   "outputs": [],
   "source": [
    "rng = np.random.default_rng()\n",
    "x = np.arange(0, 15).reshape(3, 5)\n",
    "x\n"
   ]
  },
  {
   "cell_type": "code",
   "execution_count": null,
   "id": "d625804b-0ddb-4daa-bf0b-397a01b17fea",
   "metadata": {},
   "outputs": [],
   "source": [
    "y = rng.permuted(x, axis=1, out=x)\n"
   ]
  },
  {
   "cell_type": "code",
   "execution_count": null,
   "id": "119fabc4-fb3b-4e47-8d27-421832bb98e4",
   "metadata": {},
   "outputs": [],
   "source": [
    "x"
   ]
  },
  {
   "cell_type": "code",
   "execution_count": null,
   "id": "9058766f-2341-451d-a883-cbb7dfda5719",
   "metadata": {},
   "outputs": [],
   "source": [
    "y # this is the same output for x and y. "
   ]
  },
  {
   "cell_type": "code",
   "execution_count": null,
   "id": "5fdf5a32-47de-4776-871b-e871d5678075",
   "metadata": {},
   "outputs": [],
   "source": [
    "y is x"
   ]
  },
  {
   "cell_type": "markdown",
   "id": "04695c0f-b9ae-4fd8-9e10-cd6ef2138313",
   "metadata": {},
   "source": [
    "Handling the axis parameter\n",
    "An important distinction for these methods is how they handle the axis parameter. Both Generator.shuffle and Generator.permutation treat the input as a one-dimensional sequence, and the axis parameter determines which dimension of the input array to use as the sequence. In the case of a two-dimensional array, axis=0 will, in effect, rearrange the rows of the array, and axis=1 will rearrange the columns. "
   ]
  },
  {
   "cell_type": "code",
   "execution_count": null,
   "id": "864bc69f-a931-4591-8df3-fc866e6c3114",
   "metadata": {},
   "outputs": [],
   "source": [
    "rng = np.random.default_rng()\n",
    "x = np.arange(0, 15).reshape(3, 5)\n",
    "x"
   ]
  },
  {
   "cell_type": "code",
   "execution_count": null,
   "id": "60747eec-c554-43b9-a3e3-77bcffd3c5c8",
   "metadata": {},
   "outputs": [],
   "source": [
    "rng.permutation(x, axis=1)"
   ]
  },
  {
   "cell_type": "code",
   "execution_count": null,
   "id": "64ff86ac-eaf7-407d-8af5-c0c63aff7ce7",
   "metadata": {},
   "outputs": [],
   "source": [
    "rng.permutation(x, axis=0) #axis = 0 has rearranged the rows while axis = 1 will rearrange the columns. The columss have been rearranged in bulk\n",
    "#values within the columns have not changed "
   ]
  },
  {
   "cell_type": "markdown",
   "id": "5ad2433a-1837-4d89-9c33-110cfc712555",
   "metadata": {},
   "source": [
    "The method Generator.permuted treats the axis parameter similar to how numpy.sort treats it. Each slice along the given axis is shuffled independently of the others. Compare the following example of the use of Generator.permuted to the above example of Generator.permutation:"
   ]
  },
  {
   "cell_type": "code",
   "execution_count": null,
   "id": "bdce683d-f1a6-4ff5-9f4f-49be8b7eeb5c",
   "metadata": {},
   "outputs": [],
   "source": [
    "rng.permuted(x, axis=1)"
   ]
  },
  {
   "cell_type": "code",
   "execution_count": null,
   "id": "038b6ac7-d23d-4056-9385-8e1b0423559d",
   "metadata": {},
   "outputs": [],
   "source": [
    "#https://www.pythonpool.com/numpy-random-permutation/\n",
    "result = rng.permutation(9) #pass a number in as an argument for the function \n",
    "result # returns 9 integer values in an array up to the value 9 "
   ]
  },
  {
   "cell_type": "code",
   "execution_count": null,
   "id": "77dd7df1-70b0-4b8d-8269-ef5d276e6694",
   "metadata": {},
   "outputs": [],
   "source": [
    "arr= [2,5,9,8,6,8,9]\n",
    "result = rng.permutation(arr)\n",
    "result # input is an array the output is a permuted array of the numbers "
   ]
  },
  {
   "cell_type": "code",
   "execution_count": null,
   "id": "cf593955-4d0a-4eb0-9571-bd36cf59d1b4",
   "metadata": {},
   "outputs": [],
   "source": [
    "arr = np.arange(16).reshape((4,4))\n",
    "result = rng.permutation(arr)\n",
    "result # everytime you run the code you will get a different array "
   ]
  },
  {
   "cell_type": "code",
   "execution_count": null,
   "id": "e4803560-2cf4-4516-a5c3-13a17627216f",
   "metadata": {},
   "outputs": [],
   "source": [
    "arr1 = np.arange(40). reshape((10,4))\n",
    "arr = rng.permuted(arr1, axis=1)\n",
    "c,bin, ig =plt.hist(arr, 15, density =True)\n",
    "plt.show()"
   ]
  },
  {
   "cell_type": "code",
   "execution_count": null,
   "id": "b558e28d-f54f-498b-a0cf-f47b73fe2e3c",
   "metadata": {},
   "outputs": [],
   "source": [
    "arr = np.random.permutation(100)\n",
    "   \n",
    "c, bin, ig = plt.hist(arr, 15, density = True)\n",
    "plt.show()"
   ]
  },
  {
   "cell_type": "code",
   "execution_count": null,
   "id": "07609459-3a2e-41e6-a8ec-4863a767179f",
   "metadata": {},
   "outputs": [],
   "source": [
    "#https://www.bing.com/videos/search?q=numpy.random.permutation&&view=detail&mid=00F62AB43A84335434AB00F62AB43A84335434AB&&FORM=VRDGAR&ru=%2Fvideos%2Fsearch%3Fq%3Dnumpy.random.permutation%26qs%3DOS%26form%3DQBVR%26sp%3D3%26pq%3Dnumpy%2520random%2520permutation%26sk%3DHS2%26sc%3D5-24%26cvid%3DBFC1C4B64C6F46818C039948F4DFFE46\n",
    "#using the permutation function with pandas module\n",
    "import pandas as pd\n"
   ]
  },
  {
   "cell_type": "code",
   "execution_count": null,
   "id": "d197b52e-0641-4fcd-b0e5-2b4951873be7",
   "metadata": {},
   "outputs": [],
   "source": [
    "raw_data = {\"county\": [\"Cavan\", \"Meath\",\"Leitrim\",\"Dublin\",\"Kildare\",\"Louth\"], \"Rank\": [\"1st\",\"2nd\",\"3rd\",\"4th\",\"5th\",\"6th\"], \"CovidCases\":[\"26\",\"99\",\"45\",\"189\",\"145\",\"99\"]\n",
    "            , \"CovidDeaths\": [\"2\",\"4\",\"1\",\"20\",\"12\",\"8\"]}\n",
    "\n",
    "df= pd.DataFrame(raw_data, index = pd.Index ([\"A\",\"B\",\"C\",\"D\",\"E\",\"F\",], name = \"letter\"),\n",
    "                columns = pd.Index ([\"county\",\"Rank\",\"CovidCases\",\"CovidDeaths\"], name = \"attributes\"))"
   ]
  },
  {
   "cell_type": "code",
   "execution_count": null,
   "id": "be1b3570-7631-4835-8f3c-d51567b17e25",
   "metadata": {},
   "outputs": [],
   "source": [
    "df"
   ]
  },
  {
   "cell_type": "code",
   "execution_count": null,
   "id": "27f1dbed-a2e8-428a-88b8-6fd33b366c7c",
   "metadata": {},
   "outputs": [],
   "source": [
    "nrows= df.shape[0] # this will give us back the number of rows"
   ]
  },
  {
   "cell_type": "code",
   "execution_count": null,
   "id": "ed7ec4fd-4589-4f60-9b68-72f90483a883",
   "metadata": {},
   "outputs": [],
   "source": [
    "b = rng.permutation (nrows)"
   ]
  },
  {
   "cell_type": "code",
   "execution_count": null,
   "id": "6dc00313-7586-45bc-b395-5dccf0f65ed0",
   "metadata": {},
   "outputs": [],
   "source": [
    "b # will give back a permutated sequence of the number of rows in an array"
   ]
  },
  {
   "cell_type": "code",
   "execution_count": null,
   "id": "ff16222a-24c9-4849-b587-bd31eceb1935",
   "metadata": {},
   "outputs": [],
   "source": [
    "df.take(b) # takes the indices and changes the orders of the rows to the indices that we pass it"
   ]
  },
  {
   "cell_type": "code",
   "execution_count": null,
   "id": "6a83cc82-6ea9-4ff2-8163-d15bfa3b5b75",
   "metadata": {},
   "outputs": [],
   "source": [
    "df.index"
   ]
  },
  {
   "cell_type": "code",
   "execution_count": null,
   "id": "b16708df-dbcc-450c-bd53-4b3654262c03",
   "metadata": {},
   "outputs": [],
   "source": [
    "#we can randomize this list of letters \n",
    "rng.permutation(df.index)"
   ]
  },
  {
   "cell_type": "code",
   "execution_count": null,
   "id": "b3248ee8-8108-4190-a09f-53f48b48e397",
   "metadata": {},
   "outputs": [],
   "source": [
    "df.reindex(rng.permutation(df.index))"
   ]
  },
  {
   "cell_type": "code",
   "execution_count": null,
   "id": "8064dfda-7e3d-4e90-a083-f856fc893f4f",
   "metadata": {},
   "outputs": [],
   "source": [
    "df.sample(n=nrows)"
   ]
  },
  {
   "cell_type": "code",
   "execution_count": null,
   "id": "d7c664f5-7ae1-45c6-b633-edaa3307acba",
   "metadata": {},
   "outputs": [],
   "source": [
    "s = df['county']\n",
    "len(s) #length of city coulumn"
   ]
  },
  {
   "cell_type": "code",
   "execution_count": null,
   "id": "1e920604-e241-4f6e-b856-bdcbd03042fa",
   "metadata": {},
   "outputs": [],
   "source": [
    "rng.permutation(len(s))"
   ]
  },
  {
   "cell_type": "code",
   "execution_count": null,
   "id": "d2ad3cad-8103-479e-9339-41836d60606f",
   "metadata": {},
   "outputs": [],
   "source": [
    "r_entries=rng.permutation(len(s))"
   ]
  },
  {
   "cell_type": "code",
   "execution_count": null,
   "id": "9bc506be-5080-4d87-815e-de67e50b74e7",
   "metadata": {},
   "outputs": [],
   "source": [
    "df"
   ]
  },
  {
   "cell_type": "code",
   "execution_count": null,
   "id": "d152d189-88ca-456f-b63f-a43a448a6640",
   "metadata": {},
   "outputs": [],
   "source": [
    "s[r_entries]"
   ]
  },
  {
   "cell_type": "code",
   "execution_count": null,
   "id": "d6af4aba-1592-40df-ae3b-d1928a41bf4d",
   "metadata": {},
   "outputs": [],
   "source": [
    "s[r_entries].values"
   ]
  },
  {
   "cell_type": "code",
   "execution_count": null,
   "id": "ecd5c666-4ce5-4d47-95f8-7b43c6db5573",
   "metadata": {},
   "outputs": [],
   "source": [
    "df['county']=s[r_entries].values"
   ]
  },
  {
   "cell_type": "code",
   "execution_count": null,
   "id": "72236cf4-aadc-4260-aa55-09f427ee5e51",
   "metadata": {},
   "outputs": [],
   "source": [
    "df #you can see now the county column has been randomised "
   ]
  },
  {
   "cell_type": "markdown",
   "id": "64c9c3b1-ed28-45df-9423-99506c12af34",
   "metadata": {},
   "source": [
    "\n",
    "\n",
    "\n",
    "Generator.shuffle works on non-NumPy sequences. That is, if it is given a sequence that is not a NumPy array, it shuffles that sequence in-place."
   ]
  },
  {
   "cell_type": "code",
   "execution_count": null,
   "id": "c3da5006-245d-4e05-9a5e-59bc12f29da0",
   "metadata": {},
   "outputs": [],
   "source": [
    "rng = np.random.default_rng()\n",
    "a = ['A', 'B', 'C', 'D', 'E']\n",
    "rng.shuffle(a)\n",
    "a\n"
   ]
  },
  {
   "cell_type": "code",
   "execution_count": 25,
   "id": "598c09e6-7ec4-45c3-b5d3-a174b4562fef",
   "metadata": {},
   "outputs": [
    {
     "name": "stdout",
     "output_type": "stream",
     "text": [
      "Original order of the sequence is : [10 20 30 40 50 60]\n",
      "\n",
      "Output sequence obtained after shuffling is:  [20 60 40 30 10 50]\n"
     ]
    }
   ],
   "source": [
    "#https://appdividend.com/2020/06/04/numpy-random-shuffle-method-in-python/#:~:text=Numpy%20random%20shuffle%20%28%29%20The%20random.shuffle%20%28%29%20method,returns%20the%20modified%20form%20of%20the%20original%20sequence.\n",
    "\n",
    "# Making a list of integers\n",
    "samples = [10, 20, 30, 40, 50, 60]\n",
    "\n",
    "# Converting  the list into a numpy array\n",
    "seq = np.array(samples)\n",
    "\n",
    "# Printing content of original sequence\n",
    "print(\"Original order of the sequence is :\", seq)\n",
    "\n",
    "# Performing shuffling operation\n",
    "rng.shuffle(seq)\n",
    "\n",
    "# Printing the content of sequence after shuffling\n",
    "print(\"\\nOutput sequence obtained after shuffling is: \", seq)"
   ]
  },
  {
   "cell_type": "code",
   "execution_count": 26,
   "id": "decefc90-e27a-4f7d-a6b0-d66c637c4b38",
   "metadata": {},
   "outputs": [
    {
     "name": "stdout",
     "output_type": "stream",
     "text": [
      "Shape of original sequence is:  (3, 3)\n",
      "Original order of the sequence is : [[9 8 7]\n",
      " [6 5 4]\n",
      " [3 2 1]]\n",
      "\n",
      "Output sequence obtained after shuffling is:  [[3 2 1]\n",
      " [6 5 4]\n",
      " [9 8 7]]\n",
      "Shape of shuffled sequence is:  (3, 3)\n"
     ]
    }
   ],
   "source": [
    "# Making original sequence of multi-dimensional array\n",
    "seq = np.array([[9, 8, 7], [6, 5, 4], [3, 2, 1]])\n",
    "\n",
    "# Printing the shape of multi-dimensional array\n",
    "print(\"Shape of original sequence is: \", seq.shape)\n",
    "\n",
    "# Printing content of original sequence\n",
    "print(\"Original order of the sequence is :\", seq)\n",
    "\n",
    "# Performing shuffling operation\n",
    "rng.shuffle(seq)\n",
    "\n",
    "# Printing the content of sequence after shuffling\n",
    "print(\"\\nOutput sequence obtained after shuffling is: \", seq)\n",
    "print(\"Shape of shuffled sequence is: \", seq.shape)"
   ]
  },
  {
   "cell_type": "code",
   "execution_count": 36,
   "id": "30f4add1-f5a6-4ab8-be77-7038cf5bd127",
   "metadata": {},
   "outputs": [
    {
     "name": "stdout",
     "output_type": "stream",
     "text": [
      "x:\n",
      "[[[-99.83250973 -98.05890935 -99.17155066]\n",
      "  [-98.30678368 -98.9430018  -96.19089522]\n",
      "  [-95.56358046 -99.24216323 -97.45155908]]\n",
      "\n",
      " [[-96.3983241  -99.64602349 -99.79080766]\n",
      "  [-97.81693927 -97.57985769 -97.59612598]\n",
      "  [-96.32981433 -97.15254518 -98.43722871]]\n",
      "\n",
      " [[-98.25405524 -96.61395542 -96.59766239]\n",
      "  [-96.97619363 -95.66308576 -97.61754799]\n",
      "  [-95.05774578 -96.44168575 -99.40937888]]\n",
      "\n",
      " [[-95.28721909 -97.44471594 -99.54539166]\n",
      "  [-98.14418295 -95.63043134 -96.8219812 ]\n",
      "  [-99.91188886 -97.96710779 -97.67823172]]]\n",
      "\n",
      "shuffled x:\n",
      "[[[-96.3983241  -99.64602349 -99.79080766]\n",
      "  [-97.81693927 -97.57985769 -97.59612598]\n",
      "  [-96.32981433 -97.15254518 -98.43722871]]\n",
      "\n",
      " [[-98.25405524 -96.61395542 -96.59766239]\n",
      "  [-96.97619363 -95.66308576 -97.61754799]\n",
      "  [-95.05774578 -96.44168575 -99.40937888]]\n",
      "\n",
      " [[-95.28721909 -97.44471594 -99.54539166]\n",
      "  [-98.14418295 -95.63043134 -96.8219812 ]\n",
      "  [-99.91188886 -97.96710779 -97.67823172]]\n",
      "\n",
      " [[-99.83250973 -98.05890935 -99.17155066]\n",
      "  [-98.30678368 -98.9430018  -96.19089522]\n",
      "  [-95.56358046 -99.24216323 -97.45155908]]]\n"
     ]
    }
   ],
   "source": [
    "#Let us pass a 3-dimensional array to the rng.shuffle method.\n",
    "#https://www.blogarama.com/technology-blogs/1302264-likegeeks-blog/38775926-amazing-numpy-shuffle-examples\n",
    "x = 5 * rng.random((4,3,3)) - 100\n",
    "\n",
    "print(f\"x:\\n{x}\\n\")\n",
    "\n",
    "rng.shuffle(x) \n",
    "\n",
    "print(f\"shuffled x:\\n{x}\")"
   ]
  },
  {
   "cell_type": "markdown",
   "id": "30b3aa9f-52bc-4a52-a0b8-6f72540e9bf0",
   "metadata": {},
   "source": [
    "# Distributions"
   ]
  },
  {
   "attachments": {
    "349dadb9-7c5e-4eb8-a064-08939d7dcbfb.PNG": {
     "image/png": "[encoded data removed]"
    },
    "e8b1fd39-b9cc-47aa-a371-107800dd8ec7.PNG": {
     "image/png": "[encoded data removed]"
    }
   },
   "cell_type": "markdown",
   "id": "48334477-28eb-44e3-ae4b-70c9e49d3b00",
   "metadata": {},
   "source": [
    "## Binomial Distributions\n",
    "\n",
    "\n",
    "Binomial Distribution is a discrete probability distribution and it expresses the probability of a given number of successes in a sequence of n independent experiments with a known probability of success on each trial.\n",
    "\n",
    "The **probability mass function (pmf)** of binomial distribution is defined as:\n",
    "\n",
    "![Binomial Distribution Equation.PNG](attachment:e8b1fd39-b9cc-47aa-a371-107800dd8ec7.PNG)\n",
    "\n",
    "\n",
    "Binomial Distribution\n",
    "Where,\n",
    "- p is the probability of success in each trial\n",
    "- q is the probability of failure in each trial, q = 1 - p\n",
    "- n is number of trials\n",
    "- k is the number of successes which can occur anywhere among the n trials\n",
    "\n",
    "An binomial distribution has mean np and variance npq.\n",
    "\n",
    "The cumulative distribution function (cdf) evaluated at k, is the probability that the random variable (X) will take a value less than or equal to k. The cdf of binomial distribution is defined as:\n",
    "![Binomial Distribution Equation 2.PNG](attachment:349dadb9-7c5e-4eb8-a064-08939d7dcbfb.PNG)\n",
    "\n",
    "\n",
    "\n",
    "Where, [k] is the greatest integer less than or equal to k.\n",
    "\n",
    "The NumPy random.binomial() function returns random samples from a binomial distribution."
   ]
  },
  {
   "cell_type": "code",
   "execution_count": 43,
   "id": "c564664f-7d80-4096-a26c-0379cf02536f",
   "metadata": {},
   "outputs": [
    {
     "data": {
      "text/plain": [
       "array([[10,  9, 11],\n",
       "       [ 7, 12, 11],\n",
       "       [12, 14,  9],\n",
       "       [11,  8, 12],\n",
       "       [11, 10, 12]], dtype=int64)"
      ]
     },
     "execution_count": 43,
     "metadata": {},
     "output_type": "execute_result"
    }
   ],
   "source": [
    "#https://www.alphacodingskills.com/numpy/numpy-binomial-distribution.php\n",
    "\n",
    "size = (5,3)\n",
    "\n",
    "sample = rng.binomial(20, 0.5, size)\n",
    "sample"
   ]
  },
  {
   "cell_type": "code",
   "execution_count": 44,
   "id": "899c2ff2-159e-412c-a540-a93e5c4702a9",
   "metadata": {},
   "outputs": [
    {
     "data": {
      "image/png": "[encoded data removed]",
      "text/plain": [
       "<Figure size 432x288 with 1 Axes>"
      ]
     },
     "metadata": {
      "needs_background": "light"
     },
     "output_type": "display_data"
    }
   ],
   "source": [
    "#fixing the seed for reproducibility\n",
    "#of the result\n",
    "np.random.seed(10)\n",
    "\n",
    "size = 10000\n",
    "#drawing 10000 sample from \n",
    "#binomial distribution\n",
    "sample = np.random.binomial(20, 0.5, size)\n",
    "bin = np.arange(0,20,1)\n",
    "\n",
    "plt.hist(sample, bins=bin, edgecolor='blue') \n",
    "plt.title(\"Binomial Distribution\") \n",
    "plt.show()"
   ]
  },
  {
   "cell_type": "code",
   "execution_count": 46,
   "id": "dcb2749f-3756-485f-b40f-2bbea51f0053",
   "metadata": {},
   "outputs": [
    {
     "data": {
      "image/png": "[encoded data removed]",
      "text/plain": [
       "<Figure size 432x288 with 1 Axes>"
      ]
     },
     "metadata": {
      "needs_background": "light"
     },
     "output_type": "display_data"
    }
   ],
   "source": [
    "import numpy as np\n",
    "import matplotlib.pyplot as plt\n",
    "import seaborn as sns\n",
    "\n",
    "#fixing the seed for reproducibility\n",
    "#of the result\n",
    "np.random.seed(10)\n",
    "\n",
    "size = 1000\n",
    "#plotting 1000 sample from \n",
    "#different binomial distribution\n",
    "sns.kdeplot(np.random.binomial(15, 0.5, size))\n",
    "sns.kdeplot(np.random.binomial(20, 0.5, size))\n",
    "sns.kdeplot(np.random.binomial(25, 0.5, size))\n",
    "\n",
    "plt.legend([\"$n = 15, p = 0.5$\", \n",
    "            \"$n = 20, p = 0.5$\", \n",
    "            \"$n = 25, p = 0.5$\"])\n",
    "plt.show()"
   ]
  },
  {
   "cell_type": "code",
   "execution_count": 47,
   "id": "6d4013f6-cbfd-4ca2-ac12-df7f92a12755",
   "metadata": {},
   "outputs": [
    {
     "data": {
      "image/png": "[encoded data removed]",
      "text/plain": [
       "<Figure size 432x288 with 1 Axes>"
      ]
     },
     "metadata": {
      "needs_background": "light"
     },
     "output_type": "display_data"
    }
   ],
   "source": [
    "#fixing the seed for reproducibility\n",
    "#of the result\n",
    "np.random.seed(10)\n",
    "\n",
    "size = 1000\n",
    "#plotting 1000 sample from \n",
    "#different binomial distribution\n",
    "sns.ecdfplot(np.random.binomial(15, 0.5, size))\n",
    "sns.ecdfplot(np.random.binomial(20, 0.5, size))\n",
    "sns.ecdfplot(np.random.binomial(25, 0.5, size))\n",
    "\n",
    "plt.legend([\"$n = 15, p = 0.5$\", \n",
    "            \"$n = 20, p = 0.5$\", \n",
    "            \"$n = 25, p = 0.5$\"])\n",
    "plt.show()"
   ]
  },
  {
   "cell_type": "code",
   "execution_count": 48,
   "id": "2750c7ac-a142-4af8-875f-0df70c575ad3",
   "metadata": {},
   "outputs": [
    {
     "ename": "ImportError",
     "evalue": "attempted relative import with no known parent package",
     "output_type": "error",
     "traceback": [
      "\u001b[1;31m---------------------------------------------------------------------------\u001b[0m",
      "\u001b[1;31mImportError\u001b[0m                               Traceback (most recent call last)",
      "\u001b[1;32m<ipython-input-48-246792ca9eb4>\u001b[0m in \u001b[0;36m<module>\u001b[1;34m\u001b[0m\n\u001b[0;32m      1\u001b[0m \u001b[1;32mimport\u001b[0m \u001b[0mmath\u001b[0m\u001b[1;33m\u001b[0m\u001b[1;33m\u001b[0m\u001b[0m\n\u001b[0;32m      2\u001b[0m \u001b[1;32mimport\u001b[0m \u001b[0mmatplotlib\u001b[0m\u001b[1;33m.\u001b[0m\u001b[0mpyplot\u001b[0m \u001b[1;32mas\u001b[0m \u001b[0mplt\u001b[0m\u001b[1;33m\u001b[0m\u001b[1;33m\u001b[0m\u001b[0m\n\u001b[1;32m----> 3\u001b[1;33m \u001b[1;32mfrom\u001b[0m \u001b[1;33m.\u001b[0m\u001b[0mGeneraldistribution\u001b[0m \u001b[1;32mimport\u001b[0m \u001b[0mDistribution\u001b[0m\u001b[1;33m\u001b[0m\u001b[1;33m\u001b[0m\u001b[0m\n\u001b[0m\u001b[0;32m      4\u001b[0m \u001b[1;33m\u001b[0m\u001b[0m\n\u001b[0;32m      5\u001b[0m \u001b[1;32mclass\u001b[0m \u001b[0mBinomial\u001b[0m\u001b[1;33m(\u001b[0m\u001b[0mDistribution\u001b[0m\u001b[1;33m)\u001b[0m\u001b[1;33m:\u001b[0m\u001b[1;33m\u001b[0m\u001b[1;33m\u001b[0m\u001b[0m\n",
      "\u001b[1;31mImportError\u001b[0m: attempted relative import with no known parent package"
     ]
    }
   ],
   "source": []
  },
  {
   "cell_type": "code",
   "execution_count": null,
   "id": "992ea4c5-17c5-4c25-99fe-321481c9c6ab",
   "metadata": {},
   "outputs": [],
   "source": []
  },
  {
   "cell_type": "code",
   "execution_count": 42,
   "id": "95d785ff-062a-4721-a853-57c92f7f06a0",
   "metadata": {},
   "outputs": [
    {
     "data": {
      "text/plain": [
       "array([ 6,  3,  3,  3,  7,  1,  3,  3,  6,  5,  6,  7,  5,  4,  6,  3,  6,\n",
       "        7,  9,  6,  6,  4,  5,  5,  2,  4,  2,  5,  6,  4,  5,  5,  5,  6,\n",
       "        8,  5,  8,  7,  5,  5,  7,  5,  7,  4,  5,  3,  5,  5,  4,  9,  4,\n",
       "        5,  4,  2,  4,  7,  4,  8,  4,  6,  4,  5,  3,  5,  6,  4,  9,  5,\n",
       "        8,  5,  3,  6,  4,  7,  8,  5,  2,  5,  5,  7,  4,  5,  5,  4,  5,\n",
       "        4,  3,  3,  6,  4,  2,  5,  2,  6,  7,  5,  5,  6,  7,  4,  4,  5,\n",
       "        4,  2,  4,  7,  4,  2,  5,  7,  5,  7,  5,  3,  8,  8,  5,  6,  6,\n",
       "        6,  5,  5,  3,  4,  7,  8,  6,  5,  5,  3,  2,  5,  4,  6,  5,  4,\n",
       "        7,  5,  3,  7,  8,  6,  5,  7,  3,  5,  5,  7,  4,  4,  5,  6,  5,\n",
       "        3,  6,  6,  4,  4,  5,  3,  4,  4,  2,  9,  4,  6,  6,  5,  6,  2,\n",
       "        6,  5,  5,  4,  3,  5,  5,  4,  5,  5,  7,  5,  6,  6,  3,  5,  4,\n",
       "        4,  6,  6,  6,  7,  3,  7,  4,  4,  4,  7,  4,  6,  5,  4,  5,  6,\n",
       "        4,  3,  4,  4,  4,  6,  4,  3,  4,  3,  8,  5,  4,  5,  5,  7,  4,\n",
       "        4,  3,  3,  4,  5,  5,  5,  4,  5,  4,  6,  4,  5,  4,  5,  6,  3,\n",
       "        8,  5,  6,  4,  4,  7,  6,  7,  3,  4,  4,  6,  5,  7,  8,  6,  6,\n",
       "        7,  8,  5,  2,  7,  3,  4,  3,  4,  5,  6,  6,  6,  3,  3,  7,  3,\n",
       "        7,  6,  5,  8,  6,  5,  6,  4,  3,  7,  4,  3,  5,  7,  4,  5,  7,\n",
       "        7,  5,  4,  7,  6,  5,  6,  4,  6,  5,  4,  6,  7,  2,  6,  5,  4,\n",
       "        4,  5,  2,  5,  6,  5,  6,  2,  5,  7,  3,  6,  4,  3,  4,  5,  5,\n",
       "        3,  6,  5,  5,  4,  4,  3,  6,  2,  6,  6,  4,  4,  4,  5,  4,  8,\n",
       "        2,  6,  7,  5,  6,  5,  7,  6,  8,  4,  4,  4,  6,  5,  4,  4,  6,\n",
       "        6,  5,  6,  4,  5,  3,  7,  4,  5,  4,  4,  3,  4,  4,  8,  7,  5,\n",
       "        4,  5,  6,  2,  6,  6,  3,  7,  4,  5,  4,  4,  1,  6,  8,  6,  5,\n",
       "        3,  5,  7,  6,  5,  5,  8,  4,  6,  5,  3,  4,  6,  6,  2,  6,  5,\n",
       "        6,  6,  3,  0,  4,  5,  4,  7,  3,  6,  5,  3,  6,  8,  6,  5,  2,\n",
       "        3,  6,  4,  6,  7,  6,  2,  3,  9,  2,  7,  3,  4,  2,  4,  5,  6,\n",
       "        6,  5,  3,  4,  6,  7,  8,  4,  6,  4,  5,  6,  5,  5,  3,  4,  6,\n",
       "        6,  6,  2,  4,  5,  9,  4,  6,  4,  7,  3,  5,  5,  6,  5,  6,  2,\n",
       "        4,  4,  6,  4,  5,  4,  6,  7,  4,  7,  7,  5,  6,  3,  6,  2,  5,\n",
       "        2,  5,  6,  5,  7,  4,  5,  5,  7,  4,  5,  6,  4,  5,  4,  3,  6,\n",
       "        5,  6,  3,  4,  4,  4,  5,  5,  5,  7,  7,  5,  6,  5,  2,  5,  5,\n",
       "        6,  5,  5,  4,  4,  7,  2,  5,  5,  7,  6,  8,  3,  8,  4,  4,  5,\n",
       "        5,  3,  9,  5,  5,  4,  6,  5,  5,  8,  4,  6,  5,  6,  7,  3,  3,\n",
       "        6,  5,  2,  6,  6,  8,  4,  8,  7,  3,  3,  6,  3,  9,  4,  2,  6,\n",
       "        3,  5,  4,  7,  6,  7,  6,  8,  6,  3,  2,  4,  2,  4,  9,  5,  5,\n",
       "        8,  5,  4,  6,  5,  6,  4,  4,  6,  2,  8,  8,  4,  4,  5,  6,  4,\n",
       "        5,  5,  2,  4,  6,  3,  1,  3,  4,  5,  4,  6,  5,  5,  6,  5,  4,\n",
       "        5,  5,  6,  5,  6,  5,  6,  2,  6,  5,  4,  3,  5,  5,  7,  5,  6,\n",
       "        5,  5,  4,  7,  4,  5,  3,  3,  6,  3,  5,  4,  4,  6,  6,  3,  4,\n",
       "        7,  5,  5,  5,  5,  2,  3,  6,  7,  3,  8,  5,  3,  7,  4,  7,  3,\n",
       "        5,  5,  6,  5,  5,  3,  7,  5,  3,  3,  8,  7,  6,  4,  4,  7,  3,\n",
       "        5,  4,  1,  5,  4,  6,  5,  6,  6,  3,  5,  3,  7,  4,  7,  3,  6,\n",
       "        6,  5,  6,  6,  3,  7,  6,  4,  6,  6,  2,  4,  8,  2,  2,  5,  7,\n",
       "        4,  5,  6,  6,  5,  5,  5,  5,  5,  3,  4,  4,  4,  5,  6,  3,  5,\n",
       "        7,  4,  4,  5,  6,  7,  6,  6,  6,  8,  5,  5,  5,  6,  4,  6,  5,\n",
       "        5,  1,  7,  6,  5,  2,  6,  3,  6,  6,  5,  4,  5,  6,  6,  8,  5,\n",
       "        3,  3,  5,  6,  5,  5,  6,  3,  7,  7,  7,  4,  6,  6,  5,  5,  2,\n",
       "        4,  6,  6,  3,  4,  4,  7,  7,  6,  2,  1,  4,  7,  5,  5,  4,  4,\n",
       "        5,  8,  4,  5,  7,  4,  6,  5,  6,  5,  3,  4,  8,  5,  3,  4,  8,\n",
       "        4,  8,  2,  6,  6,  6,  6,  5,  4,  4,  7,  5,  3,  5,  3,  7,  7,\n",
       "        4,  7,  4,  4,  3,  4,  5,  6,  7,  3,  5,  7,  3,  6,  5,  4,  7,\n",
       "        4,  6,  2,  6,  7,  5,  6,  8,  5,  2,  4,  5,  4,  6,  4,  3,  3,\n",
       "        6,  7,  5,  4,  4,  9,  2,  6,  5,  6,  2,  2,  4,  9,  7,  4,  8,\n",
       "        6,  4,  8,  3,  4,  5,  2,  4,  6,  5,  5,  5,  4,  4,  8,  5,  5,\n",
       "        4,  3,  6, 10,  4,  7,  6,  3,  3,  4,  3,  2,  5,  7,  5,  5,  3,\n",
       "        2,  3,  6,  5,  5,  5,  8,  7,  8,  3,  5,  7,  5,  3,  2,  5,  6,\n",
       "        4,  9,  6,  3,  4,  3,  4,  5,  7,  8,  8,  3,  6,  4,  5,  7,  6,\n",
       "        6,  6,  5,  4,  4,  4,  5,  3,  5,  3,  5,  6,  4,  5,  3,  3,  5,\n",
       "        9,  6,  4,  5,  6,  5,  4,  5,  4,  3,  6,  7,  5,  6],\n",
       "      dtype=int64)"
      ]
     },
     "execution_count": 42,
     "metadata": {},
     "output_type": "execute_result"
    }
   ],
   "source": [
    "rng = np.random.default_rng()\n",
    "n, p = 10, .5  # number of trials, probability of each trial\n",
    "s = rng.binomial(n, p, 1000)\n",
    "s"
   ]
  },
  {
   "cell_type": "code",
   "execution_count": null,
   "id": "d4ce028f-95b9-44d2-aa82-11d462af6d78",
   "metadata": {},
   "outputs": [],
   "source": []
  },
  {
   "cell_type": "code",
   "execution_count": null,
   "id": "480ce179-8610-421a-9993-5f53971d0112",
   "metadata": {},
   "outputs": [],
   "source": []
  },
  {
   "cell_type": "code",
   "execution_count": null,
   "id": "0606c0bd-d102-4972-aa68-4f12749d48f4",
   "metadata": {},
   "outputs": [],
   "source": []
  },
  {
   "cell_type": "code",
   "execution_count": null,
   "id": "89c315d2-e4c5-40ad-b9d0-ce8f0a45e62f",
   "metadata": {},
   "outputs": [],
   "source": []
  },
  {
   "cell_type": "code",
   "execution_count": null,
   "id": "22d3b62e-a023-4cfa-b5cd-f9a42c7a0487",
   "metadata": {},
   "outputs": [],
   "source": []
  },
  {
   "cell_type": "code",
   "execution_count": null,
   "id": "b9c1e28d-e842-48bc-99e6-37993087fca2",
   "metadata": {},
   "outputs": [],
   "source": []
  },
  {
   "cell_type": "code",
   "execution_count": null,
   "id": "18a72227-ed8e-41e6-990b-8d2ab5f65a68",
   "metadata": {},
   "outputs": [],
   "source": []
  },
  {
   "cell_type": "code",
   "execution_count": null,
   "id": "ef46b343-067a-49bb-b041-81af25c82488",
   "metadata": {},
   "outputs": [],
   "source": []
  },
  {
   "cell_type": "code",
   "execution_count": null,
   "id": "27e5c874-b064-40d0-933d-e00a9c728fb3",
   "metadata": {},
   "outputs": [],
   "source": []
  },
  {
   "cell_type": "code",
   "execution_count": null,
   "id": "57f38a43-5933-44cd-aa3b-005d5755521e",
   "metadata": {},
   "outputs": [],
   "source": []
  },
  {
   "cell_type": "code",
   "execution_count": null,
   "id": "ba591e13-3151-4a70-ab1d-a82cf7b2734f",
   "metadata": {},
   "outputs": [],
   "source": []
  },
  {
   "cell_type": "code",
   "execution_count": null,
   "id": "09231d6b-690e-49a5-b142-0a5753316026",
   "metadata": {},
   "outputs": [],
   "source": []
  },
  {
   "cell_type": "code",
   "execution_count": null,
   "id": "69d28039-dbf6-4ca3-b898-c563c05650b5",
   "metadata": {},
   "outputs": [],
   "source": []
  },
  {
   "cell_type": "code",
   "execution_count": null,
   "id": "287f93dd-57b5-4a45-b6db-295af0520d12",
   "metadata": {},
   "outputs": [],
   "source": []
  },
  {
   "cell_type": "markdown",
   "id": "6b2dfc9e-b490-457d-a953-f1b077db5ab8",
   "metadata": {},
   "source": [
    "## Backround Information on NumPy (5)\n",
    "\n",
    "https://www.youtube.com/watch?v=ZB7BZMhfPgk Introduction to Numerical Computing with NumPy | SciPy 2019 Tutorial 1.13.00\n"
   ]
  },
  {
   "cell_type": "code",
   "execution_count": null,
   "id": "020d7844-5579-4997-989c-f2c020dacbd8",
   "metadata": {},
   "outputs": [],
   "source": []
  },
  {
   "cell_type": "code",
   "execution_count": null,
   "id": "43063ec8-99fe-4bed-a87a-0d098565e8c5",
   "metadata": {},
   "outputs": [],
   "source": []
  },
  {
   "cell_type": "markdown",
   "id": "bdd320b4-80ce-4fee-9855-34197e820c5e",
   "metadata": {},
   "source": [
    "### References:\n",
    "[1](https://numpy.org/devdocs/user/whatisnumpy.html)\n",
    "[2](https://numpy.org/doc/stable/reference/random/generated/numpy.random.Generator.shuffle.html)\n",
    "[3](https://www.datacamp.com/community/tutorials/numpy-random)\n",
    "[4](https://www.w3schools.com/python/numpy/numpy_random_permutation.asp)\n",
    "[5](https://www.youtube.com/watch?v=ZB7BZMhfPgk)\n",
    "[6](https://numpy.org/devdocs/reference/random/index.html)"
   ]
  },
  {
   "cell_type": "code",
   "execution_count": null,
   "id": "d8b5c402-fef5-40be-90ed-30d4c20b96ae",
   "metadata": {},
   "outputs": [],
   "source": []
  }
 ],
 "metadata": {
  "kernelspec": {
   "display_name": "Python 3",
   "language": "python",
   "name": "python3"
  },
  "language_info": {
   "codemirror_mode": {
    "name": "ipython",
    "version": 3
   },
   "file_extension": ".py",
   "mimetype": "text/x-python",
   "name": "python",
   "nbconvert_exporter": "python",
   "pygments_lexer": "ipython3",
   "version": "3.8.8"
  }
 },
 "nbformat": 4,
 "nbformat_minor": 5
}
